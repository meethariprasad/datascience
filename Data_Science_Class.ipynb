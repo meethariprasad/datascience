{
  "nbformat": 4,
  "nbformat_minor": 0,
  "metadata": {
    "colab": {
      "name": "Data Science Class.ipynb",
      "version": "0.3.2",
      "provenance": [],
      "collapsed_sections": [
        "uVISCA4kKQaI",
        "d12wbZf8H3uM",
        "7cVH_bnULqn8",
        "-i9bHFiLj3xJ",
        "MA7lgZnVjxej",
        "Aq7yZ4HNLHXN",
        "zw33u4nOAeBO",
        "Fl5hJjBL9gDc",
        "KQpWT7vb9unM",
        "AmZssFS3ySP8",
        "RQci4hU4h7qt",
        "Bhydwr_wFfzb",
        "_L9SGppyFng2",
        "uHdCDe5VovWG",
        "wZFDDVuYFzuA",
        "TrKsyxlEF982",
        "Sgm5rKTElXpw",
        "2JsmchpnGKJA",
        "Tf2dL9s0GVHh",
        "YmorX2RrasA3",
        "mpB2YU0XGyBN",
        "9PXpitVLG34P",
        "2eSNqZ8BLqsh"
      ]
    },
    "kernelspec": {
      "display_name": "Python 3",
      "language": "python",
      "name": "python3"
    }
  },
  "cells": [
    {
      "cell_type": "markdown",
      "metadata": {
        "id": "view-in-github",
        "colab_type": "text"
      },
      "source": [
        "[View in Colaboratory](https://colab.research.google.com/github/meethariprasad/datascience/blob/master/Data_Science_Class.ipynb)"
      ]
    },
    {
      "metadata": {
        "id": "FcNzuu6MLqn7",
        "colab_type": "text"
      },
      "cell_type": "markdown",
      "source": [
        "# Data Science Notebook.\n",
        "\n",
        "* **Who created this notebook and for whom?**\n",
        "* This is Hari Prasad and I am creating this notebook for the learning purpose of beginers.\n",
        "* Any beginner, even if he has no clue about Python/Data Science.\n",
        "---\n",
        "\n",
        "* **Why this is created?**\n",
        "* Structure and Intention of this notebook is simple: Theory, immediately followed by practical. All in one place!\n",
        "* It is difficult to get all the good things in one place! Even if you google! Same holds true for Data Science Materials. There are lot of materials out there for to follow and also we have problem of not having theory and practical in one place. That is why this notebook has been created\n",
        "---\n",
        "* **How to run this notebook?**\n",
        "* Step 1: Create:  Create a Gmail Account(If you don't have one still! :-) )\n",
        "* Step 2: Click: Click on View In Collaboratory Link Above or [Click here](https://colab.research.google.com/github/meethariprasad/datascience/blob/master/Data_Science_Class.ipynb). Click on Connect in Top Right and Sign In with your GMail Account.\n",
        "* Step 3: Execute: Click on any cell and hit ctrl+enter to run the cell. That's it!\n",
        "* Step 4: Learn & Practice: Watch theory videos to learn the concepts and run code below to learn practical! That's it! Save a copy in your drive if you want a local copy and edit.\n",
        "---\n",
        " \n",
        "* **I thank all wonderful video creators for spreading knowledge and being inspiration!**"
      ]
    },
    {
      "metadata": {
        "id": "uVISCA4kKQaI",
        "colab_type": "text"
      },
      "cell_type": "markdown",
      "source": [
        "##Python Basics\n",
        "If you have no clue about Python or programming language watch this simple tutorial series. It is multivideo series so please watch all videos in youtube."
      ]
    },
    {
      "metadata": {
        "id": "8hwA7Ub-KFnL",
        "colab_type": "code",
        "colab": {
          "base_uri": "https://localhost:8080/",
          "height": 336
        },
        "outputId": "c1236544-9930-4731-e875-fe4682ef688c"
      },
      "cell_type": "code",
      "source": [
        "from IPython.display import HTML\n",
        "HTML('<iframe width=\"560\" height=\"315\" src=\"https://www.youtube.com/embed/Z1Yd7upQsXY\" frameborder=\"0\" allow=\"autoplay; encrypted-media\" allowfullscreen></iframe>')"
      ],
      "execution_count": 0,
      "outputs": [
        {
          "output_type": "execute_result",
          "data": {
            "text/html": [
              "<iframe width=\"560\" height=\"315\" src=\"https://www.youtube.com/embed/Z1Yd7upQsXY\" frameborder=\"0\" allow=\"autoplay; encrypted-media\" allowfullscreen></iframe>"
            ],
            "text/plain": [
              "<IPython.core.display.HTML object>"
            ]
          },
          "metadata": {
            "tags": []
          },
          "execution_count": 2
        }
      ]
    },
    {
      "metadata": {
        "id": "VKL1Y2u44hj9",
        "colab_type": "text"
      },
      "cell_type": "markdown",
      "source": [
        "**Interview Questions**\n",
        "\n",
        "https://www.tutorialspoint.com/python/python_interview_questions.htm"
      ]
    },
    {
      "metadata": {
        "id": "d12wbZf8H3uM",
        "colab_type": "text"
      },
      "cell_type": "markdown",
      "source": [
        "##Data Science Process Followed"
      ]
    },
    {
      "metadata": {
        "id": "IRzSrTMuH6wN",
        "colab_type": "code",
        "colab": {
          "base_uri": "https://localhost:8080/",
          "height": 336
        },
        "outputId": "2838d5de-0ee1-44f1-db4b-0e28ef2e0f27"
      },
      "cell_type": "code",
      "source": [
        "HTML('<iframe width=\"560\" height=\"315\" src=\"https://www.youtube.com/embed/nKW8Ndu7Mjw\" frameborder=\"0\" allow=\"autoplay; encrypted-media\" allowfullscreen></iframe>')"
      ],
      "execution_count": 0,
      "outputs": [
        {
          "output_type": "execute_result",
          "data": {
            "text/html": [
              "<iframe width=\"560\" height=\"315\" src=\"https://www.youtube.com/embed/nKW8Ndu7Mjw\" frameborder=\"0\" allow=\"autoplay; encrypted-media\" allowfullscreen></iframe>"
            ],
            "text/plain": [
              "<IPython.core.display.HTML object>"
            ]
          },
          "metadata": {
            "tags": []
          },
          "execution_count": 3
        }
      ]
    },
    {
      "metadata": {
        "id": "imeXavdyINg4",
        "colab_type": "text"
      },
      "cell_type": "markdown",
      "source": [
        "1. Gathering data\n",
        "2. Preparing that data\n",
        "3. Modeling\n",
        "  3. Choosing a model\n",
        "  4. Training\n",
        "  5. Evaluation\n",
        "  6. Hyperparameter tuning\n",
        "  7. Prediction.\n",
        "\n"
      ]
    },
    {
      "metadata": {
        "id": "7cVH_bnULqn8",
        "colab_type": "text"
      },
      "cell_type": "markdown",
      "source": [
        "## 1. Gathering Data\n",
        "\n"
      ]
    },
    {
      "metadata": {
        "id": "aG1reRlneWZi",
        "colab_type": "text"
      },
      "cell_type": "markdown",
      "source": [
        "The Iris flower data set or Fisher's Iris data set is a multivariate data set introduced by the British statistician and biologist Ronald Fisher in his 1936 paper The use of multiple measurements in taxonomic problems as an example of linear discriminant analysis. It is sometimes called Anderson's Iris data set because Edgar Anderson collected the data to quantify the morphologic variation of Iris flowers of three related species. Two of the three species were collected in the Gaspé Peninsula \"all from the same pasture, and picked on the same day and measured at the same time by the same person with the same apparatus\".\n",
        "\n",
        "The data set consists of 50 samples from each of three species of Iris (Iris setosa, Iris virginica and Iris versicolor). Four features were measured from each sample: the length and the width of the sepals and petals, in centimetres. Based on the combination of these four features, Fisher developed a linear discriminant model to distinguish the species from each other."
      ]
    },
    {
      "metadata": {
        "id": "lpKzdKvNeiO7",
        "colab_type": "text"
      },
      "cell_type": "markdown",
      "source": [
        "Source: https://en.wikipedia.org/wiki/Iris_flower_data_set"
      ]
    },
    {
      "metadata": {
        "id": "UYOa0bl5cLeg",
        "colab_type": "text"
      },
      "cell_type": "markdown",
      "source": [
        "Iris Flower Images. I have stored them in https://github.com/meethariprasad/phd/raw/master/datascience/class_files.zip\n"
      ]
    },
    {
      "metadata": {
        "id": "k9a0qtalLqn9",
        "colab_type": "code",
        "colab": {
          "base_uri": "https://localhost:8080/",
          "height": 514
        },
        "outputId": "d600acd8-694b-4eb4-e237-d5853a599374"
      },
      "cell_type": "code",
      "source": [
        "import requests, zipfile, io, os\n",
        "#https://github.com/meethariprasad/phd/raw/master/assignments/NLP/Translation/hin.zip\n",
        "r = requests.get(\"https://github.com/meethariprasad/phd/raw/master/datascience/class_files.zip\")\n",
        "z = zipfile.ZipFile(io.BytesIO(r.content))\n",
        "z.extractall()\n",
        "#os.listdir()\n",
        "from IPython.display import Image\n",
        "PATH = os.getcwd()\n",
        "PATH=PATH+\"/\"\n",
        "Image(filename = PATH + \"iris.png\")"
      ],
      "execution_count": 0,
      "outputs": [
        {
          "output_type": "execute_result",
          "data": {
            "image/png": "[encoded data removed]",
            "text/plain": [
              "<IPython.core.display.Image object>"
            ]
          },
          "metadata": {
            "tags": []
          },
          "execution_count": 4
        }
      ]
    },
    {
      "metadata": {
        "id": "0dPS3Cwx8lBl",
        "colab_type": "text"
      },
      "cell_type": "markdown",
      "source": [
        "**Basics of Pandas for the beginers. Thanks to Google!**"
      ]
    },
    {
      "metadata": {
        "id": "EwL5sqt18O3H",
        "colab_type": "code",
        "colab": {
          "base_uri": "https://localhost:8080/",
          "height": 336
        },
        "outputId": "148982f4-9cdd-4380-9f9d-e763cf374aa7"
      },
      "cell_type": "code",
      "source": [
        "from IPython.display import HTML\n",
        "HTML('<iframe width=\"560\" height=\"315\" src=\"https://www.youtube.com/embed/XDAnFZqJDvI\" frameborder=\"0\" allow=\"autoplay; encrypted-media\" allowfullscreen></iframe>')"
      ],
      "execution_count": 0,
      "outputs": [
        {
          "output_type": "execute_result",
          "data": {
            "text/html": [
              "<iframe width=\"560\" height=\"315\" src=\"https://www.youtube.com/embed/XDAnFZqJDvI\" frameborder=\"0\" allow=\"autoplay; encrypted-media\" allowfullscreen></iframe>"
            ],
            "text/plain": [
              "<IPython.core.display.HTML object>"
            ]
          },
          "metadata": {
            "tags": []
          },
          "execution_count": 5
        }
      ]
    },
    {
      "metadata": {
        "id": "-i9bHFiLj3xJ",
        "colab_type": "text"
      },
      "cell_type": "markdown",
      "source": [
        "###Load Libraries"
      ]
    },
    {
      "metadata": {
        "id": "34G9WWyvn7gk",
        "colab_type": "code",
        "colab": {}
      },
      "cell_type": "code",
      "source": [
        "import numpy as np\n",
        "import pandas as pd\n",
        "import matplotlib.pyplot as plt\n",
        "import seaborn as sns\n",
        "from matplotlib import pyplot as plt\n",
        "%matplotlib inline"
      ],
      "execution_count": 0,
      "outputs": []
    },
    {
      "metadata": {
        "id": "MA7lgZnVjxej",
        "colab_type": "text"
      },
      "cell_type": "markdown",
      "source": [
        "##2. Preparing that data"
      ]
    },
    {
      "metadata": {
        "id": "-7kLcRH-8Z-J",
        "colab_type": "code",
        "colab": {}
      },
      "cell_type": "code",
      "source": [
        "from sklearn import datasets\n",
        "iris = datasets.load_iris()\n",
        "df = pd.DataFrame(iris.data, columns=iris.feature_names)"
      ],
      "execution_count": 0,
      "outputs": []
    },
    {
      "metadata": {
        "id": "BlnNvTBxlo_p",
        "colab_type": "code",
        "colab": {}
      },
      "cell_type": "code",
      "source": [
        "# sklearn provides the iris species as integer values since this is required for classification\n",
        "# here we're just adding a column with the species names to the dataframe for visualisation\n",
        "df['species'] = np.array([iris.target_names[i] for i in iris.target])"
      ],
      "execution_count": 0,
      "outputs": []
    },
    {
      "metadata": {
        "id": "lH5NxLEonMHg",
        "colab_type": "text"
      },
      "cell_type": "markdown",
      "source": [
        "###Preparing Data\n"
      ]
    },
    {
      "metadata": {
        "id": "as2mmxAfkvyz",
        "colab_type": "text"
      },
      "cell_type": "markdown",
      "source": [
        "**Descriptive Analysis**\n",
        "\n",
        "Ask some questions to data to understand the data."
      ]
    },
    {
      "metadata": {
        "id": "1GR-eROZMiYI",
        "colab_type": "text"
      },
      "cell_type": "markdown",
      "source": [
        "**How many rows and columns are there in the data?**\n",
        "\n",
        "Action Items:\n",
        "\n",
        "*   Is it too less rows? Collect more data.\n",
        "*   Is it too many rows to handle in memory? Think of infrastructure changes needed. How about designing stratergy to go for train in batches?\n",
        "*   Too less columns? Collect More features\n",
        "*   Too many columns? First think if you think some columns are redundant based on domain knowledge, write down your reasoning and remove them. Still too many columns? Think about dimensionality reduction.\n",
        "\n",
        "\n",
        "\n",
        "\n",
        "\n",
        "\n",
        "\n",
        "\n",
        "\n"
      ]
    },
    {
      "metadata": {
        "id": "S8QWl5InMtu2",
        "colab_type": "code",
        "colab": {
          "base_uri": "https://localhost:8080/",
          "height": 34
        },
        "outputId": "c83c44df-0558-43c1-d2cf-275ea3b3abc0"
      },
      "cell_type": "code",
      "source": [
        "print(\"Rows in data:\",df.shape[0],\"Columns in Data:\",df.shape[1])"
      ],
      "execution_count": 0,
      "outputs": [
        {
          "output_type": "stream",
          "text": [
            "Rows in data: 150 Columns in Data: 5\n"
          ],
          "name": "stdout"
        }
      ]
    },
    {
      "metadata": {
        "id": "w_ACbGTZlzz0",
        "colab_type": "text"
      },
      "cell_type": "markdown",
      "source": [
        "**What are the column names & data types of columns? **\n",
        "\n",
        "Action Items:\n",
        "*  Do we need to change column name? change them to simple column names.\n",
        "*   Do we need to change the data types of columns? Better to keep everything in to numerics. If they are not convert it.: df[['colname1', 'colname2']] = df[['colname1', 'colname2']].astype(float). \n",
        "*  Do we have a string based categorical column? Change it to codes.pd.Categorical(df.cc)\n",
        "\n"
      ]
    },
    {
      "metadata": {
        "id": "UkxYuTwZwf_s",
        "colab_type": "code",
        "colab": {
          "base_uri": "https://localhost:8080/",
          "height": 68
        },
        "outputId": "aa170e15-64f8-4837-c017-0e256f400005"
      },
      "cell_type": "code",
      "source": [
        "df.columns"
      ],
      "execution_count": 0,
      "outputs": [
        {
          "output_type": "execute_result",
          "data": {
            "text/plain": [
              "Index(['sepal length (cm)', 'sepal width (cm)', 'petal length (cm)',\n",
              "       'petal width (cm)', 'species'],\n",
              "      dtype='object')"
            ]
          },
          "metadata": {
            "tags": []
          },
          "execution_count": 10
        }
      ]
    },
    {
      "metadata": {
        "id": "FBDxjJo7XCqw",
        "colab_type": "code",
        "colab": {}
      },
      "cell_type": "code",
      "source": [
        "#Change columns to simpler ones\n",
        "df.rename(columns={df.columns[0]: 'slen',df.columns[1]: 'swidth',df.columns[2]: 'plen',df.columns[3]: 'pwidth'}, inplace=True)"
      ],
      "execution_count": 0,
      "outputs": []
    },
    {
      "metadata": {
        "id": "-I1xrIAGlvhZ",
        "colab_type": "code",
        "colab": {
          "base_uri": "https://localhost:8080/",
          "height": 119
        },
        "outputId": "59538fd2-1fa2-4833-ab22-0270729c59d1"
      },
      "cell_type": "code",
      "source": [
        "#Change Datatype if required\n",
        "print(df.dtypes)"
      ],
      "execution_count": 0,
      "outputs": [
        {
          "output_type": "stream",
          "text": [
            "slen       float64\n",
            "swidth     float64\n",
            "plen       float64\n",
            "pwidth     float64\n",
            "species     object\n",
            "dtype: object\n"
          ],
          "name": "stdout"
        }
      ]
    },
    {
      "metadata": {
        "id": "oaSn5X6YwF8f",
        "colab_type": "code",
        "colab": {
          "base_uri": "https://localhost:8080/",
          "height": 119
        },
        "outputId": "23447289-dd1c-4766-a6c5-6fb989fb49d2"
      },
      "cell_type": "code",
      "source": [
        "df.species=pd.Categorical(df.species)\n",
        "print(df.dtypes)\n",
        "df.species=df.species.cat.codes\n",
        "#It converts to int. So maintaining Category Datatype as is.\n",
        "df.species=pd.Categorical(df.species)"
      ],
      "execution_count": 0,
      "outputs": [
        {
          "output_type": "stream",
          "text": [
            "slen        float64\n",
            "swidth      float64\n",
            "plen        float64\n",
            "pwidth      float64\n",
            "species    category\n",
            "dtype: object\n"
          ],
          "name": "stdout"
        }
      ]
    },
    {
      "metadata": {
        "id": "Xn5A2q6ZlfjH",
        "colab_type": "text"
      },
      "cell_type": "markdown",
      "source": [
        " **What is the count of missing values in each column?**\n",
        " \n",
        " Action point:\n",
        " \n",
        " \n",
        "\n",
        "1.   Have you found too many missing values in a column, say more than 30%? Is it even worth to consider the column?\n",
        "2.  If less than  30% think about imputing stratergies to implement? How about using random forest based predictive imputation like missforest? Note: As of now we don't have known python library to do that. Think about: https://pandas.pydata.org/pandas-docs/stable/r_interface.html in case you want to use r library in python.\n",
        "Following material is good and simple on missing value handling in python.\n",
        "https://chrisalbon.com/python/data_wrangling/pandas_missing_data/\n"
      ]
    },
    {
      "metadata": {
        "id": "SLoTUOvzJiFN",
        "colab_type": "code",
        "colab": {
          "base_uri": "https://localhost:8080/",
          "height": 353
        },
        "outputId": "c9d95f33-3829-4fa8-f94a-ef8a3984a8d2"
      },
      "cell_type": "code",
      "source": [
        "print(\"Watch this to understand advanced methods for missing data imputation and their pros/cons:\")\n",
        "HTML('<iframe width=\"560\" height=\"315\" src=\"https://www.youtube.com/embed/QAvSj2TWZy0\" frameborder=\"0\" allow=\"autoplay; encrypted-media\" allowfullscreen></iframe>')"
      ],
      "execution_count": 0,
      "outputs": [
        {
          "output_type": "stream",
          "text": [
            "Watch this to understand advanced methods for missing data imputation and their pros/cons:\n"
          ],
          "name": "stdout"
        },
        {
          "output_type": "execute_result",
          "data": {
            "text/html": [
              "<iframe width=\"560\" height=\"315\" src=\"https://www.youtube.com/embed/QAvSj2TWZy0\" frameborder=\"0\" allow=\"autoplay; encrypted-media\" allowfullscreen></iframe>"
            ],
            "text/plain": [
              "<IPython.core.display.HTML object>"
            ]
          },
          "metadata": {
            "tags": []
          },
          "execution_count": 14
        }
      ]
    },
    {
      "metadata": {
        "id": "iGjjIHz4gP-a",
        "colab_type": "code",
        "colab": {
          "base_uri": "https://localhost:8080/",
          "height": 136
        },
        "outputId": "12c2df5a-7cac-4ef9-888c-5dfc88e3177f"
      },
      "cell_type": "code",
      "source": [
        "print(\"Count of the Null Values in each column \\n\",df.isnull().sum())"
      ],
      "execution_count": 0,
      "outputs": [
        {
          "output_type": "stream",
          "text": [
            "Count of the Null Values in each column \n",
            " slen       0\n",
            "swidth     0\n",
            "plen       0\n",
            "pwidth     0\n",
            "species    0\n",
            "dtype: int64\n"
          ],
          "name": "stdout"
        }
      ]
    },
    {
      "metadata": {
        "id": "dUB8KheXl56i",
        "colab_type": "text"
      },
      "cell_type": "markdown",
      "source": [
        "**Plots**"
      ]
    },
    {
      "metadata": {
        "id": "eNekPktjk_HK",
        "colab_type": "code",
        "colab": {
          "base_uri": "https://localhost:8080/",
          "height": 926
        },
        "outputId": "548a1c80-dc84-471d-9a56-81e70aa3aac4"
      },
      "cell_type": "code",
      "source": [
        "sns.pairplot(df, hue='species')"
      ],
      "execution_count": 0,
      "outputs": [
        {
          "output_type": "execute_result",
          "data": {
            "text/plain": [
              "<seaborn.axisgrid.PairGrid at 0x7f6eaaa90d68>"
            ]
          },
          "metadata": {
            "tags": []
          },
          "execution_count": 16
        },
        {
          "output_type": "display_data",
          "data": {
            "image/png": "[encoded data removed]",
            "text/plain": [
              "<matplotlib.figure.Figure at 0x7f6eaaa90e10>"
            ]
          },
          "metadata": {
            "tags": []
          }
        }
      ]
    },
    {
      "metadata": {
        "id": "KtYAAoC-mVNW",
        "colab_type": "text"
      },
      "cell_type": "markdown",
      "source": [
        "**Analysis Based on Plot above**"
      ]
    },
    {
      "metadata": {
        "id": "zXLYMAPCmaS1",
        "colab_type": "text"
      },
      "cell_type": "markdown",
      "source": [
        "### Analysis: \n",
        "1. Can you see that setosa is clearely stands out from rest? In fact you can get 100% accuracy to identify Setosa, even doing manual seperation!\n",
        "\n",
        "2.  There is overlap between \"V\" species, that too it is minor, So it shows we can have classifiers seperating the classes with good accuracy\n"
      ]
    },
    {
      "metadata": {
        "id": "jimfEcdZmfhZ",
        "colab_type": "text"
      },
      "cell_type": "markdown",
      "source": [
        "**Statistical Analysis**"
      ]
    },
    {
      "metadata": {
        "id": "bIygxKukmTTU",
        "colab_type": "code",
        "colab": {
          "base_uri": "https://localhost:8080/",
          "height": 297
        },
        "outputId": "51b7308a-5b52-4c7d-f2fa-3964daf9c71a"
      },
      "cell_type": "code",
      "source": [
        "df.describe()"
      ],
      "execution_count": 0,
      "outputs": [
        {
          "output_type": "execute_result",
          "data": {
            "text/html": [
              "<div>\n",
              "<style scoped>\n",
              "    .dataframe tbody tr th:only-of-type {\n",
              "        vertical-align: middle;\n",
              "    }\n",
              "\n",
              "    .dataframe tbody tr th {\n",
              "        vertical-align: top;\n",
              "    }\n",
              "\n",
              "    .dataframe thead th {\n",
              "        text-align: right;\n",
              "    }\n",
              "</style>\n",
              "<table border=\"1\" class=\"dataframe\">\n",
              "  <thead>\n",
              "    <tr style=\"text-align: right;\">\n",
              "      <th></th>\n",
              "      <th>slen</th>\n",
              "      <th>swidth</th>\n",
              "      <th>plen</th>\n",
              "      <th>pwidth</th>\n",
              "    </tr>\n",
              "  </thead>\n",
              "  <tbody>\n",
              "    <tr>\n",
              "      <th>count</th>\n",
              "      <td>150.000000</td>\n",
              "      <td>150.000000</td>\n",
              "      <td>150.000000</td>\n",
              "      <td>150.000000</td>\n",
              "    </tr>\n",
              "    <tr>\n",
              "      <th>mean</th>\n",
              "      <td>5.843333</td>\n",
              "      <td>3.054000</td>\n",
              "      <td>3.758667</td>\n",
              "      <td>1.198667</td>\n",
              "    </tr>\n",
              "    <tr>\n",
              "      <th>std</th>\n",
              "      <td>0.828066</td>\n",
              "      <td>0.433594</td>\n",
              "      <td>1.764420</td>\n",
              "      <td>0.763161</td>\n",
              "    </tr>\n",
              "    <tr>\n",
              "      <th>min</th>\n",
              "      <td>4.300000</td>\n",
              "      <td>2.000000</td>\n",
              "      <td>1.000000</td>\n",
              "      <td>0.100000</td>\n",
              "    </tr>\n",
              "    <tr>\n",
              "      <th>25%</th>\n",
              "      <td>5.100000</td>\n",
              "      <td>2.800000</td>\n",
              "      <td>1.600000</td>\n",
              "      <td>0.300000</td>\n",
              "    </tr>\n",
              "    <tr>\n",
              "      <th>50%</th>\n",
              "      <td>5.800000</td>\n",
              "      <td>3.000000</td>\n",
              "      <td>4.350000</td>\n",
              "      <td>1.300000</td>\n",
              "    </tr>\n",
              "    <tr>\n",
              "      <th>75%</th>\n",
              "      <td>6.400000</td>\n",
              "      <td>3.300000</td>\n",
              "      <td>5.100000</td>\n",
              "      <td>1.800000</td>\n",
              "    </tr>\n",
              "    <tr>\n",
              "      <th>max</th>\n",
              "      <td>7.900000</td>\n",
              "      <td>4.400000</td>\n",
              "      <td>6.900000</td>\n",
              "      <td>2.500000</td>\n",
              "    </tr>\n",
              "  </tbody>\n",
              "</table>\n",
              "</div>"
            ],
            "text/plain": [
              "             slen      swidth        plen      pwidth\n",
              "count  150.000000  150.000000  150.000000  150.000000\n",
              "mean     5.843333    3.054000    3.758667    1.198667\n",
              "std      0.828066    0.433594    1.764420    0.763161\n",
              "min      4.300000    2.000000    1.000000    0.100000\n",
              "25%      5.100000    2.800000    1.600000    0.300000\n",
              "50%      5.800000    3.000000    4.350000    1.300000\n",
              "75%      6.400000    3.300000    5.100000    1.800000\n",
              "max      7.900000    4.400000    6.900000    2.500000"
            ]
          },
          "metadata": {
            "tags": []
          },
          "execution_count": 17
        }
      ]
    },
    {
      "metadata": {
        "id": "FEUjhzKEpNx0",
        "colab_type": "code",
        "colab": {}
      },
      "cell_type": "code",
      "source": [
        "X=df.iloc[:,0:4]\n",
        "Y=df.iloc[:,4:5]"
      ],
      "execution_count": 0,
      "outputs": []
    },
    {
      "metadata": {
        "id": "vPOLZ1a28fa7",
        "colab_type": "code",
        "colab": {
          "base_uri": "https://localhost:8080/",
          "height": 85
        },
        "outputId": "3d39715b-4525-46a6-a339-6ca7a08999c0"
      },
      "cell_type": "code",
      "source": [
        "random_seed=7\n",
        "from sklearn.model_selection import train_test_split\n",
        "X_train, X_test, y_train, y_test = train_test_split(X, Y, test_size=0.2, stratify=Y,random_state=random_seed)\n",
        "y_train=y_train.values.ravel()\n",
        "y_test=y_test.values.ravel()\n",
        "print(\"Rows: X Train\",X_train.shape[0])\n",
        "print(\"Rows: X Test\",X_test.shape[0])\n",
        "print(\"Rows: Y Train\",y_train.shape[0])\n",
        "print(\"Rows: Y Test\",y_test.shape[0])"
      ],
      "execution_count": 0,
      "outputs": [
        {
          "output_type": "stream",
          "text": [
            "Rows: X Train 120\n",
            "Rows: X Test 30\n",
            "Rows: Y Train 120\n",
            "Rows: Y Test 30\n"
          ],
          "name": "stdout"
        }
      ]
    },
    {
      "metadata": {
        "id": "43FkmoYGJHbm",
        "colab_type": "text"
      },
      "cell_type": "markdown",
      "source": [
        "##3. Choosing a model"
      ]
    },
    {
      "metadata": {
        "id": "Aq7yZ4HNLHXN",
        "colab_type": "text"
      },
      "cell_type": "markdown",
      "source": [
        "###Scikit Learn Algorithm Guidance Sheet"
      ]
    },
    {
      "metadata": {
        "id": "psBsdCCMLY_6",
        "colab_type": "text"
      },
      "cell_type": "markdown",
      "source": [
        "One of the way to select a model is following the below cheat-sheet. But we will be going with traditional way more as intention is to cover many algorithms."
      ]
    },
    {
      "metadata": {
        "id": "A00UmqiOKbdR",
        "colab_type": "code",
        "colab": {
          "base_uri": "https://localhost:8080/",
          "height": 1021
        },
        "outputId": "fca0e2e0-cab4-4771-fba3-86a702fd24eb"
      },
      "cell_type": "code",
      "source": [
        "from IPython.display import Image\n",
        "Image(url = \"http://scikit-learn.org/stable/_static/ml_map.png\",width=1000, height=1000)"
      ],
      "execution_count": 0,
      "outputs": [
        {
          "output_type": "execute_result",
          "data": {
            "text/html": [
              "<img src=\"http://scikit-learn.org/stable/_static/ml_map.png\" width=\"1000\" height=\"1000\"/>"
            ],
            "text/plain": [
              "<IPython.core.display.Image object>"
            ]
          },
          "metadata": {
            "tags": []
          },
          "execution_count": 20
        }
      ]
    },
    {
      "metadata": {
        "id": "7UoWJyHZm93h",
        "colab_type": "text"
      },
      "cell_type": "markdown",
      "source": [
        "**Baseline Prediction for Classes based on Logistic Regression** \n",
        "\n",
        "We will compare the performance of the rest of classifiers based on this."
      ]
    },
    {
      "metadata": {
        "id": "zw33u4nOAeBO",
        "colab_type": "text"
      },
      "cell_type": "markdown",
      "source": [
        "###**Model 1:  Logistic Regression**\n",
        "\n"
      ]
    },
    {
      "metadata": {
        "id": "Fl5hJjBL9gDc",
        "colab_type": "text"
      },
      "cell_type": "markdown",
      "source": [
        "####Theory"
      ]
    },
    {
      "metadata": {
        "id": "_-hGnQnaAdb4",
        "colab_type": "code",
        "colab": {
          "base_uri": "https://localhost:8080/",
          "height": 336
        },
        "outputId": "77decc2f-b7d4-4d52-c11d-15d86931c01e"
      },
      "cell_type": "code",
      "source": [
        "HTML('<iframe width=\"560\" height=\"315\" src=\"https://www.youtube.com/embed/-33XCqO2ezU\" frameborder=\"0\" allow=\"autoplay; encrypted-media\" allowfullscreen></iframe>')"
      ],
      "execution_count": 0,
      "outputs": [
        {
          "output_type": "execute_result",
          "data": {
            "text/html": [
              "<iframe width=\"560\" height=\"315\" src=\"https://www.youtube.com/embed/-33XCqO2ezU\" frameborder=\"0\" allow=\"autoplay; encrypted-media\" allowfullscreen></iframe>"
            ],
            "text/plain": [
              "<IPython.core.display.HTML object>"
            ]
          },
          "metadata": {
            "tags": []
          },
          "execution_count": 21
        }
      ]
    },
    {
      "metadata": {
        "id": "WSa_AkjVA_BS",
        "colab_type": "text"
      },
      "cell_type": "markdown",
      "source": [
        "**Multiclass Classification Techniques**"
      ]
    },
    {
      "metadata": {
        "id": "r0RZdjsIAdFf",
        "colab_type": "code",
        "colab": {
          "base_uri": "https://localhost:8080/",
          "height": 336
        },
        "outputId": "892b8ce4-f13f-4581-cc55-931f538992c4"
      },
      "cell_type": "code",
      "source": [
        "HTML('<iframe width=\"560\" height=\"315\" src=\"https://www.youtube.com/embed/6kzvrq-MIO0\" frameborder=\"0\" allow=\"autoplay; encrypted-media\" allowfullscreen></iframe>')"
      ],
      "execution_count": 0,
      "outputs": [
        {
          "output_type": "execute_result",
          "data": {
            "text/html": [
              "<iframe width=\"560\" height=\"315\" src=\"https://www.youtube.com/embed/6kzvrq-MIO0\" frameborder=\"0\" allow=\"autoplay; encrypted-media\" allowfullscreen></iframe>"
            ],
            "text/plain": [
              "<IPython.core.display.HTML object>"
            ]
          },
          "metadata": {
            "tags": []
          },
          "execution_count": 22
        }
      ]
    },
    {
      "metadata": {
        "id": "KQpWT7vb9unM",
        "colab_type": "text"
      },
      "cell_type": "markdown",
      "source": [
        "####Practical"
      ]
    },
    {
      "metadata": {
        "id": "Bt10wHy4uOwx",
        "colab_type": "code",
        "colab": {}
      },
      "cell_type": "code",
      "source": [
        "#We will have random_state = 7 always for reproducibility\n",
        "random_seed=7"
      ],
      "execution_count": 0,
      "outputs": []
    },
    {
      "metadata": {
        "id": "0FGD1PAaotKm",
        "colab_type": "code",
        "colab": {}
      },
      "cell_type": "code",
      "source": [
        "#Logistic Regresion using Stochastic Gradient Descent\n",
        "from sklearn.linear_model import SGDClassifier\n",
        "model_logistic=SGDClassifier(loss='log',max_iter=1000,random_state=random_seed)\n",
        "model_logistic.fit(X_train, y_train)\n",
        "predicted_logistic=model_logistic.predict(X_test)"
      ],
      "execution_count": 0,
      "outputs": []
    },
    {
      "metadata": {
        "id": "GjnU7elU3APw",
        "colab_type": "text"
      },
      "cell_type": "markdown",
      "source": [
        "**Hyperparameter Tuning**"
      ]
    },
    {
      "metadata": {
        "id": "5jqFz9Dh5ltD",
        "colab_type": "code",
        "colab": {
          "base_uri": "https://localhost:8080/",
          "height": 102
        },
        "outputId": "56d9750a-c17e-45a9-ab15-3a6e421d01a3"
      },
      "cell_type": "code",
      "source": [
        "model_logistic"
      ],
      "execution_count": 0,
      "outputs": [
        {
          "output_type": "execute_result",
          "data": {
            "text/plain": [
              "SGDClassifier(alpha=0.0001, average=False, class_weight=None, epsilon=0.1,\n",
              "       eta0=0.0, fit_intercept=True, l1_ratio=0.15,\n",
              "       learning_rate='optimal', loss='log', max_iter=1000, n_iter=None,\n",
              "       n_jobs=1, penalty='l2', power_t=0.5, random_state=7, shuffle=True,\n",
              "       tol=None, verbose=0, warm_start=False)"
            ]
          },
          "metadata": {
            "tags": []
          },
          "execution_count": 25
        }
      ]
    },
    {
      "metadata": {
        "id": "74-Vrwqz2_a-",
        "colab_type": "code",
        "colab": {
          "base_uri": "https://localhost:8080/",
          "height": 170
        },
        "outputId": "df048b45-be37-4c7d-8749-ca1adfa40fed"
      },
      "cell_type": "code",
      "source": [
        "from sklearn import svm, datasets\n",
        "from sklearn.model_selection import RandomizedSearchCV\n",
        "iris = datasets.load_iris()\n",
        "parameters = {'kernel':('linear', 'rbf'), 'C':[1, 10]}\n",
        "svc = svm.SVC()\n",
        "clf = RandomizedSearchCV(svc, parameters,n_iter=4)\n",
        "clf.fit(iris.data, iris.target)"
      ],
      "execution_count": 0,
      "outputs": [
        {
          "output_type": "execute_result",
          "data": {
            "text/plain": [
              "RandomizedSearchCV(cv=None, error_score='raise',\n",
              "          estimator=SVC(C=1.0, cache_size=200, class_weight=None, coef0=0.0,\n",
              "  decision_function_shape='ovr', degree=3, gamma='auto', kernel='rbf',\n",
              "  max_iter=-1, probability=False, random_state=None, shrinking=True,\n",
              "  tol=0.001, verbose=False),\n",
              "          fit_params=None, iid=True, n_iter=4, n_jobs=1,\n",
              "          param_distributions={'kernel': ('linear', 'rbf'), 'C': [1, 10]},\n",
              "          pre_dispatch='2*n_jobs', random_state=None, refit=True,\n",
              "          return_train_score='warn', scoring=None, verbose=0)"
            ]
          },
          "metadata": {
            "tags": []
          },
          "execution_count": 26
        }
      ]
    },
    {
      "metadata": {
        "id": "8pwELnNe7Qvp",
        "colab_type": "code",
        "colab": {
          "base_uri": "https://localhost:8080/",
          "height": 34
        },
        "outputId": "a06a1a76-e43e-4203-d01d-45c66f0f4269"
      },
      "cell_type": "code",
      "source": [
        "clf.best_index_"
      ],
      "execution_count": 0,
      "outputs": [
        {
          "output_type": "execute_result",
          "data": {
            "text/plain": [
              "0"
            ]
          },
          "metadata": {
            "tags": []
          },
          "execution_count": 27
        }
      ]
    },
    {
      "metadata": {
        "id": "Lt5WauBS6VFO",
        "colab_type": "text"
      },
      "cell_type": "markdown",
      "source": [
        "**Logistic Regression Interview Questions and Answers**\n",
        "\n",
        "https://www.analyticsvidhya.com/blog/2017/08/skilltest-logistic-regression/"
      ]
    },
    {
      "metadata": {
        "id": "_CAFWKtlCG5E",
        "colab_type": "text"
      },
      "cell_type": "markdown",
      "source": [
        "**Metrics**\n",
        "\n",
        "We will be using F1 Score instead of Accuracy. Reason, F1 Score is a god measure irrespective of data is balanced or imbalanced.\n",
        "\n",
        "The F1 score can be interpreted as a weighted average of the precision and recall, where an F1 score reaches its best value at 1 and worst score at 0. The relative contribution of precision and recall to the F1 score are equal. \n",
        "\n",
        "The formula for the F1 score is:\n",
        "F1 = 2 * (precision * recall) / (precision + recall)\n",
        "\n",
        "In the multi-class and multi-label case, this is the weighted average of the F1 score of each class."
      ]
    },
    {
      "metadata": {
        "id": "FPU0iwBHCDDI",
        "colab_type": "code",
        "colab": {
          "base_uri": "https://localhost:8080/",
          "height": 336
        },
        "outputId": "876018d8-c7bc-4238-af54-d09e42cdc9f8"
      },
      "cell_type": "code",
      "source": [
        "HTML('<iframe width=\"560\" height=\"315\" src=\"https://www.youtube.com/embed/HBi-P5j0Kec\" frameborder=\"0\" allow=\"autoplay; encrypted-media\" allowfullscreen></iframe>')"
      ],
      "execution_count": 0,
      "outputs": [
        {
          "output_type": "execute_result",
          "data": {
            "text/html": [
              "<iframe width=\"560\" height=\"315\" src=\"https://www.youtube.com/embed/HBi-P5j0Kec\" frameborder=\"0\" allow=\"autoplay; encrypted-media\" allowfullscreen></iframe>"
            ],
            "text/plain": [
              "<IPython.core.display.HTML object>"
            ]
          },
          "metadata": {
            "tags": []
          },
          "execution_count": 28
        }
      ]
    },
    {
      "metadata": {
        "id": "hfABKZVq6oNt",
        "colab_type": "text"
      },
      "cell_type": "markdown",
      "source": [
        "We will also learn about ROC Curve also in detail from below video."
      ]
    },
    {
      "metadata": {
        "id": "TPpVZm8460x8",
        "colab_type": "code",
        "colab": {
          "base_uri": "https://localhost:8080/",
          "height": 336
        },
        "outputId": "5d828211-f66f-480c-adf0-b32ae2a2f60f"
      },
      "cell_type": "code",
      "source": [
        "HTML('<iframe width=\"560\" height=\"315\" src=\"https://www.youtube.com/embed/OAl6eAyP-yo\" frameborder=\"0\" allow=\"autoplay; encrypted-media\" allowfullscreen></iframe>')"
      ],
      "execution_count": 0,
      "outputs": [
        {
          "output_type": "execute_result",
          "data": {
            "text/html": [
              "<iframe width=\"560\" height=\"315\" src=\"https://www.youtube.com/embed/OAl6eAyP-yo\" frameborder=\"0\" allow=\"autoplay; encrypted-media\" allowfullscreen></iframe>"
            ],
            "text/plain": [
              "<IPython.core.display.HTML object>"
            ]
          },
          "metadata": {
            "tags": []
          },
          "execution_count": 62
        }
      ]
    },
    {
      "metadata": {
        "id": "D_jQKRjKuk3N",
        "colab_type": "code",
        "colab": {
          "base_uri": "https://localhost:8080/",
          "height": 320
        },
        "outputId": "16218d68-ce42-46ab-89c5-96f3b80dd560"
      },
      "cell_type": "code",
      "source": [
        "from sklearn.metrics import accuracy_score,f1_score\n",
        "print( \"Accuracy Percentage of Logistic Regrssion using SGD\",round(accuracy_score(y_test,predicted_logistic)*100,2))\n",
        "print( \"F1 Score of Logistic Regrssion using SGD\",f1_score(y_test,predicted_logistic,average='macro'))\n",
        "from sklearn.metrics import confusion_matrix\n",
        "from sklearn.metrics import confusion_matrix\n",
        "cm = pd.DataFrame(confusion_matrix(y_test, predicted_logistic), columns=iris.target_names, index=iris.target_names)\n",
        "sns.heatmap(cm, annot=True)"
      ],
      "execution_count": 0,
      "outputs": [
        {
          "output_type": "stream",
          "text": [
            "Accuracy Percentage of Logistic Regrssion using SGD 93.33\n",
            "F1 Score of Logistic Regrssion using SGD 0.9326599326599326\n"
          ],
          "name": "stdout"
        },
        {
          "output_type": "execute_result",
          "data": {
            "text/plain": [
              "<matplotlib.axes._subplots.AxesSubplot at 0x7f6ea55cd7f0>"
            ]
          },
          "metadata": {
            "tags": []
          },
          "execution_count": 29
        },
        {
          "output_type": "display_data",
          "data": {
            "image/png": "[encoded data removed]",
            "text/plain": [
              "<matplotlib.figure.Figure at 0x7f6ea55b0cf8>"
            ]
          },
          "metadata": {
            "tags": []
          }
        }
      ]
    },
    {
      "metadata": {
        "id": "S1gEtf8qahyy",
        "colab_type": "text"
      },
      "cell_type": "markdown",
      "source": [
        "**Support Vector Machine**"
      ]
    },
    {
      "metadata": {
        "id": "Kme_PqSh0_gM",
        "colab_type": "code",
        "colab": {
          "base_uri": "https://localhost:8080/",
          "height": 336
        },
        "outputId": "69b86dde-072a-4469-c163-d83ed7dd65f0"
      },
      "cell_type": "code",
      "source": [
        "from IPython.display import HTML\n",
        "HTML('<iframe width=\"560\" height=\"315\" src=\"https://www.youtube.com/embed/N1vOgolbjSc\" frameborder=\"0\" allow=\"autoplay; encrypted-media\" allowfullscreen></iframe>')"
      ],
      "execution_count": 0,
      "outputs": [
        {
          "output_type": "execute_result",
          "data": {
            "text/html": [
              "<iframe width=\"560\" height=\"315\" src=\"https://www.youtube.com/embed/N1vOgolbjSc\" frameborder=\"0\" allow=\"autoplay; encrypted-media\" allowfullscreen></iframe>"
            ],
            "text/plain": [
              "<IPython.core.display.HTML object>"
            ]
          },
          "metadata": {
            "tags": []
          },
          "execution_count": 33
        }
      ]
    },
    {
      "metadata": {
        "id": "SToyRi2xaLIi",
        "colab_type": "code",
        "colab": {
          "base_uri": "https://localhost:8080/",
          "height": 68
        },
        "outputId": "9889a49d-daff-4230-fd15-8b3c043d6a5b"
      },
      "cell_type": "code",
      "source": [
        "from sklearn.svm import SVC\n",
        "# ‘linear’, ‘poly’, ‘rbf’, ‘sigmoid’, ‘precomputed’\n",
        "model_svc = SVC(kernel='rbf')\n",
        "model_svc.fit(X_train,y_train)\n",
        "confusion_matrix(y_test,model_svc.predict(X_test))"
      ],
      "execution_count": 0,
      "outputs": [
        {
          "output_type": "execute_result",
          "data": {
            "text/plain": [
              "array([[10,  0,  0],\n",
              "       [ 0, 10,  0],\n",
              "       [ 0,  0, 10]])"
            ]
          },
          "metadata": {
            "tags": []
          },
          "execution_count": 34
        }
      ]
    },
    {
      "metadata": {
        "id": "SHjP0eUNaYuJ",
        "colab_type": "text"
      },
      "cell_type": "markdown",
      "source": [
        "**Naive Bayes**"
      ]
    },
    {
      "metadata": {
        "id": "qtk5iGshI8qZ",
        "colab_type": "code",
        "colab": {
          "base_uri": "https://localhost:8080/",
          "height": 336
        },
        "outputId": "8b8636c1-20d5-4f02-c9b6-7f78eeccb102"
      },
      "cell_type": "code",
      "source": [
        "HTML('<iframe width=\"560\" height=\"315\" src=\"https://www.youtube.com/embed/sjUDlJfdnKM\" frameborder=\"0\" allow=\"autoplay; encrypted-media\" allowfullscreen></iframe>')"
      ],
      "execution_count": 0,
      "outputs": [
        {
          "output_type": "execute_result",
          "data": {
            "text/html": [
              "<iframe width=\"560\" height=\"315\" src=\"https://www.youtube.com/embed/sjUDlJfdnKM\" frameborder=\"0\" allow=\"autoplay; encrypted-media\" allowfullscreen></iframe>"
            ],
            "text/plain": [
              "<IPython.core.display.HTML object>"
            ]
          },
          "metadata": {
            "tags": []
          },
          "execution_count": 35
        }
      ]
    },
    {
      "metadata": {
        "id": "-syOVlSBaOGI",
        "colab_type": "code",
        "colab": {
          "base_uri": "https://localhost:8080/",
          "height": 34
        },
        "outputId": "42e951a9-0947-4019-a821-b43e3dbee904"
      },
      "cell_type": "code",
      "source": [
        "from sklearn import datasets\n",
        "iris = datasets.load_iris()\n",
        "from sklearn.naive_bayes import GaussianNB\n",
        "gnb = GaussianNB()\n",
        "y_pred = gnb.fit(iris.data, iris.target).predict(iris.data)\n",
        "print(\"Number of mislabeled points out of a total %d points : %d\"\n",
        "      % (iris.data.shape[0],(iris.target != y_pred).sum()))"
      ],
      "execution_count": 0,
      "outputs": [
        {
          "output_type": "stream",
          "text": [
            "Number of mislabeled points out of a total 150 points : 6\n"
          ],
          "name": "stdout"
        }
      ]
    },
    {
      "metadata": {
        "id": "AmZssFS3ySP8",
        "colab_type": "text"
      },
      "cell_type": "markdown",
      "source": [
        "###**Model 2:  Ensemble**\n",
        "\n",
        "\n",
        "*   **Bagging (Also known as Bootstrap aggregating):  Random Forest**\n",
        "*  ** Bossting: XgBoost**\n",
        "\n",
        "\n"
      ]
    },
    {
      "metadata": {
        "id": "jb72jYr1zM-k",
        "colab_type": "code",
        "colab": {
          "base_uri": "https://localhost:8080/",
          "height": 336
        },
        "outputId": "34b72869-fbd6-48fb-efed-210714f08960"
      },
      "cell_type": "code",
      "source": [
        "HTML('<iframe width=\"560\" height=\"315\" src=\"https://www.youtube.com/embed/m-S9Hojj1as\" frameborder=\"0\" allow=\"autoplay; encrypted-media\" allowfullscreen></iframe>')"
      ],
      "execution_count": 0,
      "outputs": [
        {
          "output_type": "execute_result",
          "data": {
            "text/html": [
              "<iframe width=\"560\" height=\"315\" src=\"https://www.youtube.com/embed/m-S9Hojj1as\" frameborder=\"0\" allow=\"autoplay; encrypted-media\" allowfullscreen></iframe>"
            ],
            "text/plain": [
              "<IPython.core.display.HTML object>"
            ]
          },
          "metadata": {
            "tags": []
          },
          "execution_count": 63
        }
      ]
    },
    {
      "metadata": {
        "id": "RQci4hU4h7qt",
        "colab_type": "text"
      },
      "cell_type": "markdown",
      "source": [
        "####**Model 2a Bagging: Random Forest**"
      ]
    },
    {
      "metadata": {
        "id": "Bhydwr_wFfzb",
        "colab_type": "text"
      },
      "cell_type": "markdown",
      "source": [
        "#####**Theory**"
      ]
    },
    {
      "metadata": {
        "id": "0Uhu5NCLFw4M",
        "colab_type": "code",
        "colab": {
          "base_uri": "https://localhost:8080/",
          "height": 336
        },
        "outputId": "9eb97d46-9a8e-4632-91ce-84f61619bd35"
      },
      "cell_type": "code",
      "source": [
        "HTML('<iframe width=\"560\" height=\"315\" src=\"https://www.youtube.com/embed/ajTc5y3OqSQ\" frameborder=\"0\" allow=\"autoplay; encrypted-media\" allowfullscreen></iframe>')"
      ],
      "execution_count": 0,
      "outputs": [
        {
          "output_type": "execute_result",
          "data": {
            "text/html": [
              "<iframe width=\"560\" height=\"315\" src=\"https://www.youtube.com/embed/ajTc5y3OqSQ\" frameborder=\"0\" allow=\"autoplay; encrypted-media\" allowfullscreen></iframe>"
            ],
            "text/plain": [
              "<IPython.core.display.HTML object>"
            ]
          },
          "metadata": {
            "tags": []
          },
          "execution_count": 30
        }
      ]
    },
    {
      "metadata": {
        "id": "_L9SGppyFng2",
        "colab_type": "text"
      },
      "cell_type": "markdown",
      "source": [
        "#####**Practical**"
      ]
    },
    {
      "metadata": {
        "id": "ww-cOL6X8jCs",
        "colab_type": "code",
        "colab": {
          "base_uri": "https://localhost:8080/",
          "height": 119
        },
        "outputId": "68c0a44f-b7d9-40a2-dc6d-c0c710cd6813"
      },
      "cell_type": "code",
      "source": [
        "from sklearn.ensemble import RandomForestClassifier\n",
        "rf = RandomForestClassifier(n_estimators=10000, oob_score=True, random_state=random_seed)\n",
        "rf.fit(X_train, y_train)"
      ],
      "execution_count": 0,
      "outputs": [
        {
          "output_type": "execute_result",
          "data": {
            "text/plain": [
              "RandomForestClassifier(bootstrap=True, class_weight=None, criterion='gini',\n",
              "            max_depth=None, max_features='auto', max_leaf_nodes=None,\n",
              "            min_impurity_decrease=0.0, min_impurity_split=None,\n",
              "            min_samples_leaf=1, min_samples_split=2,\n",
              "            min_weight_fraction_leaf=0.0, n_estimators=10000, n_jobs=1,\n",
              "            oob_score=True, random_state=7, verbose=0, warm_start=False)"
            ]
          },
          "metadata": {
            "tags": []
          },
          "execution_count": 31
        }
      ]
    },
    {
      "metadata": {
        "id": "-HvhGc9B8kCg",
        "colab_type": "code",
        "colab": {
          "base_uri": "https://localhost:8080/",
          "height": 320
        },
        "outputId": "a633dad2-3480-4e4e-ede5-40661b1a416d"
      },
      "cell_type": "code",
      "source": [
        "from sklearn.metrics import f1_score\n",
        "predicted = rf.predict(X_test)\n",
        "accuracy = f1_score(y_test, predicted,average=\"micro\")\n",
        "print(f'Out-of-bag score estimate: {rf.oob_score_:.3}')\n",
        "print('F1',round(accuracy,2))\n",
        "from sklearn.metrics import confusion_matrix\n",
        "cm = pd.DataFrame(confusion_matrix(y_test, predicted), columns=iris.target_names, index=iris.target_names)\n",
        "sns.heatmap(cm, annot=True)"
      ],
      "execution_count": 0,
      "outputs": [
        {
          "output_type": "stream",
          "text": [
            "Out-of-bag score estimate: 0.933\n",
            "F1 1.0\n"
          ],
          "name": "stdout"
        },
        {
          "output_type": "execute_result",
          "data": {
            "text/plain": [
              "<matplotlib.axes._subplots.AxesSubplot at 0x7f6ea4277710>"
            ]
          },
          "metadata": {
            "tags": []
          },
          "execution_count": 32
        },
        {
          "output_type": "display_data",
          "data": {
            "image/png": "[encoded data removed]",
            "text/plain": [
              "<matplotlib.figure.Figure at 0x7f6ea4277da0>"
            ]
          },
          "metadata": {
            "tags": []
          }
        }
      ]
    },
    {
      "metadata": {
        "id": "uHdCDe5VovWG",
        "colab_type": "text"
      },
      "cell_type": "markdown",
      "source": [
        "####**Model 2b Boosting: Xgboost**"
      ]
    },
    {
      "metadata": {
        "id": "wZFDDVuYFzuA",
        "colab_type": "text"
      },
      "cell_type": "markdown",
      "source": [
        "#####**Theory**"
      ]
    },
    {
      "metadata": {
        "id": "bCf_WUJBu-hX",
        "colab_type": "code",
        "colab": {
          "base_uri": "https://localhost:8080/",
          "height": 336
        },
        "outputId": "4fbf62c6-23cc-4e5d-8285-c8ea3f6444af"
      },
      "cell_type": "code",
      "source": [
        "HTML('<iframe width=\"560\" height=\"315\" src=\"https://www.youtube.com/embed/ErDgauqnTHk\" frameborder=\"0\" allow=\"autoplay; encrypted-media\" allowfullscreen></iframe>')"
      ],
      "execution_count": 0,
      "outputs": [
        {
          "output_type": "execute_result",
          "data": {
            "text/html": [
              "<iframe width=\"560\" height=\"315\" src=\"https://www.youtube.com/embed/ErDgauqnTHk\" frameborder=\"0\" allow=\"autoplay; encrypted-media\" allowfullscreen></iframe>"
            ],
            "text/plain": [
              "<IPython.core.display.HTML object>"
            ]
          },
          "metadata": {
            "tags": []
          },
          "execution_count": 60
        }
      ]
    },
    {
      "metadata": {
        "id": "7JTKnyH2sIf9",
        "colab_type": "text"
      },
      "cell_type": "markdown",
      "source": [
        "https://www.analyticsvidhya.com/blog/2016/03/complete-guide-parameter-tuning-xgboost-with-codes-python/"
      ]
    },
    {
      "metadata": {
        "id": "eiaKQEz-wUYR",
        "colab_type": "text"
      },
      "cell_type": "markdown",
      "source": [
        "Both xgboost and gbm follows the principle of gradient boosting. There are however, the difference in modeling details. Specifically, xgboost used a more regularized model formalization to control over-fitting, which gives it better performance.\n",
        "\n",
        "We have updated a comprehensive tutorial on introduction to the model, which you might want to take a look at. Introduction to Boosted Trees\n",
        "\n",
        "The name xgboost, though, actually refers to the engineering goal to push the limit of computations resources for boosted tree algorithms. Which is the reason why many people use xgboost. For model, it might be more suitable to be called as regularized gradient boosting."
      ]
    },
    {
      "metadata": {
        "id": "TrKsyxlEF982",
        "colab_type": "text"
      },
      "cell_type": "markdown",
      "source": [
        "#####**Practical**"
      ]
    },
    {
      "metadata": {
        "id": "5uF8IM-lozeA",
        "colab_type": "code",
        "colab": {
          "base_uri": "https://localhost:8080/",
          "height": 88
        },
        "outputId": "9156464b-99c2-4788-87c4-6815412b7b96"
      },
      "cell_type": "code",
      "source": [
        "#!pip3 install xgboost\n",
        "from xgboost import XGBClassifier\n",
        "modelxgb=XGBClassifier()\n",
        "modelxgb.fit(X_train, y_train)\n",
        "predicted=modelxgb.predict(X_test)\n",
        "from sklearn.metrics import f1_score\n",
        "print(\"F1 Score: \",f1_score(y_test,predicted,average='macro'))"
      ],
      "execution_count": 0,
      "outputs": [
        {
          "output_type": "stream",
          "text": [
            "F1 Score:  1.0\n"
          ],
          "name": "stdout"
        },
        {
          "output_type": "stream",
          "text": [
            "/usr/local/lib/python3.6/dist-packages/sklearn/preprocessing/label.py:151: DeprecationWarning: The truth value of an empty array is ambiguous. Returning False, but in future this will result in an error. Use `array.size > 0` to check that an array is not empty.\n",
            "  if diff:\n"
          ],
          "name": "stderr"
        }
      ]
    },
    {
      "metadata": {
        "id": "Sgm5rKTElXpw",
        "colab_type": "text"
      },
      "cell_type": "markdown",
      "source": [
        "###**Model 3: Neural Network**\n",
        "\n"
      ]
    },
    {
      "metadata": {
        "id": "2JsmchpnGKJA",
        "colab_type": "text"
      },
      "cell_type": "markdown",
      "source": [
        "#####Theory"
      ]
    },
    {
      "metadata": {
        "id": "ueNFw6ilwdpK",
        "colab_type": "text"
      },
      "cell_type": "markdown",
      "source": [
        "Neural Network Theory: The Theory is multi part series. Make sure to watch all!"
      ]
    },
    {
      "metadata": {
        "id": "v8pLBs0cwgsa",
        "colab_type": "code",
        "colab": {
          "base_uri": "https://localhost:8080/",
          "height": 336
        },
        "outputId": "fd15ac21-d2ce-44c5-c237-a501b8f150bf"
      },
      "cell_type": "code",
      "source": [
        "HTML('<iframe width=\"560\" height=\"315\" src=\"https://www.youtube.com/embed/aircAruvnKk\" frameborder=\"0\" allow=\"autoplay; encrypted-media\" allowfullscreen></iframe>')"
      ],
      "execution_count": 0,
      "outputs": [
        {
          "output_type": "execute_result",
          "data": {
            "text/html": [
              "<iframe width=\"560\" height=\"315\" src=\"https://www.youtube.com/embed/aircAruvnKk\" frameborder=\"0\" allow=\"autoplay; encrypted-media\" allowfullscreen></iframe>"
            ],
            "text/plain": [
              "<IPython.core.display.HTML object>"
            ]
          },
          "metadata": {
            "tags": []
          },
          "execution_count": 37
        }
      ]
    },
    {
      "metadata": {
        "id": "TY6AiJaKg-1h",
        "colab_type": "code",
        "colab": {
          "base_uri": "https://localhost:8080/",
          "height": 336
        },
        "outputId": "f200b632-f493-4299-fb07-d488201dc60b"
      },
      "cell_type": "code",
      "source": [
        "HTML('<iframe width=\"560\" height=\"315\" src=\"https://www.youtube.com/embed/n1l-9lIMW7E\" frameborder=\"0\" allow=\"autoplay; encrypted-media\" allowfullscreen></iframe>')"
      ],
      "execution_count": 0,
      "outputs": [
        {
          "output_type": "execute_result",
          "data": {
            "text/html": [
              "<iframe width=\"560\" height=\"315\" src=\"https://www.youtube.com/embed/n1l-9lIMW7E\" frameborder=\"0\" allow=\"autoplay; encrypted-media\" allowfullscreen></iframe>"
            ],
            "text/plain": [
              "<IPython.core.display.HTML object>"
            ]
          },
          "metadata": {
            "tags": []
          },
          "execution_count": 38
        }
      ]
    },
    {
      "metadata": {
        "id": "pJDKEoLJhwjk",
        "colab_type": "code",
        "colab": {
          "base_uri": "https://localhost:8080/",
          "height": 336
        },
        "outputId": "504f0ade-cb49-46de-8d85-91a7217a6be1"
      },
      "cell_type": "code",
      "source": [
        "HTML('<iframe width=\"560\" height=\"315\" src=\"https://www.youtube.com/embed/qzPQ8cEsVK8\" frameborder=\"0\" allow=\"autoplay; encrypted-media\" allowfullscreen></iframe>')"
      ],
      "execution_count": 0,
      "outputs": [
        {
          "output_type": "execute_result",
          "data": {
            "text/html": [
              "<iframe width=\"560\" height=\"315\" src=\"https://www.youtube.com/embed/qzPQ8cEsVK8\" frameborder=\"0\" allow=\"autoplay; encrypted-media\" allowfullscreen></iframe>"
            ],
            "text/plain": [
              "<IPython.core.display.HTML object>"
            ]
          },
          "metadata": {
            "tags": []
          },
          "execution_count": 39
        }
      ]
    },
    {
      "metadata": {
        "id": "Vpim-dJewhT0",
        "colab_type": "text"
      },
      "cell_type": "markdown",
      "source": [
        "**Keras Basics**"
      ]
    },
    {
      "metadata": {
        "id": "Xb93v2hbwjCa",
        "colab_type": "code",
        "colab": {
          "base_uri": "https://localhost:8080/",
          "height": 336
        },
        "outputId": "e4c562a1-e0dc-45f3-fe39-2679c2361ee5"
      },
      "cell_type": "code",
      "source": [
        "HTML('<iframe width=\"560\" height=\"315\" src=\"https://www.youtube.com/embed/Boo6SmgmHuM\" frameborder=\"0\" allow=\"autoplay; encrypted-media\" allowfullscreen></iframe>')"
      ],
      "execution_count": 0,
      "outputs": [
        {
          "output_type": "execute_result",
          "data": {
            "text/html": [
              "<iframe width=\"560\" height=\"315\" src=\"https://www.youtube.com/embed/Boo6SmgmHuM\" frameborder=\"0\" allow=\"autoplay; encrypted-media\" allowfullscreen></iframe>"
            ],
            "text/plain": [
              "<IPython.core.display.HTML object>"
            ]
          },
          "metadata": {
            "tags": []
          },
          "execution_count": 40
        }
      ]
    },
    {
      "metadata": {
        "id": "vQEuflwxsHIs",
        "colab_type": "code",
        "colab": {}
      },
      "cell_type": "code",
      "source": [
        ""
      ],
      "execution_count": 0,
      "outputs": []
    },
    {
      "metadata": {
        "id": "Y81AiYQpw0ov",
        "colab_type": "text"
      },
      "cell_type": "markdown",
      "source": [
        "Data Set Preperation: We need to make one hot encoded target labels for cross entropy calculation."
      ]
    },
    {
      "metadata": {
        "id": "OrohMS3Xkx9E",
        "colab_type": "code",
        "colab": {
          "base_uri": "https://localhost:8080/",
          "height": 336
        },
        "outputId": "bf3e53b4-80d5-482e-d133-0172788cb2ce"
      },
      "cell_type": "code",
      "source": [
        "HTML('<iframe width=\"560\" height=\"315\" src=\"https://www.youtube.com/embed/tRsSi_sqXjI\" frameborder=\"0\" allow=\"autoplay; encrypted-media\" allowfullscreen></iframe>')"
      ],
      "execution_count": 0,
      "outputs": [
        {
          "output_type": "execute_result",
          "data": {
            "text/html": [
              "<iframe width=\"560\" height=\"315\" src=\"https://www.youtube.com/embed/tRsSi_sqXjI\" frameborder=\"0\" allow=\"autoplay; encrypted-media\" allowfullscreen></iframe>"
            ],
            "text/plain": [
              "<IPython.core.display.HTML object>"
            ]
          },
          "metadata": {
            "tags": []
          },
          "execution_count": 45
        }
      ]
    },
    {
      "metadata": {
        "id": "Tf2dL9s0GVHh",
        "colab_type": "text"
      },
      "cell_type": "markdown",
      "source": [
        "#####Practical"
      ]
    },
    {
      "metadata": {
        "id": "kwMroCL7wj0u",
        "colab_type": "code",
        "colab": {
          "base_uri": "https://localhost:8080/",
          "height": 51
        },
        "outputId": "d14e501d-f046-491b-8d5d-726eacf45c9c"
      },
      "cell_type": "code",
      "source": [
        "from keras.utils import np_utils\n",
        "y_train_neural = np_utils.to_categorical(y_train)\n",
        "y_test_neural = np_utils.to_categorical(y_test)\n",
        "print(y_train_neural.shape,y_test_neural.shape)"
      ],
      "execution_count": 0,
      "outputs": [
        {
          "output_type": "stream",
          "text": [
            "Using TensorFlow backend.\n"
          ],
          "name": "stderr"
        },
        {
          "output_type": "stream",
          "text": [
            "(120, 3) (30, 3)\n"
          ],
          "name": "stdout"
        }
      ]
    },
    {
      "metadata": {
        "id": "2-2v0pWg02cj",
        "colab_type": "text"
      },
      "cell_type": "markdown",
      "source": [
        "Keras Sequential Guide: https://faroit.github.io/keras-docs/1.0.1/getting-started/sequential-model-guide/"
      ]
    },
    {
      "metadata": {
        "id": "iKnweQy0llqT",
        "colab_type": "text"
      },
      "cell_type": "markdown",
      "source": [
        "The first video creator made it kind of a fast guide to what is happening with Cross Entropy Loss and in Second Video, Andrew goes in depth on Softmax and explains the internals."
      ]
    },
    {
      "metadata": {
        "id": "iS67TG2AlhHn",
        "colab_type": "code",
        "colab": {
          "base_uri": "https://localhost:8080/",
          "height": 336
        },
        "outputId": "c3a96f9a-8e5a-4014-e35a-f9efc28fc3ff"
      },
      "cell_type": "code",
      "source": [
        "HTML('<iframe width=\"560\" height=\"315\" src=\"https://www.youtube.com/embed/x449QQDhMDE\" frameborder=\"0\" allow=\"autoplay; encrypted-media\" allowfullscreen></iframe>')"
      ],
      "execution_count": 0,
      "outputs": [
        {
          "output_type": "execute_result",
          "data": {
            "text/html": [
              "<iframe width=\"560\" height=\"315\" src=\"https://www.youtube.com/embed/x449QQDhMDE\" frameborder=\"0\" allow=\"autoplay; encrypted-media\" allowfullscreen></iframe>"
            ],
            "text/plain": [
              "<IPython.core.display.HTML object>"
            ]
          },
          "metadata": {
            "tags": []
          },
          "execution_count": 47
        }
      ]
    },
    {
      "metadata": {
        "id": "oADMyLdilS1k",
        "colab_type": "code",
        "colab": {
          "base_uri": "https://localhost:8080/",
          "height": 336
        },
        "outputId": "76c20deb-1257-42e0-ea4a-4bc8f2477d82"
      },
      "cell_type": "code",
      "source": [
        "HTML('<iframe width=\"560\" height=\"315\" src=\"https://www.youtube.com/embed/ueO_Ph0Pyqk\" frameborder=\"0\" allow=\"autoplay; encrypted-media\" allowfullscreen></iframe>')"
      ],
      "execution_count": 0,
      "outputs": [
        {
          "output_type": "execute_result",
          "data": {
            "text/html": [
              "<iframe width=\"560\" height=\"315\" src=\"https://www.youtube.com/embed/ueO_Ph0Pyqk\" frameborder=\"0\" allow=\"autoplay; encrypted-media\" allowfullscreen></iframe>"
            ],
            "text/plain": [
              "<IPython.core.display.HTML object>"
            ]
          },
          "metadata": {
            "tags": []
          },
          "execution_count": 46
        }
      ]
    },
    {
      "metadata": {
        "id": "b4fGhjGAlZ_u",
        "colab_type": "code",
        "colab": {}
      },
      "cell_type": "code",
      "source": [
        "from keras.models import Sequential\n",
        "from keras.layers import Dense, Activation\n",
        "model = Sequential()\n",
        "model.add(Dense(3,input_dim=4,activation='softmax'))\n",
        "model.compile(loss='categorical_crossentropy',optimizer='sgd',metrics=['accuracy'])"
      ],
      "execution_count": 0,
      "outputs": []
    },
    {
      "metadata": {
        "id": "1CxY80N80xDu",
        "colab_type": "code",
        "colab": {
          "base_uri": "https://localhost:8080/",
          "height": 34
        },
        "outputId": "e7e2462e-9290-4a10-f63d-3b336350324d"
      },
      "cell_type": "code",
      "source": [
        "model.fit(X_train,y_train_neural,epochs=200,verbose=0)"
      ],
      "execution_count": 0,
      "outputs": [
        {
          "output_type": "execute_result",
          "data": {
            "text/plain": [
              "<keras.callbacks.History at 0x7f6e9c42be48>"
            ]
          },
          "metadata": {
            "tags": []
          },
          "execution_count": 43
        }
      ]
    },
    {
      "metadata": {
        "id": "ngsw2Agr1glS",
        "colab_type": "code",
        "colab": {
          "base_uri": "https://localhost:8080/",
          "height": 51
        },
        "outputId": "83dd0f68-99b9-472c-efe4-c1e535927f54"
      },
      "cell_type": "code",
      "source": [
        "score = model.evaluate(X_test, y_test_neural)\n",
        "print(\"Returns the loss value:\",score[0],\"& metrics values accuracy in %:\",score[1]*100)"
      ],
      "execution_count": 0,
      "outputs": [
        {
          "output_type": "stream",
          "text": [
            "\r30/30 [==============================] - 0s 752us/step\n",
            "Returns the loss value: 0.38655900955200195 & metrics values accuracy in %: 100.0\n"
          ],
          "name": "stdout"
        }
      ]
    },
    {
      "metadata": {
        "id": "NXoAQzVL-q-D",
        "colab_type": "code",
        "colab": {
          "base_uri": "https://localhost:8080/",
          "height": 170
        },
        "outputId": "a06e4881-615e-41c0-874c-b0be6be90d73"
      },
      "cell_type": "code",
      "source": [
        "model.summary()"
      ],
      "execution_count": 0,
      "outputs": [
        {
          "output_type": "stream",
          "text": [
            "_________________________________________________________________\n",
            "Layer (type)                 Output Shape              Param #   \n",
            "=================================================================\n",
            "dense_1 (Dense)              (None, 3)                 15        \n",
            "=================================================================\n",
            "Total params: 15\n",
            "Trainable params: 15\n",
            "Non-trainable params: 0\n",
            "_________________________________________________________________\n"
          ],
          "name": "stdout"
        }
      ]
    },
    {
      "metadata": {
        "id": "YmorX2RrasA3",
        "colab_type": "text"
      },
      "cell_type": "markdown",
      "source": [
        "###**Unsupervised Learning: KNN Clustering**\n",
        "\n",
        "\n"
      ]
    },
    {
      "metadata": {
        "id": "mpB2YU0XGyBN",
        "colab_type": "text"
      },
      "cell_type": "markdown",
      "source": [
        "#####Theory"
      ]
    },
    {
      "metadata": {
        "id": "a-jA8rj7HWhz",
        "colab_type": "code",
        "colab": {
          "base_uri": "https://localhost:8080/",
          "height": 336
        },
        "outputId": "d6975a04-4292-47aa-f66f-6b33a21fc1fc"
      },
      "cell_type": "code",
      "source": [
        "HTML('<iframe width=\"560\" height=\"315\" src=\"https://www.youtube.com/embed/RD0nNK51Fp8\" frameborder=\"0\" allow=\"autoplay; encrypted-media\" allowfullscreen></iframe>')"
      ],
      "execution_count": 0,
      "outputs": [
        {
          "output_type": "execute_result",
          "data": {
            "text/html": [
              "<iframe width=\"560\" height=\"315\" src=\"https://www.youtube.com/embed/RD0nNK51Fp8\" frameborder=\"0\" allow=\"autoplay; encrypted-media\" allowfullscreen></iframe>"
            ],
            "text/plain": [
              "<IPython.core.display.HTML object>"
            ]
          },
          "metadata": {
            "tags": []
          },
          "execution_count": 41
        }
      ]
    },
    {
      "metadata": {
        "id": "9PXpitVLG34P",
        "colab_type": "text"
      },
      "cell_type": "markdown",
      "source": [
        "#####Practical"
      ]
    },
    {
      "metadata": {
        "id": "aSpAJz95Z_Vh",
        "colab_type": "code",
        "colab": {
          "base_uri": "https://localhost:8080/",
          "height": 136
        },
        "outputId": "0e167cb9-631b-4fd1-a312-25706be0b634"
      },
      "cell_type": "code",
      "source": [
        "from sklearn import datasets\n",
        "iris = datasets.load_iris()\n",
        "df = pd.DataFrame(iris.data, columns=iris.feature_names)\n",
        "# sklearn provides the iris species as integer values since this is required for classification\n",
        "# here we're just adding a column with the species names to the dataframe for visualisation\n",
        "df['species'] = np.array([iris.target_names[i] for i in iris.target])\n",
        "from sklearn.model_selection import train_test_split\n",
        "X_train, X_test, y_train, y_test = train_test_split(df[iris.feature_names], iris.target, test_size=0.5, stratify=iris.target, random_state=123456)\n",
        "from sklearn.cluster import KMeans\n",
        "Kmean_model=KMeans(n_clusters=3,random_state=0,max_iter=100)\n",
        "Kmean_model.fit(X_train,y_train)\n",
        "predicted=Kmean_model.predict(X_train)\n",
        "print(\"Real Labels\",y_train,\"\\n Predicted Cluster, find the label based on analysis, Don't do one-one mapping with real labels \\n\",predicted)"
      ],
      "execution_count": 0,
      "outputs": [
        {
          "output_type": "stream",
          "text": [
            "Real Labels [1 1 2 2 0 2 2 0 2 2 1 1 0 1 1 1 0 2 2 0 0 0 1 0 0 0 1 2 2 1 0 0 0 0 2 2 1\n",
            " 2 0 2 2 2 0 1 2 1 2 0 0 0 2 2 0 0 1 1 1 0 1 1 1 2 0 1 0 2 1 0 1 1 2 2 1 1\n",
            " 2] \n",
            " Predicted Cluster, find the label based on analysis, Don't do one-one mapping with real labels \n",
            " [2 2 0 0 1 0 0 1 0 0 2 2 1 2 2 2 1 0 2 1 1 1 2 1 1 1 2 2 2 2 1 1 1 1 0 0 2\n",
            " 0 1 0 0 0 1 2 0 0 0 1 1 1 0 0 1 1 2 2 2 1 2 2 2 0 1 2 1 0 2 1 2 2 0 0 2 2\n",
            " 2]\n"
          ],
          "name": "stdout"
        }
      ]
    },
    {
      "metadata": {
        "id": "chaFpAEwaDko",
        "colab_type": "code",
        "colab": {
          "base_uri": "https://localhost:8080/",
          "height": 391
        },
        "outputId": "af6839e3-4fb3-4911-82f1-4f521cc521c1"
      },
      "cell_type": "code",
      "source": [
        "import pandas as pd\n",
        "import numpy as np\n",
        "import matplotlib.pyplot as plt\n",
        "import matplotlib.cm as cm\n",
        "import seaborn as sn\n",
        "%matplotlib inline\n",
        "from sklearn.preprocessing import StandardScaler\n",
        "scaler = StandardScaler()\n",
        "X_scaled = scaler.fit_transform( X_train )\n",
        "\n",
        "#Finding cluster size by elbow method.\n",
        "cluster_range = range( 1, 20 )\n",
        "cluster_errors = []\n",
        "\n",
        "for num_clusters in cluster_range:\n",
        "  Kmean_model = KMeans( num_clusters,random_state=0)\n",
        "  Kmean_model.fit( X_scaled )\n",
        "  cluster_errors.append( Kmean_model.inertia_ )\n",
        "\n",
        "clusters_df  = pd.DataFrame( { \"num_clusters\":cluster_range, \"cluster_errors\": cluster_errors } )\n",
        "plt.figure(figsize=(12,6))\n",
        "plt.plot( clusters_df.num_clusters, clusters_df.cluster_errors, marker = \"o\" )"
      ],
      "execution_count": 0,
      "outputs": [
        {
          "output_type": "execute_result",
          "data": {
            "text/plain": [
              "[<matplotlib.lines.Line2D at 0x7f4fa354e828>]"
            ]
          },
          "metadata": {
            "tags": []
          },
          "execution_count": 43
        },
        {
          "output_type": "display_data",
          "data": {
            "image/png": "[encoded data removed]",
            "text/plain": [
              "<matplotlib.figure.Figure at 0x7f4fa4e11b00>"
            ]
          },
          "metadata": {
            "tags": []
          }
        }
      ]
    },
    {
      "metadata": {
        "id": "TjyZQYcuaIqy",
        "colab_type": "code",
        "colab": {
          "base_uri": "https://localhost:8080/",
          "height": 170
        },
        "outputId": "cb0dc3c2-6fd5-42d5-d4f9-ab29c7e8f8f1"
      },
      "cell_type": "code",
      "source": [
        "Kmean_model = KMeans( 3,random_state=0)\n",
        "Kmean_model.fit( X_scaled )\n",
        "df_labels=pd.DataFrame(Kmean_model.labels_)\n",
        "df_labels.columns=[\"predicted_clusters\"]\n",
        "df_real=pd.DataFrame(y_train)\n",
        "df_real.columns=[\"Actual\"]\n",
        "df_real.groupby(\"Actual\").size(),df_labels.groupby(\"predicted_clusters\").size()"
      ],
      "execution_count": 0,
      "outputs": [
        {
          "output_type": "execute_result",
          "data": {
            "text/plain": [
              "(Actual\n",
              " 0    25\n",
              " 1    25\n",
              " 2    25\n",
              " dtype: int64, predicted_clusters\n",
              " 0    34\n",
              " 1    24\n",
              " 2    17\n",
              " dtype: int64)"
            ]
          },
          "metadata": {
            "tags": []
          },
          "execution_count": 44
        }
      ]
    },
    {
      "metadata": {
        "id": "xlJguXSQaJT3",
        "colab_type": "code",
        "colab": {
          "base_uri": "https://localhost:8080/",
          "height": 204
        },
        "outputId": "f10d3701-92ec-4b43-9c78-95e0d58f9b48"
      },
      "cell_type": "code",
      "source": [
        "#How to get top 10 indexes which are near ones to cluster centroid.\n",
        "#Kmean_model.transform(X_scaled)[:, cluster_number]\n",
        "d = Kmean_model.transform(X_scaled)[:, 0]\n",
        "ind = np.argsort(d)[::][:10]\n",
        "ind,X_scaled[ind]"
      ],
      "execution_count": 0,
      "outputs": [
        {
          "output_type": "execute_result",
          "data": {
            "text/plain": [
              "(array([70,  8, 37, 45, 71, 65, 50, 40, 44, 46]),\n",
              " array([[ 0.74740053, -0.22909306,  0.79603503,  1.003211  ],\n",
              "        [ 0.74740053, -0.22909306,  0.96612799,  0.74375988],\n",
              "        [ 0.62633133,  0.01992114,  0.96612799,  0.74375988],\n",
              "        [ 0.98953893, -0.22909306,  0.68263973,  0.61403432],\n",
              "        [ 0.74740053,  0.26893533,  0.73933738,  1.003211  ],\n",
              "        [ 0.74740053, -0.22909306,  1.13622094,  1.26266212],\n",
              "        [ 1.23167733,  0.01992114,  0.73933738,  1.39238768],\n",
              "        [ 0.62633133,  0.26893533,  0.85273268,  1.39238768],\n",
              "        [ 0.98953893,  0.01992114,  1.02282564,  1.52211324],\n",
              "        [ 0.98953893,  0.51794953,  1.07952329,  1.13293656]]))"
            ]
          },
          "metadata": {
            "tags": []
          },
          "execution_count": 38
        }
      ]
    },
    {
      "metadata": {
        "id": "v1Xdqlfk77ai",
        "colab_type": "code",
        "colab": {}
      },
      "cell_type": "code",
      "source": [
        ""
      ],
      "execution_count": 0,
      "outputs": []
    },
    {
      "metadata": {
        "id": "axNQqPc47779",
        "colab_type": "text"
      },
      "cell_type": "markdown",
      "source": [
        "##Interview Questions\n",
        "\n",
        "https://www.analyticsvidhya.com/blog/2016/09/40-interview-questions-asked-at-startups-in-machine-learning-data-science/"
      ]
    },
    {
      "metadata": {
        "id": "VUs5T4TslQRF",
        "colab_type": "text"
      },
      "cell_type": "markdown",
      "source": [
        "####################################################################"
      ]
    },
    {
      "metadata": {
        "id": "Tagl0s0rKObp",
        "colab_type": "text"
      },
      "cell_type": "markdown",
      "source": [
        "#Work in Progress from here onwards############################"
      ]
    },
    {
      "metadata": {
        "id": "KMz5nWH3tTP8",
        "colab_type": "text"
      },
      "cell_type": "markdown",
      "source": [
        "Open CV"
      ]
    },
    {
      "metadata": {
        "id": "7sCZkcMQaSXY",
        "colab_type": "code",
        "colab": {
          "base_uri": "https://localhost:8080/",
          "height": 34
        },
        "outputId": "a65a7578-099e-44fd-b8c7-d60ce525aacb"
      },
      "cell_type": "code",
      "source": [
        "from tensorflow.python.client import device_lib\n",
        "\n",
        "def get_available_devices():\n",
        "    local_device_protos = device_lib.list_local_devices()\n",
        "    return [x.name for x in local_device_protos]\n",
        "\n",
        "print(get_available_devices())"
      ],
      "execution_count": 0,
      "outputs": [
        {
          "output_type": "stream",
          "text": [
            "['/device:CPU:0']\n"
          ],
          "name": "stdout"
        }
      ]
    },
    {
      "metadata": {
        "id": "QgcbBvLuLqoD",
        "colab_type": "code",
        "colab": {
          "base_uri": "https://localhost:8080/",
          "height": 34
        },
        "outputId": "f346759e-7d13-4e27-c9ee-ba1b0030b47d"
      },
      "cell_type": "code",
      "source": [
        "#Change the directory.\n",
        "import os\n",
        "os.getcwd()"
      ],
      "execution_count": 0,
      "outputs": [
        {
          "output_type": "execute_result",
          "data": {
            "text/plain": [
              "'/content'"
            ]
          },
          "metadata": {
            "tags": []
          },
          "execution_count": 40
        }
      ]
    },
    {
      "metadata": {
        "id": "W4qU9wNZLqoG",
        "colab_type": "code",
        "colab": {}
      },
      "cell_type": "code",
      "source": [
        "#path=\"Z:\\\\Documents\\\\Machine Learning\"\n",
        "os.chdir(PATH)"
      ],
      "execution_count": 0,
      "outputs": []
    },
    {
      "metadata": {
        "id": "8Ty7aJvjLqoI",
        "colab_type": "code",
        "colab": {}
      },
      "cell_type": "code",
      "source": [
        "#Import file with header.\n",
        "from pandas import read_csv\n",
        "data=read_csv(\"iris.csv\")"
      ],
      "execution_count": 0,
      "outputs": []
    },
    {
      "metadata": {
        "id": "YkZUK4T6LqoL",
        "colab_type": "code",
        "colab": {
          "base_uri": "https://localhost:8080/",
          "height": 34
        },
        "outputId": "8bd1abaa-6791-43fe-80be-ad95db21348c"
      },
      "cell_type": "code",
      "source": [
        "data.shape"
      ],
      "execution_count": 0,
      "outputs": [
        {
          "output_type": "execute_result",
          "data": {
            "text/plain": [
              "(150, 5)"
            ]
          },
          "metadata": {
            "tags": []
          },
          "execution_count": 43
        }
      ]
    },
    {
      "metadata": {
        "id": "fwtOOATYLqoO",
        "colab_type": "code",
        "colab": {
          "base_uri": "https://localhost:8080/",
          "height": 119
        },
        "outputId": "92a403bd-818e-4947-cc4a-733ba3549f78"
      },
      "cell_type": "code",
      "source": [
        "data.dtypes"
      ],
      "execution_count": 0,
      "outputs": [
        {
          "output_type": "execute_result",
          "data": {
            "text/plain": [
              "sepal_length    float64\n",
              "sepal_width     float64\n",
              "petal_length    float64\n",
              "petal_width     float64\n",
              "cat              object\n",
              "dtype: object"
            ]
          },
          "metadata": {
            "tags": []
          },
          "execution_count": 44
        }
      ]
    },
    {
      "metadata": {
        "id": "sG49Gz6PLqoR",
        "colab_type": "code",
        "colab": {}
      },
      "cell_type": "code",
      "source": [
        "#One hot code encoding of categorical variable cat.\n",
        "import pandas as pd\n",
        "one_hot=pd.get_dummies(data.cat)"
      ],
      "execution_count": 0,
      "outputs": []
    },
    {
      "metadata": {
        "id": "Mg4-EwifLqoT",
        "colab_type": "code",
        "colab": {
          "base_uri": "https://localhost:8080/",
          "height": 170
        },
        "outputId": "bacacfbd-4d13-4bc7-fcff-aebda9c6f97b"
      },
      "cell_type": "code",
      "source": [
        "df=data.join(one_hot)\n",
        "df.dtypes\n",
        "#What does dtype at the end signifies?"
      ],
      "execution_count": 0,
      "outputs": [
        {
          "output_type": "execute_result",
          "data": {
            "text/plain": [
              "sepal_length       float64\n",
              "sepal_width        float64\n",
              "petal_length       float64\n",
              "petal_width        float64\n",
              "cat                 object\n",
              "Iris-setosa          uint8\n",
              "Iris-versicolor      uint8\n",
              "Iris-virginica       uint8\n",
              "dtype: object"
            ]
          },
          "metadata": {
            "tags": []
          },
          "execution_count": 46
        }
      ]
    },
    {
      "metadata": {
        "id": "LX2aWbYoLqoW",
        "colab_type": "code",
        "colab": {}
      },
      "cell_type": "code",
      "source": [
        "#Drop Categorical columns\n",
        "df=df.drop('cat',axis=1)"
      ],
      "execution_count": 0,
      "outputs": []
    },
    {
      "metadata": {
        "id": "8nlrx7q5LqoZ",
        "colab_type": "code",
        "colab": {
          "base_uri": "https://localhost:8080/",
          "height": 297
        },
        "outputId": "e368f8de-1832-430e-849b-0fb3c08fb2a4"
      },
      "cell_type": "code",
      "source": [
        "df.describe()"
      ],
      "execution_count": 0,
      "outputs": [
        {
          "output_type": "execute_result",
          "data": {
            "text/html": [
              "<div>\n",
              "<style scoped>\n",
              "    .dataframe tbody tr th:only-of-type {\n",
              "        vertical-align: middle;\n",
              "    }\n",
              "\n",
              "    .dataframe tbody tr th {\n",
              "        vertical-align: top;\n",
              "    }\n",
              "\n",
              "    .dataframe thead th {\n",
              "        text-align: right;\n",
              "    }\n",
              "</style>\n",
              "<table border=\"1\" class=\"dataframe\">\n",
              "  <thead>\n",
              "    <tr style=\"text-align: right;\">\n",
              "      <th></th>\n",
              "      <th>sepal_length</th>\n",
              "      <th>sepal_width</th>\n",
              "      <th>petal_length</th>\n",
              "      <th>petal_width</th>\n",
              "      <th>Iris-setosa</th>\n",
              "      <th>Iris-versicolor</th>\n",
              "      <th>Iris-virginica</th>\n",
              "    </tr>\n",
              "  </thead>\n",
              "  <tbody>\n",
              "    <tr>\n",
              "      <th>count</th>\n",
              "      <td>150.000000</td>\n",
              "      <td>150.000000</td>\n",
              "      <td>150.000000</td>\n",
              "      <td>150.000000</td>\n",
              "      <td>150.000000</td>\n",
              "      <td>150.000000</td>\n",
              "      <td>150.000000</td>\n",
              "    </tr>\n",
              "    <tr>\n",
              "      <th>mean</th>\n",
              "      <td>5.843333</td>\n",
              "      <td>3.054000</td>\n",
              "      <td>3.758667</td>\n",
              "      <td>1.198667</td>\n",
              "      <td>0.333333</td>\n",
              "      <td>0.333333</td>\n",
              "      <td>0.333333</td>\n",
              "    </tr>\n",
              "    <tr>\n",
              "      <th>std</th>\n",
              "      <td>0.828066</td>\n",
              "      <td>0.433594</td>\n",
              "      <td>1.764420</td>\n",
              "      <td>0.763161</td>\n",
              "      <td>0.472984</td>\n",
              "      <td>0.472984</td>\n",
              "      <td>0.472984</td>\n",
              "    </tr>\n",
              "    <tr>\n",
              "      <th>min</th>\n",
              "      <td>4.300000</td>\n",
              "      <td>2.000000</td>\n",
              "      <td>1.000000</td>\n",
              "      <td>0.100000</td>\n",
              "      <td>0.000000</td>\n",
              "      <td>0.000000</td>\n",
              "      <td>0.000000</td>\n",
              "    </tr>\n",
              "    <tr>\n",
              "      <th>25%</th>\n",
              "      <td>5.100000</td>\n",
              "      <td>2.800000</td>\n",
              "      <td>1.600000</td>\n",
              "      <td>0.300000</td>\n",
              "      <td>0.000000</td>\n",
              "      <td>0.000000</td>\n",
              "      <td>0.000000</td>\n",
              "    </tr>\n",
              "    <tr>\n",
              "      <th>50%</th>\n",
              "      <td>5.800000</td>\n",
              "      <td>3.000000</td>\n",
              "      <td>4.350000</td>\n",
              "      <td>1.300000</td>\n",
              "      <td>0.000000</td>\n",
              "      <td>0.000000</td>\n",
              "      <td>0.000000</td>\n",
              "    </tr>\n",
              "    <tr>\n",
              "      <th>75%</th>\n",
              "      <td>6.400000</td>\n",
              "      <td>3.300000</td>\n",
              "      <td>5.100000</td>\n",
              "      <td>1.800000</td>\n",
              "      <td>1.000000</td>\n",
              "      <td>1.000000</td>\n",
              "      <td>1.000000</td>\n",
              "    </tr>\n",
              "    <tr>\n",
              "      <th>max</th>\n",
              "      <td>7.900000</td>\n",
              "      <td>4.400000</td>\n",
              "      <td>6.900000</td>\n",
              "      <td>2.500000</td>\n",
              "      <td>1.000000</td>\n",
              "      <td>1.000000</td>\n",
              "      <td>1.000000</td>\n",
              "    </tr>\n",
              "  </tbody>\n",
              "</table>\n",
              "</div>"
            ],
            "text/plain": [
              "       sepal_length  sepal_width  petal_length  petal_width  Iris-setosa  \\\n",
              "count    150.000000   150.000000    150.000000   150.000000   150.000000   \n",
              "mean       5.843333     3.054000      3.758667     1.198667     0.333333   \n",
              "std        0.828066     0.433594      1.764420     0.763161     0.472984   \n",
              "min        4.300000     2.000000      1.000000     0.100000     0.000000   \n",
              "25%        5.100000     2.800000      1.600000     0.300000     0.000000   \n",
              "50%        5.800000     3.000000      4.350000     1.300000     0.000000   \n",
              "75%        6.400000     3.300000      5.100000     1.800000     1.000000   \n",
              "max        7.900000     4.400000      6.900000     2.500000     1.000000   \n",
              "\n",
              "       Iris-versicolor  Iris-virginica  \n",
              "count       150.000000      150.000000  \n",
              "mean          0.333333        0.333333  \n",
              "std           0.472984        0.472984  \n",
              "min           0.000000        0.000000  \n",
              "25%           0.000000        0.000000  \n",
              "50%           0.000000        0.000000  \n",
              "75%           1.000000        1.000000  \n",
              "max           1.000000        1.000000  "
            ]
          },
          "metadata": {
            "tags": []
          },
          "execution_count": 48
        }
      ]
    },
    {
      "metadata": {
        "id": "3PsBWj1ULqoc",
        "colab_type": "code",
        "colab": {}
      },
      "cell_type": "code",
      "source": [
        "#For Regression let us predict sepal_length from other variables.\n",
        "from sklearn.linear_model import LinearRegression"
      ],
      "execution_count": 0,
      "outputs": []
    },
    {
      "metadata": {
        "id": "YXQ5sKSnLqog",
        "colab_type": "code",
        "colab": {}
      },
      "cell_type": "code",
      "source": [
        "#Create Model.\n",
        "model=LinearRegression()"
      ],
      "execution_count": 0,
      "outputs": []
    },
    {
      "metadata": {
        "id": "wqJBEULWLqoj",
        "colab_type": "code",
        "colab": {}
      },
      "cell_type": "code",
      "source": [
        "#Create Features and Target Dataframes.\n",
        "array = df.values"
      ],
      "execution_count": 0,
      "outputs": []
    },
    {
      "metadata": {
        "id": "LDLv6jMbLqom",
        "colab_type": "code",
        "colab": {
          "base_uri": "https://localhost:8080/",
          "height": 153
        },
        "outputId": "b432464f-250d-42b2-a52b-b8f7c0758205"
      },
      "cell_type": "code",
      "source": [
        "df.dtypes"
      ],
      "execution_count": 0,
      "outputs": [
        {
          "output_type": "execute_result",
          "data": {
            "text/plain": [
              "sepal_length       float64\n",
              "sepal_width        float64\n",
              "petal_length       float64\n",
              "petal_width        float64\n",
              "Iris-setosa          uint8\n",
              "Iris-versicolor      uint8\n",
              "Iris-virginica       uint8\n",
              "dtype: object"
            ]
          },
          "metadata": {
            "tags": []
          },
          "execution_count": 52
        }
      ]
    },
    {
      "metadata": {
        "id": "FzWuSAFGLqop",
        "colab_type": "code",
        "colab": {}
      },
      "cell_type": "code",
      "source": [
        "#Our Prediction column is at 0 th index and all other (1 till 7th) are our predictors columns\n",
        "X=array[:,1:7]\n",
        "Y=array[:,0]"
      ],
      "execution_count": 0,
      "outputs": []
    },
    {
      "metadata": {
        "id": "EJvWlgb_Lqos",
        "colab_type": "code",
        "colab": {}
      },
      "cell_type": "code",
      "source": [
        "#Split the data in to train and test sets.\n",
        "test_size = 0.33\n",
        "seed = 7\n",
        "from sklearn.model_selection import train_test_split\n",
        "X_train, X_test, Y_train, Y_test = train_test_split(X, Y, test_size=test_size,\n",
        "random_state=seed)"
      ],
      "execution_count": 0,
      "outputs": []
    },
    {
      "metadata": {
        "id": "A0ypjCDbLqou",
        "colab_type": "code",
        "colab": {
          "base_uri": "https://localhost:8080/",
          "height": 34
        },
        "outputId": "13fc2863-49b4-4e2d-aff5-3ff11ed81d0d"
      },
      "cell_type": "code",
      "source": [
        "model.fit(X_train,Y_train)"
      ],
      "execution_count": 0,
      "outputs": [
        {
          "output_type": "execute_result",
          "data": {
            "text/plain": [
              "LinearRegression(copy_X=True, fit_intercept=True, n_jobs=1, normalize=False)"
            ]
          },
          "metadata": {
            "tags": []
          },
          "execution_count": 55
        }
      ]
    },
    {
      "metadata": {
        "id": "F9QlsTwFLqo4",
        "colab_type": "code",
        "colab": {
          "base_uri": "https://localhost:8080/",
          "height": 51
        },
        "outputId": "7c4bdddd-0672-4fbe-d142-502e608b9728"
      },
      "cell_type": "code",
      "source": [
        "#Parameters Learnt\n",
        "print('Coefficients: \\n', model.coef_)"
      ],
      "execution_count": 0,
      "outputs": [
        {
          "output_type": "stream",
          "text": [
            "Coefficients: \n",
            " [ 0.5909224   0.7962453  -0.28641615  0.4916739  -0.09938941 -0.3922845 ]\n"
          ],
          "name": "stdout"
        }
      ]
    },
    {
      "metadata": {
        "id": "YVivZbgNLqpD",
        "colab_type": "code",
        "colab": {
          "base_uri": "https://localhost:8080/",
          "height": 170
        },
        "outputId": "eef65952-c74f-42db-b817-78b92b9a0ca1"
      },
      "cell_type": "code",
      "source": [
        "print(model.predict(X_test))\n",
        "y_pred = model.predict(X_test)"
      ],
      "execution_count": 0,
      "outputs": [
        {
          "output_type": "stream",
          "text": [
            "[6.31902086 6.22009361 4.90233254 6.22009361 5.57445409 4.19322566\n",
            " 6.59768397 5.86122653 5.11075551 6.33827809 6.56093303 6.42782096\n",
            " 5.47341827 7.2693283  4.95150645 6.49122684 6.58093137 6.69661122\n",
            " 5.34712447 4.88249587 5.65099456 6.77174444 6.34889205 5.85258325\n",
            " 6.9336758  6.08014727 6.05903554 5.42273492 6.11310252 6.60438606\n",
            " 5.96196279 5.33068743 4.75119281 6.53106184 6.05903554 4.68649587\n",
            " 4.93097416 5.42855801 4.98195707 6.87009225 6.88811991 6.36942434\n",
            " 6.48439257 6.63751898 6.06714487 4.89241421 6.22820294 5.49244112\n",
            " 6.27235158 4.99257103]\n"
          ],
          "name": "stdout"
        }
      ]
    },
    {
      "metadata": {
        "id": "406QyNKYLqpI",
        "colab_type": "code",
        "colab": {
          "base_uri": "https://localhost:8080/",
          "height": 34
        },
        "outputId": "3df1a1e5-b8a0-4f1e-e8a1-50e4b4cfdd70"
      },
      "cell_type": "code",
      "source": [
        "#Mean Squared error\n",
        "from sklearn.metrics import mean_squared_error\n",
        "print(\"Mean squared error:\", mean_squared_error(Y_test, y_pred))"
      ],
      "execution_count": 0,
      "outputs": [
        {
          "output_type": "stream",
          "text": [
            "Mean squared error: 0.10177034686835107\n"
          ],
          "name": "stdout"
        }
      ]
    },
    {
      "metadata": {
        "id": "vfv9EZP0LqpN",
        "colab_type": "code",
        "colab": {
          "base_uri": "https://localhost:8080/",
          "height": 34
        },
        "outputId": "63f0bc2e-ca2f-4cab-dcdb-4400e5446867"
      },
      "cell_type": "code",
      "source": [
        "from sklearn.metrics import r2_score\n",
        "# Explained variance score: 1 is perfect prediction\n",
        "print('Variance score:',r2_score(Y_test, y_pred))"
      ],
      "execution_count": 0,
      "outputs": [
        {
          "output_type": "stream",
          "text": [
            "Variance score: 0.8194908320237266\n"
          ],
          "name": "stdout"
        }
      ]
    },
    {
      "metadata": {
        "id": "Erdo5UuGLqpS",
        "colab_type": "code",
        "colab": {
          "base_uri": "https://localhost:8080/",
          "height": 119
        },
        "outputId": "51f384a0-0629-4c1e-f41b-a42f9f7ebea0"
      },
      "cell_type": "code",
      "source": [
        "#Logistic Regression\n",
        "#We will predict the class of flower and then we will check the accuracy.\n",
        "#We have to make it cat\n",
        "data.dtypes"
      ],
      "execution_count": 0,
      "outputs": [
        {
          "output_type": "execute_result",
          "data": {
            "text/plain": [
              "sepal_length    float64\n",
              "sepal_width     float64\n",
              "petal_length    float64\n",
              "petal_width     float64\n",
              "cat              object\n",
              "dtype: object"
            ]
          },
          "metadata": {
            "tags": []
          },
          "execution_count": 60
        }
      ]
    },
    {
      "metadata": {
        "id": "tKqcWBUTLqpW",
        "colab_type": "code",
        "colab": {}
      },
      "cell_type": "code",
      "source": [
        "data[\"cat\"] = data[\"cat\"].astype('category')"
      ],
      "execution_count": 0,
      "outputs": []
    },
    {
      "metadata": {
        "id": "Jsf8wQ_TLqpb",
        "colab_type": "code",
        "colab": {
          "base_uri": "https://localhost:8080/",
          "height": 119
        },
        "outputId": "b738f5f6-070a-4167-cc81-db92fc938f93"
      },
      "cell_type": "code",
      "source": [
        "data.dtypes"
      ],
      "execution_count": 0,
      "outputs": [
        {
          "output_type": "execute_result",
          "data": {
            "text/plain": [
              "sepal_length     float64\n",
              "sepal_width      float64\n",
              "petal_length     float64\n",
              "petal_width      float64\n",
              "cat             category\n",
              "dtype: object"
            ]
          },
          "metadata": {
            "tags": []
          },
          "execution_count": 62
        }
      ]
    },
    {
      "metadata": {
        "id": "rn_bVjArLqpf",
        "colab_type": "code",
        "colab": {}
      },
      "cell_type": "code",
      "source": [
        "#import pandas as pd\n",
        "#data.cat = pd.Categorical(data.cat).codes"
      ],
      "execution_count": 0,
      "outputs": []
    },
    {
      "metadata": {
        "id": "4iPVBZqdLqpj",
        "colab_type": "code",
        "colab": {}
      },
      "cell_type": "code",
      "source": [
        "#Create Features and Target Dataframes.\n",
        "array_log = data.values"
      ],
      "execution_count": 0,
      "outputs": []
    },
    {
      "metadata": {
        "id": "rnivqnM7Lqpn",
        "colab_type": "code",
        "colab": {
          "base_uri": "https://localhost:8080/",
          "height": 119
        },
        "outputId": "b1affba2-6220-4489-96ec-6077abd805b8"
      },
      "cell_type": "code",
      "source": [
        "data.dtypes"
      ],
      "execution_count": 0,
      "outputs": [
        {
          "output_type": "execute_result",
          "data": {
            "text/plain": [
              "sepal_length     float64\n",
              "sepal_width      float64\n",
              "petal_length     float64\n",
              "petal_width      float64\n",
              "cat             category\n",
              "dtype: object"
            ]
          },
          "metadata": {
            "tags": []
          },
          "execution_count": 65
        }
      ]
    },
    {
      "metadata": {
        "id": "Vi6NC0EaLqpt",
        "colab_type": "code",
        "colab": {}
      },
      "cell_type": "code",
      "source": [
        "#Our Prediction column is at 4 th index and all other (0 till 5th) are our predictors columns\n",
        "#From 0 coulmn I want 4 columns\n",
        "X=array_log[:,0:4]\n",
        "Y=array_log[:,4]"
      ],
      "execution_count": 0,
      "outputs": []
    },
    {
      "metadata": {
        "id": "JaNXOK90Lqpx",
        "colab_type": "code",
        "colab": {}
      },
      "cell_type": "code",
      "source": [
        "#For Regression let us predict sepal_length from other variables.\n",
        "from sklearn.linear_model import LogisticRegression"
      ],
      "execution_count": 0,
      "outputs": []
    },
    {
      "metadata": {
        "id": "Zfk74NSaLqp2",
        "colab_type": "code",
        "colab": {}
      },
      "cell_type": "code",
      "source": [
        "model_log=LogisticRegression(multi_class=\"ovr\")"
      ],
      "execution_count": 0,
      "outputs": []
    },
    {
      "metadata": {
        "id": "QUQkYQd5Lqp4",
        "colab_type": "code",
        "colab": {}
      },
      "cell_type": "code",
      "source": [
        "#Split the data in to train and test sets.\n",
        "test_size = 0.33\n",
        "seed = 7\n",
        "from sklearn.model_selection import train_test_split\n",
        "X_train, X_test, Y_train, Y_test = train_test_split(X, Y, test_size=test_size,\n",
        "random_state=seed)"
      ],
      "execution_count": 0,
      "outputs": []
    },
    {
      "metadata": {
        "id": "yVxH_FcXLqp6",
        "colab_type": "code",
        "colab": {
          "base_uri": "https://localhost:8080/",
          "height": 85
        },
        "outputId": "218cff1d-d849-4e72-99ed-4a6df9b44948"
      },
      "cell_type": "code",
      "source": [
        "model_log.fit(X_train,Y_train)"
      ],
      "execution_count": 0,
      "outputs": [
        {
          "output_type": "execute_result",
          "data": {
            "text/plain": [
              "LogisticRegression(C=1.0, class_weight=None, dual=False, fit_intercept=True,\n",
              "          intercept_scaling=1, max_iter=100, multi_class='ovr', n_jobs=1,\n",
              "          penalty='l2', random_state=None, solver='liblinear', tol=0.0001,\n",
              "          verbose=0, warm_start=False)"
            ]
          },
          "metadata": {
            "tags": []
          },
          "execution_count": 70
        }
      ]
    },
    {
      "metadata": {
        "id": "KoK-CFNNLqp8",
        "colab_type": "code",
        "colab": {
          "base_uri": "https://localhost:8080/",
          "height": 238
        },
        "outputId": "0aed2798-8554-408a-a89e-de41c5357b1f"
      },
      "cell_type": "code",
      "source": [
        "print(model_log.predict(X_test))\n",
        "y_pred = model_log.predict(X_test)"
      ],
      "execution_count": 0,
      "outputs": [
        {
          "output_type": "stream",
          "text": [
            "['Iris-virginica' 'Iris-virginica' 'Iris-setosa' 'Iris-virginica'\n",
            " 'Iris-virginica' 'Iris-setosa' 'Iris-versicolor' 'Iris-versicolor'\n",
            " 'Iris-setosa' 'Iris-versicolor' 'Iris-versicolor' 'Iris-virginica'\n",
            " 'Iris-setosa' 'Iris-virginica' 'Iris-setosa' 'Iris-virginica'\n",
            " 'Iris-virginica' 'Iris-virginica' 'Iris-setosa' 'Iris-setosa'\n",
            " 'Iris-versicolor' 'Iris-virginica' 'Iris-versicolor' 'Iris-virginica'\n",
            " 'Iris-versicolor' 'Iris-virginica' 'Iris-versicolor' 'Iris-versicolor'\n",
            " 'Iris-virginica' 'Iris-virginica' 'Iris-virginica' 'Iris-versicolor'\n",
            " 'Iris-setosa' 'Iris-virginica' 'Iris-versicolor' 'Iris-setosa'\n",
            " 'Iris-setosa' 'Iris-setosa' 'Iris-setosa' 'Iris-virginica'\n",
            " 'Iris-virginica' 'Iris-versicolor' 'Iris-virginica' 'Iris-virginica'\n",
            " 'Iris-versicolor' 'Iris-setosa' 'Iris-versicolor' 'Iris-versicolor'\n",
            " 'Iris-virginica' 'Iris-setosa']\n"
          ],
          "name": "stdout"
        }
      ]
    },
    {
      "metadata": {
        "id": "dm7sgdFXLqp_",
        "colab_type": "code",
        "colab": {
          "base_uri": "https://localhost:8080/",
          "height": 289
        },
        "outputId": "82636ef7-8817-4afc-c98e-658d489d8938"
      },
      "cell_type": "code",
      "source": [
        "Y_test"
      ],
      "execution_count": 0,
      "outputs": [
        {
          "output_type": "execute_result",
          "data": {
            "text/plain": [
              "array(['Iris-virginica', 'Iris-versicolor', 'Iris-setosa',\n",
              "       'Iris-versicolor', 'Iris-virginica', 'Iris-setosa',\n",
              "       'Iris-versicolor', 'Iris-versicolor', 'Iris-setosa',\n",
              "       'Iris-versicolor', 'Iris-versicolor', 'Iris-versicolor',\n",
              "       'Iris-setosa', 'Iris-virginica', 'Iris-setosa', 'Iris-versicolor',\n",
              "       'Iris-virginica', 'Iris-virginica', 'Iris-setosa', 'Iris-setosa',\n",
              "       'Iris-versicolor', 'Iris-virginica', 'Iris-versicolor',\n",
              "       'Iris-virginica', 'Iris-virginica', 'Iris-virginica',\n",
              "       'Iris-versicolor', 'Iris-versicolor', 'Iris-virginica',\n",
              "       'Iris-virginica', 'Iris-virginica', 'Iris-versicolor',\n",
              "       'Iris-setosa', 'Iris-virginica', 'Iris-versicolor', 'Iris-setosa',\n",
              "       'Iris-setosa', 'Iris-setosa', 'Iris-setosa', 'Iris-virginica',\n",
              "       'Iris-virginica', 'Iris-versicolor', 'Iris-virginica',\n",
              "       'Iris-virginica', 'Iris-versicolor', 'Iris-setosa',\n",
              "       'Iris-versicolor', 'Iris-versicolor', 'Iris-virginica',\n",
              "       'Iris-setosa'], dtype=object)"
            ]
          },
          "metadata": {
            "tags": []
          },
          "execution_count": 72
        }
      ]
    },
    {
      "metadata": {
        "id": "1DhMl3AeLqqC",
        "colab_type": "code",
        "colab": {
          "base_uri": "https://localhost:8080/",
          "height": 34
        },
        "outputId": "c33b6898-b779-4331-925e-40592681c510"
      },
      "cell_type": "code",
      "source": [
        "#Accuracy Score\n",
        "from sklearn.metrics import accuracy_score\n",
        "accuracy_score(Y_test, y_pred)"
      ],
      "execution_count": 0,
      "outputs": [
        {
          "output_type": "execute_result",
          "data": {
            "text/plain": [
              "0.9"
            ]
          },
          "metadata": {
            "tags": []
          },
          "execution_count": 73
        }
      ]
    },
    {
      "metadata": {
        "id": "qWBbfMr0LqqF",
        "colab_type": "code",
        "colab": {
          "base_uri": "https://localhost:8080/",
          "height": 68
        },
        "outputId": "58306886-6539-4102-ce7f-8dd30a78c796"
      },
      "cell_type": "code",
      "source": [
        "from sklearn.metrics import confusion_matrix\n",
        "confusion_matrix(Y_test, y_pred,labels=[\"Iris-setosa\", \"Iris-versicolor\", \"Iris-virginica\"])"
      ],
      "execution_count": 0,
      "outputs": [
        {
          "output_type": "execute_result",
          "data": {
            "text/plain": [
              "array([[14,  0,  0],\n",
              "       [ 0, 14,  4],\n",
              "       [ 0,  1, 17]])"
            ]
          },
          "metadata": {
            "tags": []
          },
          "execution_count": 74
        }
      ]
    },
    {
      "metadata": {
        "id": "IwMf4qsvLqqH",
        "colab_type": "code",
        "colab": {
          "base_uri": "https://localhost:8080/",
          "height": 153
        },
        "outputId": "0e7afcea-9599-4ec3-f489-05160870343a"
      },
      "cell_type": "code",
      "source": [
        "#Accuracy Report\n",
        "target_names = ['Iris-setosa', 'Iris-versicolor', 'Iris-virginica']\n",
        "from sklearn.metrics import classification_report\n",
        "print(classification_report(Y_test, y_pred,target_names=target_names))"
      ],
      "execution_count": 0,
      "outputs": [
        {
          "output_type": "stream",
          "text": [
            "                 precision    recall  f1-score   support\n",
            "\n",
            "    Iris-setosa       1.00      1.00      1.00        14\n",
            "Iris-versicolor       0.93      0.78      0.85        18\n",
            " Iris-virginica       0.81      0.94      0.87        18\n",
            "\n",
            "    avg / total       0.91      0.90      0.90        50\n",
            "\n"
          ],
          "name": "stdout"
        }
      ]
    },
    {
      "metadata": {
        "id": "pCOH4Hn5LqqK",
        "colab_type": "code",
        "colab": {
          "base_uri": "https://localhost:8080/",
          "height": 496
        },
        "outputId": "a68b0c9d-b10b-4f31-e0a1-87c6abf2bc03"
      },
      "cell_type": "code",
      "source": [
        "Image(filename = PATH + \"pr2.jpg\")"
      ],
      "execution_count": 0,
      "outputs": [
        {
          "output_type": "execute_result",
          "data": {
            "image/jpeg": "[encoded data removed]",
            "text/plain": [
              "<IPython.core.display.Image object>"
            ]
          },
          "metadata": {
            "tags": []
          },
          "execution_count": 76
        }
      ]
    },
    {
      "metadata": {
        "id": "jpYOdIJYLqqN",
        "colab_type": "code",
        "colab": {
          "base_uri": "https://localhost:8080/",
          "height": 496
        },
        "outputId": "a43db2db-7f47-4af4-a3fa-b92437de705b"
      },
      "cell_type": "code",
      "source": [
        "Image(filename = PATH + \"pr.jpg\")"
      ],
      "execution_count": 0,
      "outputs": [
        {
          "output_type": "execute_result",
          "data": {
            "image/jpeg": "[encoded data removed]",
            "text/plain": [
              "<IPython.core.display.Image object>"
            ]
          },
          "metadata": {
            "tags": []
          },
          "execution_count": 77
        }
      ]
    },
    {
      "metadata": {
        "id": "pQcjtQJ_LqqQ",
        "colab_type": "code",
        "colab": {}
      },
      "cell_type": "code",
      "source": [
        "#Deep Learning\n",
        "#\t4 inputs -> [8 hidden nodes] -> 3 outputs\n",
        "from keras.models import Sequential\n",
        "from keras.layers import Dense\n",
        "from sklearn.model_selection import KFold"
      ],
      "execution_count": 0,
      "outputs": []
    },
    {
      "metadata": {
        "id": "aJ8DbzcgLqqT",
        "colab_type": "code",
        "colab": {}
      },
      "cell_type": "code",
      "source": [
        "#Create Features and Target Dataframes.\n",
        "array = df.values"
      ],
      "execution_count": 0,
      "outputs": []
    },
    {
      "metadata": {
        "id": "lBWnt1lqLqqX",
        "colab_type": "code",
        "colab": {
          "base_uri": "https://localhost:8080/",
          "height": 34
        },
        "outputId": "2cc661e7-e6ee-4e38-97b1-f033eaab88cf"
      },
      "cell_type": "code",
      "source": [
        "array.shape"
      ],
      "execution_count": 0,
      "outputs": [
        {
          "output_type": "execute_result",
          "data": {
            "text/plain": [
              "(150, 7)"
            ]
          },
          "metadata": {
            "tags": []
          },
          "execution_count": 80
        }
      ]
    },
    {
      "metadata": {
        "id": "vWZ5CtXgLqqa",
        "colab_type": "code",
        "colab": {
          "base_uri": "https://localhost:8080/",
          "height": 153
        },
        "outputId": "a1e034fc-6f63-4397-ce94-7b4f8634ab3b"
      },
      "cell_type": "code",
      "source": [
        "df.dtypes"
      ],
      "execution_count": 0,
      "outputs": [
        {
          "output_type": "execute_result",
          "data": {
            "text/plain": [
              "sepal_length       float64\n",
              "sepal_width        float64\n",
              "petal_length       float64\n",
              "petal_width        float64\n",
              "Iris-setosa          uint8\n",
              "Iris-versicolor      uint8\n",
              "Iris-virginica       uint8\n",
              "dtype: object"
            ]
          },
          "metadata": {
            "tags": []
          },
          "execution_count": 81
        }
      ]
    },
    {
      "metadata": {
        "id": "AGoMCwx_Lqqe",
        "colab_type": "code",
        "colab": {}
      },
      "cell_type": "code",
      "source": [
        "#Our Prediction column is at 0 th index and all other (1 till 7th) are our predictors columns\n",
        "X=array[:,0:4]\n",
        "Y=array[:,4:7]"
      ],
      "execution_count": 0,
      "outputs": []
    },
    {
      "metadata": {
        "id": "A3kE039CLqqg",
        "colab_type": "code",
        "colab": {}
      },
      "cell_type": "code",
      "source": [
        "#Split the data in to train and test sets.\n",
        "test_size = 0.33\n",
        "seed = 7\n",
        "from sklearn.model_selection import train_test_split\n",
        "X_train, X_test, Y_train, Y_test = train_test_split(X, Y, test_size=test_size,\n",
        "random_state=seed)"
      ],
      "execution_count": 0,
      "outputs": []
    },
    {
      "metadata": {
        "id": "If4fdJkeLqqk",
        "colab_type": "code",
        "colab": {
          "base_uri": "https://localhost:8080/",
          "height": 34
        },
        "outputId": "0bd64b61-bdc4-4c85-b9f5-42f07b392f5b"
      },
      "cell_type": "code",
      "source": [
        "#Dimensions of Input_dim (Number of features) and Output Dimension(Y dimension).\n",
        "X.shape[1],Y.shape[1]"
      ],
      "execution_count": 0,
      "outputs": [
        {
          "output_type": "execute_result",
          "data": {
            "text/plain": [
              "(4, 3)"
            ]
          },
          "metadata": {
            "tags": []
          },
          "execution_count": 84
        }
      ]
    },
    {
      "metadata": {
        "id": "9xCpAz7fLqqq",
        "colab_type": "code",
        "colab": {}
      },
      "cell_type": "code",
      "source": [
        "#Baseline model\n",
        "def baseline_model():\n",
        "    # create model\n",
        "    model = Sequential()\n",
        "    model.add(Dense(8, input_dim=4, activation='relu'))\n",
        "    model.add(Dense(3, activation='softmax'))\n",
        "    # Compile model\n",
        "    model.compile(loss='categorical_crossentropy', optimizer='adam', metrics=['accuracy'])\n",
        "    return model"
      ],
      "execution_count": 0,
      "outputs": []
    },
    {
      "metadata": {
        "id": "Shlwbb10Lqqw",
        "colab_type": "code",
        "colab": {
          "base_uri": "https://localhost:8080/",
          "height": 6834
        },
        "outputId": "10060914-8eea-47fe-ae1d-31120e4d53cc"
      },
      "cell_type": "code",
      "source": [
        "model=baseline_model()\n",
        "model.fit(X_train, Y_train,epochs=200,batch_size=5)"
      ],
      "execution_count": 0,
      "outputs": [
        {
          "output_type": "stream",
          "text": [
            "Epoch 1/200\n",
            "100/100 [==============================] - 0s 3ms/step - loss: 1.7725 - acc: 0.3600\n",
            "Epoch 2/200\n",
            "100/100 [==============================] - 0s 266us/step - loss: 1.4940 - acc: 0.3600\n",
            "Epoch 3/200\n",
            "100/100 [==============================] - 0s 267us/step - loss: 1.3254 - acc: 0.3400\n",
            "Epoch 4/200\n",
            "100/100 [==============================] - 0s 265us/step - loss: 1.1897 - acc: 0.2900\n",
            "Epoch 5/200\n",
            "100/100 [==============================] - 0s 278us/step - loss: 1.0834 - acc: 0.3200\n",
            "Epoch 6/200\n",
            "100/100 [==============================] - 0s 258us/step - loss: 1.0082 - acc: 0.5200\n",
            "Epoch 7/200\n",
            "100/100 [==============================] - 0s 270us/step - loss: 0.9443 - acc: 0.6000\n",
            "Epoch 8/200\n",
            "100/100 [==============================] - 0s 262us/step - loss: 0.8895 - acc: 0.6700\n",
            "Epoch 9/200\n",
            "100/100 [==============================] - 0s 302us/step - loss: 0.8402 - acc: 0.6900\n",
            "Epoch 10/200\n",
            "100/100 [==============================] - 0s 355us/step - loss: 0.7975 - acc: 0.7400\n",
            "Epoch 11/200\n",
            "100/100 [==============================] - 0s 247us/step - loss: 0.7586 - acc: 0.7600\n",
            "Epoch 12/200\n",
            "100/100 [==============================] - 0s 251us/step - loss: 0.7249 - acc: 0.7600\n",
            "Epoch 13/200\n",
            "100/100 [==============================] - 0s 260us/step - loss: 0.6947 - acc: 0.7800\n",
            "Epoch 14/200\n",
            "100/100 [==============================] - 0s 241us/step - loss: 0.6663 - acc: 0.8000\n",
            "Epoch 15/200\n",
            "100/100 [==============================] - 0s 269us/step - loss: 0.6427 - acc: 0.8000\n",
            "Epoch 16/200\n",
            "100/100 [==============================] - 0s 293us/step - loss: 0.6211 - acc: 0.8000\n",
            "Epoch 17/200\n",
            "100/100 [==============================] - 0s 316us/step - loss: 0.6007 - acc: 0.8000\n",
            "Epoch 18/200\n",
            "100/100 [==============================] - 0s 313us/step - loss: 0.5841 - acc: 0.8100\n",
            "Epoch 19/200\n",
            "100/100 [==============================] - 0s 287us/step - loss: 0.5665 - acc: 0.8300\n",
            "Epoch 20/200\n",
            "100/100 [==============================] - 0s 280us/step - loss: 0.5527 - acc: 0.8300\n",
            "Epoch 21/200\n",
            "100/100 [==============================] - 0s 282us/step - loss: 0.5398 - acc: 0.8400\n",
            "Epoch 22/200\n",
            "100/100 [==============================] - 0s 317us/step - loss: 0.5265 - acc: 0.8300\n",
            "Epoch 23/200\n",
            "100/100 [==============================] - 0s 327us/step - loss: 0.5150 - acc: 0.8500\n",
            "Epoch 24/200\n",
            "100/100 [==============================] - 0s 325us/step - loss: 0.5043 - acc: 0.8800\n",
            "Epoch 25/200\n",
            "100/100 [==============================] - 0s 270us/step - loss: 0.4944 - acc: 0.8800\n",
            "Epoch 26/200\n",
            "100/100 [==============================] - 0s 305us/step - loss: 0.4856 - acc: 0.8900\n",
            "Epoch 27/200\n",
            "100/100 [==============================] - 0s 312us/step - loss: 0.4791 - acc: 0.9000\n",
            "Epoch 28/200\n",
            "100/100 [==============================] - 0s 295us/step - loss: 0.4681 - acc: 0.9100\n",
            "Epoch 29/200\n",
            "100/100 [==============================] - 0s 267us/step - loss: 0.4613 - acc: 0.9200\n",
            "Epoch 30/200\n",
            "100/100 [==============================] - 0s 300us/step - loss: 0.4541 - acc: 0.9200\n"
          ],
          "name": "stdout"
        },
        {
          "output_type": "stream",
          "text": [
            "Epoch 31/200\n",
            "100/100 [==============================] - 0s 263us/step - loss: 0.4482 - acc: 0.9200\n",
            "Epoch 32/200\n",
            "100/100 [==============================] - 0s 261us/step - loss: 0.4414 - acc: 0.9200\n",
            "Epoch 33/200\n",
            "100/100 [==============================] - 0s 283us/step - loss: 0.4338 - acc: 0.9200\n",
            "Epoch 34/200\n",
            "100/100 [==============================] - 0s 272us/step - loss: 0.4282 - acc: 0.9200\n",
            "Epoch 35/200\n",
            "100/100 [==============================] - 0s 264us/step - loss: 0.4224 - acc: 0.9200\n",
            "Epoch 36/200\n",
            "100/100 [==============================] - 0s 247us/step - loss: 0.4182 - acc: 0.9300\n",
            "Epoch 37/200\n",
            "100/100 [==============================] - 0s 266us/step - loss: 0.4126 - acc: 0.9200\n",
            "Epoch 38/200\n",
            "100/100 [==============================] - 0s 252us/step - loss: 0.4059 - acc: 0.9200\n",
            "Epoch 39/200\n",
            "100/100 [==============================] - 0s 239us/step - loss: 0.4018 - acc: 0.9200\n",
            "Epoch 40/200\n",
            "100/100 [==============================] - 0s 258us/step - loss: 0.3968 - acc: 0.9200\n",
            "Epoch 41/200\n",
            "100/100 [==============================] - 0s 231us/step - loss: 0.3924 - acc: 0.9300\n",
            "Epoch 42/200\n",
            "100/100 [==============================] - 0s 244us/step - loss: 0.3877 - acc: 0.9100\n",
            "Epoch 43/200\n",
            "100/100 [==============================] - 0s 263us/step - loss: 0.3825 - acc: 0.9200\n",
            "Epoch 44/200\n",
            "100/100 [==============================] - 0s 287us/step - loss: 0.3813 - acc: 0.9100\n",
            "Epoch 45/200\n",
            "100/100 [==============================] - 0s 266us/step - loss: 0.3748 - acc: 0.9400\n",
            "Epoch 46/200\n",
            "100/100 [==============================] - 0s 279us/step - loss: 0.3706 - acc: 0.9300\n",
            "Epoch 47/200\n",
            "100/100 [==============================] - 0s 260us/step - loss: 0.3646 - acc: 0.9300\n",
            "Epoch 48/200\n",
            "100/100 [==============================] - 0s 312us/step - loss: 0.3615 - acc: 0.9300\n",
            "Epoch 49/200\n",
            "100/100 [==============================] - 0s 259us/step - loss: 0.3569 - acc: 0.9300\n",
            "Epoch 50/200\n",
            "100/100 [==============================] - 0s 310us/step - loss: 0.3530 - acc: 0.9200\n",
            "Epoch 51/200\n",
            "100/100 [==============================] - 0s 256us/step - loss: 0.3497 - acc: 0.9300\n",
            "Epoch 52/200\n",
            "100/100 [==============================] - 0s 263us/step - loss: 0.3473 - acc: 0.9100\n",
            "Epoch 53/200\n",
            "100/100 [==============================] - 0s 299us/step - loss: 0.3413 - acc: 0.9200\n",
            "Epoch 54/200\n",
            "100/100 [==============================] - 0s 262us/step - loss: 0.3376 - acc: 0.9300\n",
            "Epoch 55/200\n",
            "100/100 [==============================] - 0s 277us/step - loss: 0.3346 - acc: 0.9300\n",
            "Epoch 56/200\n",
            "100/100 [==============================] - 0s 281us/step - loss: 0.3304 - acc: 0.9300\n",
            "Epoch 57/200\n",
            "100/100 [==============================] - 0s 303us/step - loss: 0.3274 - acc: 0.9300\n",
            "Epoch 58/200\n",
            "100/100 [==============================] - 0s 296us/step - loss: 0.3233 - acc: 0.9300\n",
            "Epoch 59/200\n",
            "100/100 [==============================] - 0s 271us/step - loss: 0.3206 - acc: 0.9300\n",
            "Epoch 60/200\n",
            "100/100 [==============================] - 0s 258us/step - loss: 0.3162 - acc: 0.9200\n",
            "Epoch 61/200\n",
            "  5/100 [>.............................] - ETA: 0s - loss: 0.2733 - acc: 1.0000"
          ],
          "name": "stdout"
        },
        {
          "output_type": "stream",
          "text": [
            "100/100 [==============================] - 0s 270us/step - loss: 0.3138 - acc: 0.9300\n",
            "Epoch 62/200\n",
            "100/100 [==============================] - 0s 308us/step - loss: 0.3098 - acc: 0.9400\n",
            "Epoch 63/200\n",
            "100/100 [==============================] - 0s 297us/step - loss: 0.3073 - acc: 0.9400\n",
            "Epoch 64/200\n",
            "100/100 [==============================] - 0s 262us/step - loss: 0.3032 - acc: 0.9300\n",
            "Epoch 65/200\n",
            "100/100 [==============================] - 0s 277us/step - loss: 0.2997 - acc: 0.9400\n",
            "Epoch 66/200\n",
            "100/100 [==============================] - 0s 269us/step - loss: 0.2966 - acc: 0.9400\n",
            "Epoch 67/200\n",
            "100/100 [==============================] - 0s 292us/step - loss: 0.2940 - acc: 0.9400\n",
            "Epoch 68/200\n",
            "100/100 [==============================] - 0s 328us/step - loss: 0.2927 - acc: 0.9400\n",
            "Epoch 69/200\n",
            "100/100 [==============================] - 0s 304us/step - loss: 0.2871 - acc: 0.9400\n",
            "Epoch 70/200\n",
            "100/100 [==============================] - 0s 313us/step - loss: 0.2841 - acc: 0.9300\n",
            "Epoch 71/200\n",
            "100/100 [==============================] - 0s 292us/step - loss: 0.2809 - acc: 0.9400\n",
            "Epoch 72/200\n",
            "100/100 [==============================] - 0s 307us/step - loss: 0.2813 - acc: 0.9400\n",
            "Epoch 73/200\n",
            "100/100 [==============================] - 0s 295us/step - loss: 0.2809 - acc: 0.9400\n",
            "Epoch 74/200\n",
            "100/100 [==============================] - 0s 304us/step - loss: 0.2718 - acc: 0.9400\n",
            "Epoch 75/200\n",
            "100/100 [==============================] - 0s 292us/step - loss: 0.2723 - acc: 0.9300\n",
            "Epoch 76/200\n",
            "100/100 [==============================] - 0s 398us/step - loss: 0.2700 - acc: 0.9300\n",
            "Epoch 77/200\n",
            "100/100 [==============================] - 0s 316us/step - loss: 0.2642 - acc: 0.9400\n",
            "Epoch 78/200\n",
            "100/100 [==============================] - 0s 309us/step - loss: 0.2615 - acc: 0.9400\n",
            "Epoch 79/200\n",
            "100/100 [==============================] - 0s 374us/step - loss: 0.2614 - acc: 0.9400\n",
            "Epoch 80/200\n",
            "100/100 [==============================] - 0s 292us/step - loss: 0.2549 - acc: 0.9400\n",
            "Epoch 81/200\n",
            "100/100 [==============================] - 0s 275us/step - loss: 0.2564 - acc: 0.9200\n",
            "Epoch 82/200\n",
            "100/100 [==============================] - 0s 277us/step - loss: 0.2535 - acc: 0.9300\n",
            "Epoch 83/200\n",
            "100/100 [==============================] - 0s 358us/step - loss: 0.2479 - acc: 0.9400\n",
            "Epoch 84/200\n",
            "100/100 [==============================] - 0s 343us/step - loss: 0.2473 - acc: 0.9300\n",
            "Epoch 85/200\n",
            "100/100 [==============================] - 0s 323us/step - loss: 0.2442 - acc: 0.9300\n",
            "Epoch 86/200\n",
            "100/100 [==============================] - 0s 335us/step - loss: 0.2404 - acc: 0.9400\n",
            "Epoch 87/200\n",
            "100/100 [==============================] - 0s 262us/step - loss: 0.2428 - acc: 0.9300\n",
            "Epoch 88/200\n",
            "100/100 [==============================] - 0s 314us/step - loss: 0.2355 - acc: 0.9400\n",
            "Epoch 89/200\n",
            "  5/100 [>.............................] - ETA: 0s - loss: 0.1697 - acc: 1.0000"
          ],
          "name": "stdout"
        },
        {
          "output_type": "stream",
          "text": [
            "\b\b\b\b\b\b\b\b\b\b\b\b\b\b\b\b\b\b\b\b\b\b\b\b\b\b\b\b\b\b\b\b\b\b\b\b\b\b\b\b\b\b\b\b\b\b\b\b\b\b\b\b\b\b\b\b\b\b\b\b\b\b\b\b\b\b\b\b\b\b\b\b\b\b\b\b\b\b\b\r100/100 [==============================] - 0s 292us/step - loss: 0.2356 - acc: 0.9400\n",
            "Epoch 90/200\n",
            "100/100 [==============================] - 0s 341us/step - loss: 0.2339 - acc: 0.9300\n",
            "Epoch 91/200\n",
            "100/100 [==============================] - 0s 374us/step - loss: 0.2305 - acc: 0.9400\n",
            "Epoch 92/200\n",
            "100/100 [==============================] - 0s 305us/step - loss: 0.2287 - acc: 0.9400\n",
            "Epoch 93/200\n",
            "100/100 [==============================] - 0s 259us/step - loss: 0.2255 - acc: 0.9400\n",
            "Epoch 94/200\n",
            "100/100 [==============================] - 0s 296us/step - loss: 0.2248 - acc: 0.9400\n",
            "Epoch 95/200\n",
            "100/100 [==============================] - 0s 282us/step - loss: 0.2234 - acc: 0.9300\n",
            "Epoch 96/200\n",
            "100/100 [==============================] - 0s 286us/step - loss: 0.2193 - acc: 0.9400\n",
            "Epoch 97/200\n",
            "100/100 [==============================] - 0s 335us/step - loss: 0.2166 - acc: 0.9400\n",
            "Epoch 98/200\n",
            "100/100 [==============================] - 0s 339us/step - loss: 0.2172 - acc: 0.9300\n",
            "Epoch 99/200\n",
            "100/100 [==============================] - 0s 284us/step - loss: 0.2125 - acc: 0.9400\n",
            "Epoch 100/200\n",
            "100/100 [==============================] - 0s 306us/step - loss: 0.2120 - acc: 0.9400\n",
            "Epoch 101/200\n",
            "100/100 [==============================] - 0s 335us/step - loss: 0.2091 - acc: 0.9400\n",
            "Epoch 102/200\n",
            "100/100 [==============================] - 0s 311us/step - loss: 0.2079 - acc: 0.9400\n",
            "Epoch 103/200\n",
            "100/100 [==============================] - 0s 306us/step - loss: 0.2074 - acc: 0.9300\n",
            "Epoch 104/200\n",
            "100/100 [==============================] - 0s 278us/step - loss: 0.2055 - acc: 0.9400\n",
            "Epoch 105/200\n",
            "100/100 [==============================] - 0s 270us/step - loss: 0.2065 - acc: 0.9400\n",
            "Epoch 106/200\n",
            "100/100 [==============================] - 0s 274us/step - loss: 0.2037 - acc: 0.9300\n",
            "Epoch 107/200\n",
            "100/100 [==============================] - 0s 302us/step - loss: 0.1982 - acc: 0.9400\n",
            "Epoch 108/200\n",
            "100/100 [==============================] - 0s 310us/step - loss: 0.1971 - acc: 0.9400\n",
            "Epoch 109/200\n",
            "100/100 [==============================] - 0s 366us/step - loss: 0.1972 - acc: 0.9300\n",
            "Epoch 110/200\n",
            "100/100 [==============================] - 0s 299us/step - loss: 0.1935 - acc: 0.9400\n",
            "Epoch 111/200\n",
            "100/100 [==============================] - 0s 302us/step - loss: 0.1931 - acc: 0.9400\n",
            "Epoch 112/200\n",
            "100/100 [==============================] - 0s 283us/step - loss: 0.1902 - acc: 0.9400\n",
            "Epoch 113/200\n",
            "100/100 [==============================] - 0s 334us/step - loss: 0.1904 - acc: 0.9400\n",
            "Epoch 114/200\n",
            "100/100 [==============================] - 0s 321us/step - loss: 0.1886 - acc: 0.9400\n",
            "Epoch 115/200\n",
            "100/100 [==============================] - 0s 338us/step - loss: 0.1847 - acc: 0.9400\n",
            "Epoch 116/200\n",
            "100/100 [==============================] - 0s 280us/step - loss: 0.1841 - acc: 0.9400\n",
            "Epoch 117/200\n",
            "100/100 [==============================] - 0s 293us/step - loss: 0.1827 - acc: 0.9400\n"
          ],
          "name": "stdout"
        },
        {
          "output_type": "stream",
          "text": [
            "Epoch 118/200\n",
            "100/100 [==============================] - 0s 324us/step - loss: 0.1820 - acc: 0.9400\n",
            "Epoch 119/200\n",
            "100/100 [==============================] - 0s 364us/step - loss: 0.1803 - acc: 0.9400\n",
            "Epoch 120/200\n",
            "100/100 [==============================] - 0s 317us/step - loss: 0.1782 - acc: 0.9400\n",
            "Epoch 121/200\n",
            "100/100 [==============================] - 0s 282us/step - loss: 0.1777 - acc: 0.9400\n",
            "Epoch 122/200\n",
            "100/100 [==============================] - 0s 329us/step - loss: 0.1774 - acc: 0.9400\n",
            "Epoch 123/200\n",
            "100/100 [==============================] - 0s 308us/step - loss: 0.1746 - acc: 0.9500\n",
            "Epoch 124/200\n",
            "100/100 [==============================] - 0s 373us/step - loss: 0.1759 - acc: 0.9500\n",
            "Epoch 125/200\n",
            "100/100 [==============================] - 0s 266us/step - loss: 0.1728 - acc: 0.9400\n",
            "Epoch 126/200\n",
            "100/100 [==============================] - 0s 303us/step - loss: 0.1726 - acc: 0.9300\n",
            "Epoch 127/200\n",
            "100/100 [==============================] - 0s 354us/step - loss: 0.1692 - acc: 0.9400\n",
            "Epoch 128/200\n",
            "100/100 [==============================] - 0s 319us/step - loss: 0.1701 - acc: 0.9400\n",
            "Epoch 129/200\n",
            "100/100 [==============================] - 0s 310us/step - loss: 0.1684 - acc: 0.9400\n",
            "Epoch 130/200\n",
            "100/100 [==============================] - 0s 268us/step - loss: 0.1659 - acc: 0.9400\n",
            "Epoch 131/200\n",
            "100/100 [==============================] - 0s 310us/step - loss: 0.1642 - acc: 0.9400\n",
            "Epoch 132/200\n",
            "100/100 [==============================] - 0s 305us/step - loss: 0.1645 - acc: 0.9400\n",
            "Epoch 133/200\n",
            "100/100 [==============================] - 0s 281us/step - loss: 0.1637 - acc: 0.9500\n",
            "Epoch 134/200\n",
            "100/100 [==============================] - 0s 260us/step - loss: 0.1612 - acc: 0.9500\n",
            "Epoch 135/200\n",
            "100/100 [==============================] - 0s 260us/step - loss: 0.1605 - acc: 0.9400\n",
            "Epoch 136/200\n",
            "100/100 [==============================] - 0s 298us/step - loss: 0.1586 - acc: 0.9500\n",
            "Epoch 137/200\n",
            "100/100 [==============================] - 0s 353us/step - loss: 0.1600 - acc: 0.9400\n",
            "Epoch 138/200\n",
            "100/100 [==============================] - 0s 336us/step - loss: 0.1568 - acc: 0.9500\n",
            "Epoch 139/200\n",
            "100/100 [==============================] - 0s 297us/step - loss: 0.1557 - acc: 0.9400\n",
            "Epoch 140/200\n",
            "100/100 [==============================] - 0s 286us/step - loss: 0.1558 - acc: 0.9500\n",
            "Epoch 141/200\n",
            "100/100 [==============================] - 0s 288us/step - loss: 0.1554 - acc: 0.9400\n",
            "Epoch 142/200\n",
            "100/100 [==============================] - 0s 329us/step - loss: 0.1530 - acc: 0.9500\n",
            "Epoch 143/200\n",
            "100/100 [==============================] - 0s 295us/step - loss: 0.1529 - acc: 0.9500\n",
            "Epoch 144/200\n",
            "100/100 [==============================] - 0s 277us/step - loss: 0.1515 - acc: 0.9500\n",
            "Epoch 145/200\n",
            "100/100 [==============================] - 0s 310us/step - loss: 0.1511 - acc: 0.9400\n",
            "Epoch 146/200\n",
            "  5/100 [>.............................] - ETA: 0s - loss: 0.2653 - acc: 0.8000"
          ],
          "name": "stdout"
        },
        {
          "output_type": "stream",
          "text": [
            "100/100 [==============================] - 0s 288us/step - loss: 0.1545 - acc: 0.9500\n",
            "Epoch 147/200\n",
            "100/100 [==============================] - 0s 281us/step - loss: 0.1500 - acc: 0.9500\n",
            "Epoch 148/200\n",
            "100/100 [==============================] - 0s 295us/step - loss: 0.1496 - acc: 0.9500\n",
            "Epoch 149/200\n",
            "100/100 [==============================] - 0s 275us/step - loss: 0.1493 - acc: 0.9500\n",
            "Epoch 150/200\n",
            "100/100 [==============================] - 0s 269us/step - loss: 0.1453 - acc: 0.9500\n",
            "Epoch 151/200\n",
            "100/100 [==============================] - 0s 265us/step - loss: 0.1452 - acc: 0.9500\n",
            "Epoch 152/200\n",
            "100/100 [==============================] - 0s 311us/step - loss: 0.1450 - acc: 0.9500\n",
            "Epoch 153/200\n",
            "100/100 [==============================] - 0s 289us/step - loss: 0.1474 - acc: 0.9500\n",
            "Epoch 154/200\n",
            "100/100 [==============================] - 0s 280us/step - loss: 0.1420 - acc: 0.9500\n",
            "Epoch 155/200\n",
            "100/100 [==============================] - 0s 296us/step - loss: 0.1422 - acc: 0.9600\n",
            "Epoch 156/200\n",
            "100/100 [==============================] - 0s 274us/step - loss: 0.1439 - acc: 0.9400\n",
            "Epoch 157/200\n",
            "100/100 [==============================] - 0s 289us/step - loss: 0.1436 - acc: 0.9400\n",
            "Epoch 158/200\n",
            "100/100 [==============================] - 0s 285us/step - loss: 0.1396 - acc: 0.9500\n",
            "Epoch 159/200\n",
            "100/100 [==============================] - 0s 303us/step - loss: 0.1397 - acc: 0.9500\n",
            "Epoch 160/200\n",
            "100/100 [==============================] - 0s 303us/step - loss: 0.1388 - acc: 0.9500\n",
            "Epoch 161/200\n",
            "100/100 [==============================] - 0s 289us/step - loss: 0.1405 - acc: 0.9600\n",
            "Epoch 162/200\n",
            "100/100 [==============================] - 0s 276us/step - loss: 0.1370 - acc: 0.9500\n",
            "Epoch 163/200\n",
            "100/100 [==============================] - 0s 309us/step - loss: 0.1377 - acc: 0.9500\n",
            "Epoch 164/200\n",
            "100/100 [==============================] - 0s 373us/step - loss: 0.1356 - acc: 0.9500\n",
            "Epoch 165/200\n",
            "100/100 [==============================] - 0s 300us/step - loss: 0.1345 - acc: 0.9500\n",
            "Epoch 166/200\n",
            "100/100 [==============================] - 0s 307us/step - loss: 0.1357 - acc: 0.9500\n",
            "Epoch 167/200\n",
            "100/100 [==============================] - 0s 307us/step - loss: 0.1334 - acc: 0.9500\n",
            "Epoch 168/200\n",
            "100/100 [==============================] - 0s 290us/step - loss: 0.1333 - acc: 0.9600\n",
            "Epoch 169/200\n",
            "100/100 [==============================] - 0s 271us/step - loss: 0.1311 - acc: 0.9500\n",
            "Epoch 170/200\n",
            "100/100 [==============================] - 0s 314us/step - loss: 0.1331 - acc: 0.9500\n",
            "Epoch 171/200\n",
            "100/100 [==============================] - 0s 284us/step - loss: 0.1313 - acc: 0.9500\n",
            "Epoch 172/200\n",
            "100/100 [==============================] - 0s 297us/step - loss: 0.1291 - acc: 0.9500\n",
            "Epoch 173/200\n",
            "100/100 [==============================] - 0s 337us/step - loss: 0.1292 - acc: 0.9500\n",
            "Epoch 174/200\n",
            "100/100 [==============================] - 0s 296us/step - loss: 0.1282 - acc: 0.9500\n",
            "Epoch 175/200\n",
            "  5/100 [>.............................] - ETA: 0s - loss: 0.0251 - acc: 1.0000"
          ],
          "name": "stdout"
        },
        {
          "output_type": "stream",
          "text": [
            "100/100 [==============================] - 0s 309us/step - loss: 0.1273 - acc: 0.9500\n",
            "Epoch 176/200\n",
            "100/100 [==============================] - 0s 317us/step - loss: 0.1279 - acc: 0.9500\n",
            "Epoch 177/200\n",
            "100/100 [==============================] - 0s 355us/step - loss: 0.1263 - acc: 0.9500\n",
            "Epoch 178/200\n",
            "100/100 [==============================] - 0s 282us/step - loss: 0.1271 - acc: 0.9500\n",
            "Epoch 179/200\n",
            "100/100 [==============================] - 0s 275us/step - loss: 0.1252 - acc: 0.9500\n",
            "Epoch 180/200\n",
            "100/100 [==============================] - 0s 286us/step - loss: 0.1243 - acc: 0.9500\n",
            "Epoch 181/200\n",
            "100/100 [==============================] - 0s 362us/step - loss: 0.1234 - acc: 0.9500\n",
            "Epoch 182/200\n",
            "100/100 [==============================] - 0s 306us/step - loss: 0.1247 - acc: 0.9500\n",
            "Epoch 183/200\n",
            "100/100 [==============================] - 0s 306us/step - loss: 0.1216 - acc: 0.9500\n",
            "Epoch 184/200\n",
            "100/100 [==============================] - 0s 318us/step - loss: 0.1229 - acc: 0.9600\n",
            "Epoch 185/200\n",
            "100/100 [==============================] - 0s 318us/step - loss: 0.1225 - acc: 0.9500\n",
            "Epoch 186/200\n",
            "100/100 [==============================] - 0s 263us/step - loss: 0.1217 - acc: 0.9500\n",
            "Epoch 187/200\n",
            "100/100 [==============================] - 0s 287us/step - loss: 0.1217 - acc: 0.9500\n",
            "Epoch 188/200\n",
            "100/100 [==============================] - 0s 335us/step - loss: 0.1228 - acc: 0.9500\n",
            "Epoch 189/200\n",
            "100/100 [==============================] - 0s 333us/step - loss: 0.1190 - acc: 0.9600\n",
            "Epoch 190/200\n",
            "100/100 [==============================] - 0s 368us/step - loss: 0.1217 - acc: 0.9500\n",
            "Epoch 191/200\n",
            "100/100 [==============================] - 0s 322us/step - loss: 0.1214 - acc: 0.9600\n",
            "Epoch 192/200\n",
            "100/100 [==============================] - 0s 298us/step - loss: 0.1177 - acc: 0.9500\n",
            "Epoch 193/200\n",
            "100/100 [==============================] - 0s 266us/step - loss: 0.1179 - acc: 0.9500\n",
            "Epoch 194/200\n",
            "100/100 [==============================] - 0s 336us/step - loss: 0.1176 - acc: 0.9600\n",
            "Epoch 195/200\n",
            "100/100 [==============================] - 0s 242us/step - loss: 0.1175 - acc: 0.9500\n",
            "Epoch 196/200\n",
            "100/100 [==============================] - 0s 311us/step - loss: 0.1186 - acc: 0.9500\n",
            "Epoch 197/200\n",
            "100/100 [==============================] - 0s 269us/step - loss: 0.1142 - acc: 0.9500\n",
            "Epoch 198/200\n",
            "100/100 [==============================] - 0s 295us/step - loss: 0.1175 - acc: 0.9600\n",
            "Epoch 199/200\n",
            "100/100 [==============================] - 0s 269us/step - loss: 0.1139 - acc: 0.9600\n",
            "Epoch 200/200\n",
            "100/100 [==============================] - 0s 294us/step - loss: 0.1198 - acc: 0.9400\n"
          ],
          "name": "stdout"
        },
        {
          "output_type": "execute_result",
          "data": {
            "text/plain": [
              "<keras.callbacks.History at 0x7fd461b46e80>"
            ]
          },
          "metadata": {
            "tags": []
          },
          "execution_count": 86
        }
      ]
    },
    {
      "metadata": {
        "id": "D_z-fxifLqq3",
        "colab_type": "code",
        "colab": {
          "base_uri": "https://localhost:8080/",
          "height": 34
        },
        "outputId": "b4e8729d-2e10-44a4-a523-829709d37813"
      },
      "cell_type": "code",
      "source": [
        "results = model.evaluate(X_test, Y_test)"
      ],
      "execution_count": 0,
      "outputs": [
        {
          "output_type": "stream",
          "text": [
            "50/50 [==============================] - 0s 553us/step\n"
          ],
          "name": "stdout"
        }
      ]
    },
    {
      "metadata": {
        "id": "L9W7fb_DLqq9",
        "colab_type": "code",
        "colab": {
          "base_uri": "https://localhost:8080/",
          "height": 34
        },
        "outputId": "19220a84-b86b-49e7-ef54-65b4e9f26f77"
      },
      "cell_type": "code",
      "source": [
        "print ( \"Accuracy\",results[1])"
      ],
      "execution_count": 0,
      "outputs": [
        {
          "output_type": "stream",
          "text": [
            "Accuracy 0.96\n"
          ],
          "name": "stdout"
        }
      ]
    },
    {
      "metadata": {
        "id": "JOaEcXxDLqrB",
        "colab_type": "code",
        "colab": {
          "base_uri": "https://localhost:8080/",
          "height": 34
        },
        "outputId": "2ca96a23-aeb4-4705-8f2d-3a6f61e44151"
      },
      "cell_type": "code",
      "source": [
        "import numpy as np\n",
        "predictions=np.round(model.predict(X_test))\n",
        "predictions.shape"
      ],
      "execution_count": 0,
      "outputs": [
        {
          "output_type": "execute_result",
          "data": {
            "text/plain": [
              "(50, 3)"
            ]
          },
          "metadata": {
            "tags": []
          },
          "execution_count": 89
        }
      ]
    },
    {
      "metadata": {
        "id": "5jtGIzZ3LqrG",
        "colab_type": "code",
        "colab": {
          "base_uri": "https://localhost:8080/",
          "height": 51
        },
        "outputId": "ffa1be8c-2c63-4d2e-98cc-e8510dd076b6"
      },
      "cell_type": "code",
      "source": [
        "predictions[0:2]"
      ],
      "execution_count": 0,
      "outputs": [
        {
          "output_type": "execute_result",
          "data": {
            "text/plain": [
              "array([[0., 0., 1.],\n",
              "       [0., 1., 0.]], dtype=float32)"
            ]
          },
          "metadata": {
            "tags": []
          },
          "execution_count": 90
        }
      ]
    },
    {
      "metadata": {
        "id": "EWLwwwLQLqrJ",
        "colab_type": "code",
        "colab": {
          "base_uri": "https://localhost:8080/",
          "height": 51
        },
        "outputId": "28108c4a-b203-4500-b078-8d51dd3ec35b"
      },
      "cell_type": "code",
      "source": [
        "Y_test[0:2]"
      ],
      "execution_count": 0,
      "outputs": [
        {
          "output_type": "execute_result",
          "data": {
            "text/plain": [
              "array([[0., 0., 1.],\n",
              "       [0., 1., 0.]])"
            ]
          },
          "metadata": {
            "tags": []
          },
          "execution_count": 91
        }
      ]
    },
    {
      "metadata": {
        "id": "1wm3yklTLqrO",
        "colab_type": "text"
      },
      "cell_type": "markdown",
      "source": [
        "### Label ranking average precision\n",
        "\n",
        "Multioutput Classification Metrics.\n",
        "http://scikit-learn.org/stable/modules/model_evaluation.html#multilabel-ranking-metrics\n",
        "\n",
        "The label_ranking_average_precision_score function implements label ranking average precision (LRAP). This metric is linked to the average_precision_score function, but is based on the notion of label ranking instead of precision and recall.\n",
        "\n",
        "Label ranking average precision (LRAP) is the average over each ground truth label assigned to each sample, of the ratio of true vs. total labels with lower score. This metric will yield better scores if you are able to give better rank to the labels associated with each sample. The obtained score is always strictly greater than 0, and the best value is 1. If there is exactly one relevant label per sample, label ranking average precision is equivalent to the mean reciprocal rank."
      ]
    },
    {
      "metadata": {
        "id": "aR8UixcoLqrP",
        "colab_type": "code",
        "colab": {
          "base_uri": "https://localhost:8080/",
          "height": 34
        },
        "outputId": "a5920725-e1c8-48ee-81ed-b246f363b1b9"
      },
      "cell_type": "code",
      "source": [
        "#Multioutput Classification Metrics.\n",
        "#http://scikit-learn.org/stable/modules/model_evaluation.html#multilabel-ranking-metrics\n",
        "from sklearn.metrics import label_ranking_average_precision_score\n",
        "print(label_ranking_average_precision_score(Y_test, predictions))"
      ],
      "execution_count": 0,
      "outputs": [
        {
          "output_type": "stream",
          "text": [
            "0.9733333333333333\n"
          ],
          "name": "stdout"
        }
      ]
    },
    {
      "metadata": {
        "id": "DA-17ISLLqrT",
        "colab_type": "code",
        "colab": {}
      },
      "cell_type": "code",
      "source": [
        "#Tensorflow\n",
        "from __future__ import absolute_import\n",
        "from __future__ import division\n",
        "from __future__ import print_function\n",
        "\n",
        "import tensorflow as tf"
      ],
      "execution_count": 0,
      "outputs": []
    },
    {
      "metadata": {
        "id": "zUw_cxdJLqrV",
        "colab_type": "code",
        "colab": {
          "base_uri": "https://localhost:8080/",
          "height": 34
        },
        "outputId": "985179ad-8898-4df3-cba8-9dc79cccb12f"
      },
      "cell_type": "code",
      "source": [
        "Image(url =\"https://isaacchanghau.github.io/images/deeplearning/activationfunction/softmax.png\")"
      ],
      "execution_count": 0,
      "outputs": [
        {
          "output_type": "execute_result",
          "data": {
            "text/html": [
              "<img src=\"https://isaacchanghau.github.io/images/deeplearning/activationfunction/softmax.png\"/>"
            ],
            "text/plain": [
              "<IPython.core.display.Image object>"
            ]
          },
          "metadata": {
            "tags": []
          },
          "execution_count": 94
        }
      ]
    },
    {
      "metadata": {
        "id": "wFjJtCKhLqrY",
        "colab_type": "code",
        "colab": {
          "base_uri": "https://localhost:8080/",
          "height": 402
        },
        "outputId": "0092f151-1f14-47fa-9d8e-d0cbe72d1b2e"
      },
      "cell_type": "code",
      "source": [
        "##Courtesy: https://www.linkedin.com/pulse/artificial-intelligence-how-do-neural-networks-work-better-vignali\n",
        "Image(url =\"https://i.stack.imgur.com/vPTf6.png\")"
      ],
      "execution_count": 0,
      "outputs": [
        {
          "output_type": "execute_result",
          "data": {
            "text/html": [
              "<img src=\"https://i.stack.imgur.com/vPTf6.png\"/>"
            ],
            "text/plain": [
              "<IPython.core.display.Image object>"
            ]
          },
          "metadata": {
            "tags": []
          },
          "execution_count": 95
        }
      ]
    },
    {
      "metadata": {
        "id": "t3epEveHLqrc",
        "colab_type": "code",
        "colab": {
          "base_uri": "https://localhost:8080/",
          "height": 37
        },
        "outputId": "7ce7ed97-6cb9-449f-e761-ced9097c73fa"
      },
      "cell_type": "code",
      "source": [
        "Image(url =\"https://media.licdn.com/mpr/mpr/AAEAAQAAAAAAAAo6AAAAJGNlNjZhZDhiLTNjNzktNGVmOS1iZGZlLWE1MmY5NWI5ODBmOQ.png\")"
      ],
      "execution_count": 0,
      "outputs": [
        {
          "output_type": "execute_result",
          "data": {
            "text/html": [
              "<img src=\"https://media.licdn.com/mpr/mpr/AAEAAQAAAAAAAAo6AAAAJGNlNjZhZDhiLTNjNzktNGVmOS1iZGZlLWE1MmY5NWI5ODBmOQ.png\"/>"
            ],
            "text/plain": [
              "<IPython.core.display.Image object>"
            ]
          },
          "metadata": {
            "tags": []
          },
          "execution_count": 96
        }
      ]
    },
    {
      "metadata": {
        "id": "Km-BTzJTLqre",
        "colab_type": "code",
        "colab": {
          "base_uri": "https://localhost:8080/",
          "height": 37
        },
        "outputId": "72d95166-bf17-4f16-ddb2-89da9034776e"
      },
      "cell_type": "code",
      "source": [
        "\n",
        "Image(url =\"https://media.licdn.com/mpr/mpr/AAEAAQAAAAAAAA2eAAAAJDY1ZWRkNmU5LThkNmQtNGU1YS1iNmUzLWEwNDc1NzE3MTJhMQ.png\")"
      ],
      "execution_count": 0,
      "outputs": [
        {
          "output_type": "execute_result",
          "data": {
            "text/html": [
              "<img src=\"https://media.licdn.com/mpr/mpr/AAEAAQAAAAAAAA2eAAAAJDY1ZWRkNmU5LThkNmQtNGU1YS1iNmUzLWEwNDc1NzE3MTJhMQ.png\"/>"
            ],
            "text/plain": [
              "<IPython.core.display.Image object>"
            ]
          },
          "metadata": {
            "tags": []
          },
          "execution_count": 97
        }
      ]
    },
    {
      "metadata": {
        "id": "mH-6bUbdLqrh",
        "colab_type": "code",
        "colab": {
          "base_uri": "https://localhost:8080/",
          "height": 37
        },
        "outputId": "54de01c6-6737-4836-a062-576bd2fbffd9"
      },
      "cell_type": "code",
      "source": [
        "Image(url =\"https://media.licdn.com/mpr/mpr/AAEAAQAAAAAAAAvOAAAAJDIzMGRiZGI3LTA1MzQtNDk1ZS1iZGIxLWY4Y2FkMWQ0MTQwYg.png\")"
      ],
      "execution_count": 0,
      "outputs": [
        {
          "output_type": "execute_result",
          "data": {
            "text/html": [
              "<img src=\"https://media.licdn.com/mpr/mpr/AAEAAQAAAAAAAAvOAAAAJDIzMGRiZGI3LTA1MzQtNDk1ZS1iZGIxLWY4Y2FkMWQ0MTQwYg.png\"/>"
            ],
            "text/plain": [
              "<IPython.core.display.Image object>"
            ]
          },
          "metadata": {
            "tags": []
          },
          "execution_count": 98
        }
      ]
    },
    {
      "metadata": {
        "id": "CMFFb-GMLqrj",
        "colab_type": "code",
        "colab": {
          "base_uri": "https://localhost:8080/",
          "height": 37
        },
        "outputId": "1e140265-e0a2-45d7-81ae-9950dd991073"
      },
      "cell_type": "code",
      "source": [
        "Image(url =\"https://media.licdn.com/mpr/mpr/AAEAAQAAAAAAAAqgAAAAJGU3YTkzNjM4LTk3YjYtNGE2Mi1iMTIyLTQ3MGU0YzNiMDc1Mw.png\")"
      ],
      "execution_count": 0,
      "outputs": [
        {
          "output_type": "execute_result",
          "data": {
            "text/html": [
              "<img src=\"https://media.licdn.com/mpr/mpr/AAEAAQAAAAAAAAqgAAAAJGU3YTkzNjM4LTk3YjYtNGE2Mi1iMTIyLTQ3MGU0YzNiMDc1Mw.png\"/>"
            ],
            "text/plain": [
              "<IPython.core.display.Image object>"
            ]
          },
          "metadata": {
            "tags": []
          },
          "execution_count": 99
        }
      ]
    },
    {
      "metadata": {
        "id": "P-QsHW8WLqrm",
        "colab_type": "code",
        "colab": {}
      },
      "cell_type": "code",
      "source": [
        "# Session\n",
        "sess = tf.Session()"
      ],
      "execution_count": 0,
      "outputs": []
    },
    {
      "metadata": {
        "id": "FHbrDXHmLqrp",
        "colab_type": "code",
        "colab": {}
      },
      "cell_type": "code",
      "source": [
        "# Interval / Epochs\n",
        "interval = 50\n",
        "epoch = 500"
      ],
      "execution_count": 0,
      "outputs": []
    },
    {
      "metadata": {
        "id": "AH5qqzY4Lqrs",
        "colab_type": "code",
        "colab": {}
      },
      "cell_type": "code",
      "source": [
        "# Initialize placeholders\n",
        "X_data = tf.placeholder(shape=[None, 4], dtype=tf.float32)\n",
        "y_target = tf.placeholder(shape=[None, 3], dtype=tf.float32)"
      ],
      "execution_count": 0,
      "outputs": []
    },
    {
      "metadata": {
        "id": "6rBwUxOTLqrx",
        "colab_type": "code",
        "colab": {}
      },
      "cell_type": "code",
      "source": [
        "# Input neurons : 4\n",
        "# Hidden neurons : 8\n",
        "# Output neurons : 3\n",
        "hidden_layer_nodes = 8\n",
        "\n",
        "# Create variables for Neural Network layers\n",
        "w1 = tf.Variable(tf.random_normal(shape=[4,hidden_layer_nodes])) # Inputs -> Hidden Layer\n",
        "b1 = tf.Variable(tf.random_normal(shape=[hidden_layer_nodes]))   # First Bias\n",
        "w2 = tf.Variable(tf.random_normal(shape=[hidden_layer_nodes,3])) # Hidden layer -> Outputs\n",
        "b2 = tf.Variable(tf.random_normal(shape=[3]))   # Second Bias"
      ],
      "execution_count": 0,
      "outputs": []
    },
    {
      "metadata": {
        "id": "C1o2HU5zLqr0",
        "colab_type": "code",
        "colab": {}
      },
      "cell_type": "code",
      "source": [
        "# Operations\n",
        "hidden_output = tf.nn.relu(tf.add(tf.matmul(X_data, w1), b1))\n",
        "final_output = tf.nn.softmax(tf.add(tf.matmul(hidden_output, w2), b2))"
      ],
      "execution_count": 0,
      "outputs": []
    },
    {
      "metadata": {
        "id": "MPVMqeTwLqsI",
        "colab_type": "text"
      },
      "cell_type": "markdown",
      "source": [
        "### Defining Cross Entropy Loss"
      ]
    },
    {
      "metadata": {
        "id": "AJNErPRYLqsK",
        "colab_type": "code",
        "colab": {
          "base_uri": "https://localhost:8080/",
          "height": 303
        },
        "outputId": "f3060906-405e-4cc4-d981-631054e828fe"
      },
      "cell_type": "code",
      "source": [
        "Image(url = \"https://theneuralperspective.files.wordpress.com/2016/10/screen-shot-2016-11-06-at-8-13-41-pm.png?w=620\")"
      ],
      "execution_count": 0,
      "outputs": [
        {
          "output_type": "execute_result",
          "data": {
            "text/html": [
              "<img src=\"https://theneuralperspective.files.wordpress.com/2016/10/screen-shot-2016-11-06-at-8-13-41-pm.png?w=620\"/>"
            ],
            "text/plain": [
              "<IPython.core.display.Image object>"
            ]
          },
          "metadata": {
            "tags": []
          },
          "execution_count": 105
        }
      ]
    },
    {
      "metadata": {
        "id": "hVXDPRakLqsN",
        "colab_type": "code",
        "colab": {
          "base_uri": "https://localhost:8080/",
          "height": 380
        },
        "outputId": "d48d23d2-b4b7-4c50-dc99-c0643dd2bc49"
      },
      "cell_type": "code",
      "source": [
        "Image(url=\"https://image.slidesharecdn.com/gentlestintrototensorflowpart3-160629045311/95/gentlest-introduction-to-tensorflow-part-3-71-638.jpg?cb=1486266200\")"
      ],
      "execution_count": 0,
      "outputs": [
        {
          "output_type": "execute_result",
          "data": {
            "text/html": [
              "<img src=\"https://image.slidesharecdn.com/gentlestintrototensorflowpart3-160629045311/95/gentlest-introduction-to-tensorflow-part-3-71-638.jpg?cb=1486266200\"/>"
            ],
            "text/plain": [
              "<IPython.core.display.Image object>"
            ]
          },
          "metadata": {
            "tags": []
          },
          "execution_count": 106
        }
      ]
    },
    {
      "metadata": {
        "id": "Upf3K_2MLqsP",
        "colab_type": "code",
        "colab": {}
      },
      "cell_type": "code",
      "source": [
        "# Cost Function\n",
        "loss = tf.reduce_mean(-tf.reduce_sum(y_target * tf.log(final_output), axis=0))"
      ],
      "execution_count": 0,
      "outputs": []
    },
    {
      "metadata": {
        "id": "4_GncYcrLqsR",
        "colab_type": "code",
        "colab": {}
      },
      "cell_type": "code",
      "source": [
        "# Optimizer\n",
        "optimizer = tf.train.GradientDescentOptimizer(learning_rate=0.001).minimize(loss)"
      ],
      "execution_count": 0,
      "outputs": []
    },
    {
      "metadata": {
        "id": "0wqJ-3xVLqsS",
        "colab_type": "code",
        "colab": {}
      },
      "cell_type": "code",
      "source": [
        "# Initialize variables\n",
        "init = tf.global_variables_initializer()\n",
        "sess.run(init)"
      ],
      "execution_count": 0,
      "outputs": []
    },
    {
      "metadata": {
        "id": "vMxrBc8ZLqsU",
        "colab_type": "code",
        "colab": {
          "base_uri": "https://localhost:8080/",
          "height": 204
        },
        "outputId": "fcbd3ac7-7c45-4390-c2bf-817b3de63473"
      },
      "cell_type": "code",
      "source": [
        "# Training\n",
        "print('Training the model...')\n",
        "for i in range(1, (epoch + 1)):\n",
        "    sess.run(optimizer, feed_dict={X_data: X_train, y_target: Y_train})\n",
        "    if i % interval == 0:\n",
        "        print('Epoch', i, '|', 'Loss:', sess.run(loss, feed_dict={X_data: X_train, y_target: Y_train}))"
      ],
      "execution_count": 0,
      "outputs": [
        {
          "output_type": "stream",
          "text": [
            "Training the model...\n",
            "Epoch 50 | Loss: 17.541014\n",
            "Epoch 100 | Loss: 9.546686\n",
            "Epoch 150 | Loss: 6.6716447\n",
            "Epoch 200 | Loss: 5.978815\n",
            "Epoch 250 | Loss: 5.4554296\n",
            "Epoch 300 | Loss: 5.0394535\n",
            "Epoch 350 | Loss: 4.6999993\n",
            "Epoch 400 | Loss: 4.417193\n",
            "Epoch 450 | Loss: 4.177915\n",
            "Epoch 500 | Loss: 3.973344\n"
          ],
          "name": "stdout"
        }
      ]
    },
    {
      "metadata": {
        "id": "YgwcHSMhLqsV",
        "colab_type": "code",
        "colab": {
          "base_uri": "https://localhost:8080/",
          "height": 884
        },
        "outputId": "cec1317a-071e-4791-d33d-8329c59753a4"
      },
      "cell_type": "code",
      "source": [
        "# Prediction\n",
        "import numpy as np\n",
        "print()\n",
        "for i in range(len(X_test)):\n",
        "    print('Actual:', Y_test[i], 'Predicted:', np.rint(sess.run(final_output, feed_dict={X_data: [X_test[i]]})))"
      ],
      "execution_count": 0,
      "outputs": [
        {
          "output_type": "stream",
          "text": [
            "\n",
            "Actual: [0. 0. 1.] Predicted: [[0. 0. 1.]]\n",
            "Actual: [0. 1. 0.] Predicted: [[0. 1. 0.]]\n",
            "Actual: [1. 0. 0.] Predicted: [[1. 0. 0.]]\n",
            "Actual: [0. 1. 0.] Predicted: [[0. 1. 0.]]\n",
            "Actual: [0. 0. 1.] Predicted: [[0. 0. 1.]]\n",
            "Actual: [1. 0. 0.] Predicted: [[1. 0. 0.]]\n",
            "Actual: [0. 1. 0.] Predicted: [[0. 1. 0.]]\n",
            "Actual: [0. 1. 0.] Predicted: [[0. 1. 0.]]\n",
            "Actual: [1. 0. 0.] Predicted: [[1. 0. 0.]]\n",
            "Actual: [0. 1. 0.] Predicted: [[0. 1. 0.]]\n",
            "Actual: [0. 1. 0.] Predicted: [[0. 1. 0.]]\n",
            "Actual: [0. 1. 0.] Predicted: [[0. 1. 0.]]\n",
            "Actual: [1. 0. 0.] Predicted: [[1. 0. 0.]]\n",
            "Actual: [0. 0. 1.] Predicted: [[0. 0. 1.]]\n",
            "Actual: [1. 0. 0.] Predicted: [[1. 0. 0.]]\n",
            "Actual: [0. 1. 0.] Predicted: [[0. 0. 1.]]\n",
            "Actual: [0. 0. 1.] Predicted: [[0. 0. 1.]]\n",
            "Actual: [0. 0. 1.] Predicted: [[0. 0. 1.]]\n",
            "Actual: [1. 0. 0.] Predicted: [[1. 0. 0.]]\n",
            "Actual: [1. 0. 0.] Predicted: [[1. 0. 0.]]\n",
            "Actual: [0. 1. 0.] Predicted: [[0. 1. 0.]]\n",
            "Actual: [0. 0. 1.] Predicted: [[0. 0. 1.]]\n",
            "Actual: [0. 1. 0.] Predicted: [[0. 1. 0.]]\n",
            "Actual: [0. 0. 1.] Predicted: [[0. 0. 1.]]\n",
            "Actual: [0. 0. 1.] Predicted: [[0. 1. 0.]]\n",
            "Actual: [0. 0. 1.] Predicted: [[0. 0. 1.]]\n",
            "Actual: [0. 1. 0.] Predicted: [[0. 1. 0.]]\n",
            "Actual: [0. 1. 0.] Predicted: [[0. 1. 0.]]\n",
            "Actual: [0. 0. 1.] Predicted: [[0. 0. 1.]]\n",
            "Actual: [0. 0. 1.] Predicted: [[0. 0. 1.]]\n",
            "Actual: [0. 0. 1.] Predicted: [[0. 0. 1.]]\n",
            "Actual: [0. 1. 0.] Predicted: [[0. 1. 0.]]\n",
            "Actual: [1. 0. 0.] Predicted: [[1. 0. 0.]]\n",
            "Actual: [0. 0. 1.] Predicted: [[0. 0. 1.]]\n",
            "Actual: [0. 1. 0.] Predicted: [[0. 1. 0.]]\n",
            "Actual: [1. 0. 0.] Predicted: [[1. 0. 0.]]\n",
            "Actual: [1. 0. 0.] Predicted: [[1. 0. 0.]]\n",
            "Actual: [1. 0. 0.] Predicted: [[1. 0. 0.]]\n",
            "Actual: [1. 0. 0.] Predicted: [[1. 0. 0.]]\n",
            "Actual: [0. 0. 1.] Predicted: [[0. 0. 1.]]\n",
            "Actual: [0. 0. 1.] Predicted: [[0. 0. 1.]]\n",
            "Actual: [0. 1. 0.] Predicted: [[0. 1. 0.]]\n",
            "Actual: [0. 0. 1.] Predicted: [[0. 0. 1.]]\n",
            "Actual: [0. 0. 1.] Predicted: [[0. 0. 1.]]\n",
            "Actual: [0. 1. 0.] Predicted: [[0. 1. 0.]]\n",
            "Actual: [1. 0. 0.] Predicted: [[1. 0. 0.]]\n",
            "Actual: [0. 1. 0.] Predicted: [[0. 1. 0.]]\n",
            "Actual: [0. 1. 0.] Predicted: [[0. 1. 0.]]\n",
            "Actual: [0. 0. 1.] Predicted: [[0. 0. 1.]]\n",
            "Actual: [1. 0. 0.] Predicted: [[1. 0. 0.]]\n"
          ],
          "name": "stdout"
        }
      ]
    },
    {
      "metadata": {
        "id": "BY_63sVDLqsX",
        "colab_type": "code",
        "colab": {}
      },
      "cell_type": "code",
      "source": [
        "predicted_tf=(np.rint(sess.run(final_output, feed_dict={X_data: X_test})))"
      ],
      "execution_count": 0,
      "outputs": []
    },
    {
      "metadata": {
        "id": "94fLnGLTLqsa",
        "colab_type": "code",
        "colab": {
          "base_uri": "https://localhost:8080/",
          "height": 34
        },
        "outputId": "aa8162ce-d1dd-49ee-805e-306235f96900"
      },
      "cell_type": "code",
      "source": [
        "#Multioutput Classification Metrics.\n",
        "#http://scikit-learn.org/stable/modules/model_evaluation.html#multilabel-ranking-metrics\n",
        "from sklearn.metrics import label_ranking_average_precision_score\n",
        "print(label_ranking_average_precision_score(Y_test, predicted_tf))"
      ],
      "execution_count": 0,
      "outputs": [
        {
          "output_type": "stream",
          "text": [
            "0.9733333333333334\n"
          ],
          "name": "stdout"
        }
      ]
    },
    {
      "metadata": {
        "id": "2eSNqZ8BLqsh",
        "colab_type": "text"
      },
      "cell_type": "markdown",
      "source": [
        "## Decision Tree"
      ]
    },
    {
      "metadata": {
        "id": "sWOoR7ifLqsi",
        "colab_type": "text"
      },
      "cell_type": "markdown",
      "source": [
        "http://www.ke.tu-darmstadt.de/lehre/archiv/ws0809/mldm/dt.pdf"
      ]
    },
    {
      "metadata": {
        "id": "TTGnatvULqsj",
        "colab_type": "text"
      },
      "cell_type": "markdown",
      "source": [
        "## Ref: http://www.saedsayad.com/decision_tree.htm\n",
        "\n",
        "Decision tree builds classification or regression models in the form of a tree structure. It breaks down a dataset into smaller and smaller subsets while at the same time an associated decision tree is incrementally developed. The final result is a tree with decision nodes and leaf nodes. A decision node (e.g., Outlook) has two or more branches (e.g., Sunny, Overcast and Rainy). Leaf node (e.g., Play) represents a classification or decision. The topmost decision node in a tree which corresponds to the best predictor called root node. Decision trees can handle both categorical and numerical data."
      ]
    },
    {
      "metadata": {
        "id": "wUmyLdkVLqsk",
        "colab_type": "code",
        "colab": {
          "base_uri": "https://localhost:8080/",
          "height": 269
        },
        "outputId": "04e67622-f923-4548-b54d-950700650a1a"
      },
      "cell_type": "code",
      "source": [
        "Image(url=\"http://www.saedsayad.com/images/Decision_Tree_1.png\")"
      ],
      "execution_count": 0,
      "outputs": [
        {
          "output_type": "execute_result",
          "data": {
            "text/html": [
              "<img src=\"http://www.saedsayad.com/images/Decision_Tree_1.png\"/>"
            ],
            "text/plain": [
              "<IPython.core.display.Image object>"
            ]
          },
          "metadata": {
            "tags": []
          },
          "execution_count": 114
        }
      ]
    },
    {
      "metadata": {
        "id": "h8iokWZlLqsm",
        "colab_type": "code",
        "colab": {}
      },
      "cell_type": "code",
      "source": [
        "from sklearn.datasets import load_iris\n",
        "from sklearn import tree\n",
        "iris = load_iris()\n",
        "clf = tree.DecisionTreeClassifier()\n",
        "clf = clf.fit(iris.data, iris.target)"
      ],
      "execution_count": 0,
      "outputs": []
    },
    {
      "metadata": {
        "id": "ogB_963ULqsn",
        "colab_type": "code",
        "colab": {
          "base_uri": "https://localhost:8080/",
          "height": 2074
        },
        "outputId": "dc2753e8-8f87-4661-b9dd-96f43ee8ea43"
      },
      "cell_type": "code",
      "source": [
        "# https://pypi.python.org/pypi/pydot\n",
        "#Setting up graphviz (2.38.0-16ubuntu2) ...\n",
        "#Processing triggers for libc-bin (2.26-0ubuntu2.1) ...\n",
        "!apt-get -qq install -y graphviz && pip install -q pydot\n",
        "import pydot\n",
        "!pip3 install graphviz\n",
        "import graphviz \n",
        "dot_data = tree.export_graphviz(clf, out_file=None) \n",
        "graph = graphviz.Source(dot_data) \n",
        "graph.render(\"iris\")"
      ],
      "execution_count": 0,
      "outputs": [
        {
          "output_type": "stream",
          "text": [
            "Selecting previously unselected package fontconfig.\r\n",
            "(Reading database ... \r(Reading database ... 5%\r(Reading database ... 10%\r(Reading database ... 15%\r(Reading database ... 20%\r(Reading database ... 25%\r(Reading database ... 30%\r(Reading database ... 35%\r(Reading database ... 40%\r(Reading database ... 45%\r(Reading database ... 50%\r(Reading database ... 55%\r(Reading database ... 60%\r(Reading database ... 65%\r(Reading database ... 70%\r(Reading database ... 75%\r(Reading database ... 80%\r(Reading database ... 85%\r(Reading database ... 90%\r(Reading database ... 95%\r(Reading database ... 100%\r(Reading database ... 18298 files and directories currently installed.)\r\n",
            "Preparing to unpack .../00-fontconfig_2.11.94-0ubuntu2_amd64.deb ...\n",
            "Unpacking fontconfig (2.11.94-0ubuntu2) ...\n",
            "Selecting previously unselected package libjbig0:amd64.\n",
            "Preparing to unpack .../01-libjbig0_2.1-3.1_amd64.deb ...\n",
            "Unpacking libjbig0:amd64 (2.1-3.1) ...\n",
            "Selecting previously unselected package libcdt5.\n",
            "Preparing to unpack .../02-libcdt5_2.38.0-16ubuntu2_amd64.deb ...\n",
            "Unpacking libcdt5 (2.38.0-16ubuntu2) ...\n",
            "Selecting previously unselected package libcgraph6.\n",
            "Preparing to unpack .../03-libcgraph6_2.38.0-16ubuntu2_amd64.deb ...\n",
            "Unpacking libcgraph6 (2.38.0-16ubuntu2) ...\n",
            "Selecting previously unselected package libtiff5:amd64.\n",
            "Preparing to unpack .../04-libtiff5_4.0.8-5ubuntu0.1_amd64.deb ...\n",
            "Unpacking libtiff5:amd64 (4.0.8-5ubuntu0.1) ...\n",
            "Selecting previously unselected package libwebp6:amd64.\n",
            "Preparing to unpack .../05-libwebp6_0.6.0-3_amd64.deb ...\n",
            "Unpacking libwebp6:amd64 (0.6.0-3) ...\n",
            "Selecting previously unselected package libxpm4:amd64.\n",
            "Preparing to unpack .../06-libxpm4_1%3a3.5.12-1_amd64.deb ...\n",
            "Unpacking libxpm4:amd64 (1:3.5.12-1) ...\n",
            "Selecting previously unselected package libgd3:amd64.\n",
            "Preparing to unpack .../07-libgd3_2.2.5-3_amd64.deb ...\n",
            "Unpacking libgd3:amd64 (2.2.5-3) ...\n",
            "Selecting previously unselected package libpixman-1-0:amd64.\n",
            "Preparing to unpack .../08-libpixman-1-0_0.34.0-1_amd64.deb ...\n",
            "Unpacking libpixman-1-0:amd64 (0.34.0-1) ...\n",
            "Selecting previously unselected package libxcb-render0:amd64.\n",
            "Preparing to unpack .../09-libxcb-render0_1.12-1ubuntu1_amd64.deb ...\n",
            "Unpacking libxcb-render0:amd64 (1.12-1ubuntu1) ...\n",
            "Selecting previously unselected package libxcb-shm0:amd64.\n",
            "Preparing to unpack .../10-libxcb-shm0_1.12-1ubuntu1_amd64.deb ...\n",
            "Unpacking libxcb-shm0:amd64 (1.12-1ubuntu1) ...\n",
            "Selecting previously unselected package libcairo2:amd64.\n",
            "Preparing to unpack .../11-libcairo2_1.14.10-1ubuntu1_amd64.deb ...\n",
            "Unpacking libcairo2:amd64 (1.14.10-1ubuntu1) ...\n",
            "Selecting previously unselected package libltdl7:amd64.\n",
            "Preparing to unpack .../12-libltdl7_2.4.6-2_amd64.deb ...\n",
            "Unpacking libltdl7:amd64 (2.4.6-2) ...\n",
            "Selecting previously unselected package libthai-data.\n",
            "Preparing to unpack .../13-libthai-data_0.1.26-3_all.deb ...\n",
            "Unpacking libthai-data (0.1.26-3) ...\n",
            "Selecting previously unselected package libdatrie1:amd64.\n",
            "Preparing to unpack .../14-libdatrie1_0.2.10-5_amd64.deb ...\n",
            "Unpacking libdatrie1:amd64 (0.2.10-5) ...\n",
            "Selecting previously unselected package libthai0:amd64.\n",
            "Preparing to unpack .../15-libthai0_0.1.26-3_amd64.deb ...\n",
            "Unpacking libthai0:amd64 (0.1.26-3) ...\n",
            "Selecting previously unselected package libpango-1.0-0:amd64.\n",
            "Preparing to unpack .../16-libpango-1.0-0_1.40.12-1_amd64.deb ...\n",
            "Unpacking libpango-1.0-0:amd64 (1.40.12-1) ...\n",
            "Selecting previously unselected package libgraphite2-3:amd64.\n",
            "Preparing to unpack .../17-libgraphite2-3_1.3.10-2_amd64.deb ...\n",
            "Unpacking libgraphite2-3:amd64 (1.3.10-2) ...\n",
            "Selecting previously unselected package libharfbuzz0b:amd64.\n",
            "Preparing to unpack .../18-libharfbuzz0b_1.4.2-1_amd64.deb ...\n",
            "Unpacking libharfbuzz0b:amd64 (1.4.2-1) ...\n",
            "Selecting previously unselected package libpangoft2-1.0-0:amd64.\n",
            "Preparing to unpack .../19-libpangoft2-1.0-0_1.40.12-1_amd64.deb ...\n",
            "Unpacking libpangoft2-1.0-0:amd64 (1.40.12-1) ...\n",
            "Selecting previously unselected package libpangocairo-1.0-0:amd64.\n",
            "Preparing to unpack .../20-libpangocairo-1.0-0_1.40.12-1_amd64.deb ...\n",
            "Unpacking libpangocairo-1.0-0:amd64 (1.40.12-1) ...\n",
            "Selecting previously unselected package libpathplan4.\n",
            "Preparing to unpack .../21-libpathplan4_2.38.0-16ubuntu2_amd64.deb ...\n",
            "Unpacking libpathplan4 (2.38.0-16ubuntu2) ...\n",
            "Selecting previously unselected package libgvc6.\n",
            "Preparing to unpack .../22-libgvc6_2.38.0-16ubuntu2_amd64.deb ...\n",
            "Unpacking libgvc6 (2.38.0-16ubuntu2) ...\n",
            "Selecting previously unselected package libgvpr2.\n",
            "Preparing to unpack .../23-libgvpr2_2.38.0-16ubuntu2_amd64.deb ...\n",
            "Unpacking libgvpr2 (2.38.0-16ubuntu2) ...\n",
            "Selecting previously unselected package libxt6:amd64.\n",
            "Preparing to unpack .../24-libxt6_1%3a1.1.5-1_amd64.deb ...\n",
            "Unpacking libxt6:amd64 (1:1.1.5-1) ...\n",
            "Selecting previously unselected package libxmu6:amd64.\n",
            "Preparing to unpack .../25-libxmu6_2%3a1.1.2-2_amd64.deb ...\n",
            "Unpacking libxmu6:amd64 (2:1.1.2-2) ...\n",
            "Selecting previously unselected package libxaw7:amd64.\n",
            "Preparing to unpack .../26-libxaw7_2%3a1.0.13-1_amd64.deb ...\n",
            "Unpacking libxaw7:amd64 (2:1.0.13-1) ...\n"
          ],
          "name": "stdout"
        },
        {
          "output_type": "stream",
          "text": [
            "Selecting previously unselected package graphviz.\r\n",
            "Preparing to unpack .../27-graphviz_2.38.0-16ubuntu2_amd64.deb ...\r\n",
            "Unpacking graphviz (2.38.0-16ubuntu2) ...\n",
            "Setting up libpathplan4 (2.38.0-16ubuntu2) ...\n",
            "Setting up libxcb-render0:amd64 (1.12-1ubuntu1) ...\n",
            "Setting up libjbig0:amd64 (2.1-3.1) ...\n",
            "Setting up libdatrie1:amd64 (0.2.10-5) ...\n",
            "Setting up libtiff5:amd64 (4.0.8-5ubuntu0.1) ...\n",
            "Setting up libgraphite2-3:amd64 (1.3.10-2) ...\n",
            "Setting up libpixman-1-0:amd64 (0.34.0-1) ...\n",
            "Processing triggers for libc-bin (2.26-0ubuntu2.1) ...\n",
            "Setting up libltdl7:amd64 (2.4.6-2) ...\n",
            "Setting up libxcb-shm0:amd64 (1.12-1ubuntu1) ...\n",
            "Setting up libxpm4:amd64 (1:3.5.12-1) ...\n",
            "Setting up libxt6:amd64 (1:1.1.5-1) ...\n",
            "Setting up libthai-data (0.1.26-3) ...\n",
            "Setting up libcdt5 (2.38.0-16ubuntu2) ...\n",
            "Setting up fontconfig (2.11.94-0ubuntu2) ...\n",
            "Regenerating fonts cache... done.\n",
            "Setting up libcgraph6 (2.38.0-16ubuntu2) ...\n",
            "Setting up libwebp6:amd64 (0.6.0-3) ...\n",
            "Setting up libcairo2:amd64 (1.14.10-1ubuntu1) ...\n",
            "Setting up libgvpr2 (2.38.0-16ubuntu2) ...\n",
            "Setting up libgd3:amd64 (2.2.5-3) ...\n",
            "Setting up libharfbuzz0b:amd64 (1.4.2-1) ...\n",
            "Setting up libthai0:amd64 (0.1.26-3) ...\n",
            "Setting up libxmu6:amd64 (2:1.1.2-2) ...\n",
            "Setting up libpango-1.0-0:amd64 (1.40.12-1) ...\n",
            "Setting up libxaw7:amd64 (2:1.0.13-1) ...\n",
            "Setting up libpangoft2-1.0-0:amd64 (1.40.12-1) ...\n",
            "Setting up libpangocairo-1.0-0:amd64 (1.40.12-1) ...\n",
            "Setting up libgvc6 (2.38.0-16ubuntu2) ...\n",
            "Setting up graphviz (2.38.0-16ubuntu2) ...\n",
            "Processing triggers for libc-bin (2.26-0ubuntu2.1) ...\n",
            "Collecting graphviz\n",
            "  Downloading https://files.pythonhosted.org/packages/84/44/21a7fdd50841aaaef224b943f7d10df87e476e181bb926ccf859bcb53d48/graphviz-0.8.3-py2.py3-none-any.whl\n",
            "Installing collected packages: graphviz\n",
            "Successfully installed graphviz-0.8.3\n"
          ],
          "name": "stdout"
        },
        {
          "output_type": "execute_result",
          "data": {
            "text/plain": [
              "'iris.pdf'"
            ]
          },
          "metadata": {
            "tags": []
          },
          "execution_count": 116
        }
      ]
    },
    {
      "metadata": {
        "id": "95OLocbhWAkM",
        "colab_type": "code",
        "colab": {
          "base_uri": "https://localhost:8080/",
          "height": 221
        },
        "outputId": "d17f24fb-3da9-4461-d825-39a58262fe0d"
      },
      "cell_type": "code",
      "source": [
        "#iris.feature_names\n",
        "#['sepal length (cm)',\n",
        "# 'sepal width (cm)',\n",
        "# 'petal length (cm)',\n",
        "# 'petal width (cm)']\n",
        "petal_length=iris.data[:,2]\n",
        "np.sort(petal_length)"
      ],
      "execution_count": 0,
      "outputs": [
        {
          "output_type": "execute_result",
          "data": {
            "text/plain": [
              "array([1. , 1.1, 1.2, 1.2, 1.3, 1.3, 1.3, 1.3, 1.3, 1.3, 1.3, 1.4, 1.4,\n",
              "       1.4, 1.4, 1.4, 1.4, 1.4, 1.4, 1.4, 1.4, 1.4, 1.4, 1.5, 1.5, 1.5,\n",
              "       1.5, 1.5, 1.5, 1.5, 1.5, 1.5, 1.5, 1.5, 1.5, 1.5, 1.5, 1.6, 1.6,\n",
              "       1.6, 1.6, 1.6, 1.6, 1.6, 1.7, 1.7, 1.7, 1.7, 1.9, 1.9, 3. , 3.3,\n",
              "       3.3, 3.5, 3.5, 3.6, 3.7, 3.8, 3.9, 3.9, 3.9, 4. , 4. , 4. , 4. ,\n",
              "       4. , 4.1, 4.1, 4.1, 4.2, 4.2, 4.2, 4.2, 4.3, 4.3, 4.4, 4.4, 4.4,\n",
              "       4.4, 4.5, 4.5, 4.5, 4.5, 4.5, 4.5, 4.5, 4.5, 4.6, 4.6, 4.6, 4.7,\n",
              "       4.7, 4.7, 4.7, 4.7, 4.8, 4.8, 4.8, 4.8, 4.9, 4.9, 4.9, 4.9, 4.9,\n",
              "       5. , 5. , 5. , 5. , 5.1, 5.1, 5.1, 5.1, 5.1, 5.1, 5.1, 5.1, 5.2,\n",
              "       5.2, 5.3, 5.3, 5.4, 5.4, 5.5, 5.5, 5.5, 5.6, 5.6, 5.6, 5.6, 5.6,\n",
              "       5.6, 5.7, 5.7, 5.7, 5.8, 5.8, 5.8, 5.9, 5.9, 6. , 6. , 6.1, 6.1,\n",
              "       6.1, 6.3, 6.4, 6.6, 6.7, 6.7, 6.9])"
            ]
          },
          "metadata": {
            "tags": []
          },
          "execution_count": 117
        }
      ]
    },
    {
      "metadata": {
        "id": "eCauQCFgHiUr",
        "colab_type": "text"
      },
      "cell_type": "markdown",
      "source": [
        "How split happens in case of continuous attributes can be learnt from: [link text](http://www.cedar.buffalo.edu/~srihari/CSE574/Chap16/Chap16.2-DataSets.pdf)"
      ]
    },
    {
      "metadata": {
        "id": "oNLX9K9xLqsp",
        "colab_type": "code",
        "colab": {
          "base_uri": "https://localhost:8080/",
          "height": 916
        },
        "outputId": "03ea1e7f-4528-453a-e0b5-a657db2924f0"
      },
      "cell_type": "code",
      "source": [
        ">>> dot_data = tree.export_graphviz(clf, out_file=None, \n",
        "                         feature_names=iris.feature_names,  \n",
        "                         class_names=iris.target_names,  \n",
        "                         filled=True, rounded=True,  \n",
        "                         special_characters=True)  \n",
        ">>> graph = graphviz.Source(dot_data)  \n",
        ">>> graph "
      ],
      "execution_count": 0,
      "outputs": [
        {
          "output_type": "execute_result",
          "data": {
            "text/plain": [
              "<graphviz.files.Source at 0x7fd45effc438>"
            ],
            "image/svg+xml": "<?xml version=\"1.0\" encoding=\"UTF-8\" standalone=\"no\"?>\n<!DOCTYPE svg PUBLIC \"-//W3C//DTD SVG 1.1//EN\"\n \"http://www.w3.org/Graphics/SVG/1.1/DTD/svg11.dtd\">\n<!-- Generated by graphviz version 2.38.0 (20140413.2041)\n -->\n<!-- Title: Tree Pages: 1 -->\n<svg width=\"1012pt\" height=\"671pt\"\n viewBox=\"0.00 0.00 1012.00 671.00\" xmlns=\"http://www.w3.org/2000/svg\" xmlns:xlink=\"http://www.w3.org/1999/xlink\">\n<g id=\"graph0\" class=\"graph\" transform=\"scale(1 1) rotate(0) translate(4 667)\">\n<title>Tree</title>\n<polygon fill=\"white\" stroke=\"none\" points=\"-4,4 -4,-667 1008,-667 1008,4 -4,4\"/>\n<!-- 0 -->\n<g id=\"node1\" class=\"node\"><title>0</title>\n<path fill=\"none\" stroke=\"black\" d=\"M608,-663C608,-663 441,-663 441,-663 435,-663 429,-657 429,-651 429,-651 429,-592 429,-592 429,-586 435,-580 441,-580 441,-580 608,-580 608,-580 614,-580 620,-586 620,-592 620,-592 620,-651 620,-651 620,-657 614,-663 608,-663\"/>\n<text text-anchor=\"start\" x=\"437\" y=\"-647.8\" font-family=\"Helvetica,sans-Serif\" font-size=\"14.00\">petal length (cm) ≤ 2.45</text>\n<text text-anchor=\"start\" x=\"480.5\" y=\"-632.8\" font-family=\"Helvetica,sans-Serif\" font-size=\"14.00\">gini = 0.667</text>\n<text text-anchor=\"start\" x=\"470\" y=\"-617.8\" font-family=\"Helvetica,sans-Serif\" font-size=\"14.00\">samples = 150</text>\n<text text-anchor=\"start\" x=\"453\" y=\"-602.8\" font-family=\"Helvetica,sans-Serif\" font-size=\"14.00\">value = [50, 50, 50]</text>\n<text text-anchor=\"start\" x=\"472.5\" y=\"-587.8\" font-family=\"Helvetica,sans-Serif\" font-size=\"14.00\">class = setosa</text>\n</g>\n<!-- 1 -->\n<g id=\"node2\" class=\"node\"><title>1</title>\n<path fill=\"#e58139\" stroke=\"black\" d=\"M493,-536.5C493,-536.5 376,-536.5 376,-536.5 370,-536.5 364,-530.5 364,-524.5 364,-524.5 364,-480.5 364,-480.5 364,-474.5 370,-468.5 376,-468.5 376,-468.5 493,-468.5 493,-468.5 499,-468.5 505,-474.5 505,-480.5 505,-480.5 505,-524.5 505,-524.5 505,-530.5 499,-536.5 493,-536.5\"/>\n<text text-anchor=\"start\" x=\"399.5\" y=\"-521.3\" font-family=\"Helvetica,sans-Serif\" font-size=\"14.00\">gini = 0.0</text>\n<text text-anchor=\"start\" x=\"384.5\" y=\"-506.3\" font-family=\"Helvetica,sans-Serif\" font-size=\"14.00\">samples = 50</text>\n<text text-anchor=\"start\" x=\"372\" y=\"-491.3\" font-family=\"Helvetica,sans-Serif\" font-size=\"14.00\">value = [50, 0, 0]</text>\n<text text-anchor=\"start\" x=\"382.5\" y=\"-476.3\" font-family=\"Helvetica,sans-Serif\" font-size=\"14.00\">class = setosa</text>\n</g>\n<!-- 0&#45;&gt;1 -->\n<g id=\"edge1\" class=\"edge\"><title>0&#45;&gt;1</title>\n<path fill=\"none\" stroke=\"black\" d=\"M493.275,-579.907C484.532,-568.542 475.022,-556.178 466.249,-544.774\"/>\n<polygon fill=\"black\" stroke=\"black\" points=\"468.884,-542.459 460.013,-536.667 463.336,-546.727 468.884,-542.459\"/>\n<text text-anchor=\"middle\" x=\"456.78\" y=\"-557.757\" font-family=\"Helvetica,sans-Serif\" font-size=\"14.00\">True</text>\n</g>\n<!-- 2 -->\n<g id=\"node3\" class=\"node\"><title>2</title>\n<path fill=\"none\" stroke=\"black\" d=\"M696,-544C696,-544 535,-544 535,-544 529,-544 523,-538 523,-532 523,-532 523,-473 523,-473 523,-467 529,-461 535,-461 535,-461 696,-461 696,-461 702,-461 708,-467 708,-473 708,-473 708,-532 708,-532 708,-538 702,-544 696,-544\"/>\n<text text-anchor=\"start\" x=\"531\" y=\"-528.8\" font-family=\"Helvetica,sans-Serif\" font-size=\"14.00\">petal width (cm) ≤ 1.75</text>\n<text text-anchor=\"start\" x=\"580.5\" y=\"-513.8\" font-family=\"Helvetica,sans-Serif\" font-size=\"14.00\">gini = 0.5</text>\n<text text-anchor=\"start\" x=\"561\" y=\"-498.8\" font-family=\"Helvetica,sans-Serif\" font-size=\"14.00\">samples = 100</text>\n<text text-anchor=\"start\" x=\"548.5\" y=\"-483.8\" font-family=\"Helvetica,sans-Serif\" font-size=\"14.00\">value = [0, 50, 50]</text>\n<text text-anchor=\"start\" x=\"552\" y=\"-468.8\" font-family=\"Helvetica,sans-Serif\" font-size=\"14.00\">class = versicolor</text>\n</g>\n<!-- 0&#45;&gt;2 -->\n<g id=\"edge2\" class=\"edge\"><title>0&#45;&gt;2</title>\n<path fill=\"none\" stroke=\"black\" d=\"M556.072,-579.907C563.06,-570.923 570.533,-561.315 577.739,-552.05\"/>\n<polygon fill=\"black\" stroke=\"black\" points=\"580.607,-554.063 583.984,-544.021 575.082,-549.766 580.607,-554.063\"/>\n<text text-anchor=\"middle\" x=\"587.085\" y=\"-565.128\" font-family=\"Helvetica,sans-Serif\" font-size=\"14.00\">False</text>\n</g>\n<!-- 3 -->\n<g id=\"node4\" class=\"node\"><title>3</title>\n<path fill=\"#39e581\" fill-opacity=\"0.898039\" stroke=\"black\" d=\"M568,-425C568,-425 401,-425 401,-425 395,-425 389,-419 389,-413 389,-413 389,-354 389,-354 389,-348 395,-342 401,-342 401,-342 568,-342 568,-342 574,-342 580,-348 580,-354 580,-354 580,-413 580,-413 580,-419 574,-425 568,-425\"/>\n<text text-anchor=\"start\" x=\"397\" y=\"-409.8\" font-family=\"Helvetica,sans-Serif\" font-size=\"14.00\">petal length (cm) ≤ 4.95</text>\n<text text-anchor=\"start\" x=\"440.5\" y=\"-394.8\" font-family=\"Helvetica,sans-Serif\" font-size=\"14.00\">gini = 0.168</text>\n<text text-anchor=\"start\" x=\"434.5\" y=\"-379.8\" font-family=\"Helvetica,sans-Serif\" font-size=\"14.00\">samples = 54</text>\n<text text-anchor=\"start\" x=\"422\" y=\"-364.8\" font-family=\"Helvetica,sans-Serif\" font-size=\"14.00\">value = [0, 49, 5]</text>\n<text text-anchor=\"start\" x=\"421\" y=\"-349.8\" font-family=\"Helvetica,sans-Serif\" font-size=\"14.00\">class = versicolor</text>\n</g>\n<!-- 2&#45;&gt;3 -->\n<g id=\"edge3\" class=\"edge\"><title>2&#45;&gt;3</title>\n<path fill=\"none\" stroke=\"black\" d=\"M570.05,-460.907C559.584,-451.56 548.363,-441.538 537.604,-431.929\"/>\n<polygon fill=\"black\" stroke=\"black\" points=\"539.659,-429.072 529.869,-425.021 534.996,-434.293 539.659,-429.072\"/>\n</g>\n<!-- 12 -->\n<g id=\"node13\" class=\"node\"><title>12</title>\n<path fill=\"#8139e5\" fill-opacity=\"0.976471\" stroke=\"black\" d=\"M831,-425C831,-425 664,-425 664,-425 658,-425 652,-419 652,-413 652,-413 652,-354 652,-354 652,-348 658,-342 664,-342 664,-342 831,-342 831,-342 837,-342 843,-348 843,-354 843,-354 843,-413 843,-413 843,-419 837,-425 831,-425\"/>\n<text text-anchor=\"start\" x=\"660\" y=\"-409.8\" font-family=\"Helvetica,sans-Serif\" font-size=\"14.00\">petal length (cm) ≤ 4.85</text>\n<text text-anchor=\"start\" x=\"703.5\" y=\"-394.8\" font-family=\"Helvetica,sans-Serif\" font-size=\"14.00\">gini = 0.043</text>\n<text text-anchor=\"start\" x=\"697.5\" y=\"-379.8\" font-family=\"Helvetica,sans-Serif\" font-size=\"14.00\">samples = 46</text>\n<text text-anchor=\"start\" x=\"685\" y=\"-364.8\" font-family=\"Helvetica,sans-Serif\" font-size=\"14.00\">value = [0, 1, 45]</text>\n<text text-anchor=\"start\" x=\"689\" y=\"-349.8\" font-family=\"Helvetica,sans-Serif\" font-size=\"14.00\">class = virginica</text>\n</g>\n<!-- 2&#45;&gt;12 -->\n<g id=\"edge12\" class=\"edge\"><title>2&#45;&gt;12</title>\n<path fill=\"none\" stroke=\"black\" d=\"M661.297,-460.907C671.842,-451.56 683.15,-441.538 693.991,-431.929\"/>\n<polygon fill=\"black\" stroke=\"black\" points=\"696.622,-434.273 701.784,-425.021 691.979,-429.035 696.622,-434.273\"/>\n</g>\n<!-- 4 -->\n<g id=\"node5\" class=\"node\"><title>4</title>\n<path fill=\"#39e581\" fill-opacity=\"0.980392\" stroke=\"black\" d=\"M308,-306C308,-306 147,-306 147,-306 141,-306 135,-300 135,-294 135,-294 135,-235 135,-235 135,-229 141,-223 147,-223 147,-223 308,-223 308,-223 314,-223 320,-229 320,-235 320,-235 320,-294 320,-294 320,-300 314,-306 308,-306\"/>\n<text text-anchor=\"start\" x=\"143\" y=\"-290.8\" font-family=\"Helvetica,sans-Serif\" font-size=\"14.00\">petal width (cm) ≤ 1.65</text>\n<text text-anchor=\"start\" x=\"183.5\" y=\"-275.8\" font-family=\"Helvetica,sans-Serif\" font-size=\"14.00\">gini = 0.041</text>\n<text text-anchor=\"start\" x=\"177.5\" y=\"-260.8\" font-family=\"Helvetica,sans-Serif\" font-size=\"14.00\">samples = 48</text>\n<text text-anchor=\"start\" x=\"165\" y=\"-245.8\" font-family=\"Helvetica,sans-Serif\" font-size=\"14.00\">value = [0, 47, 1]</text>\n<text text-anchor=\"start\" x=\"164\" y=\"-230.8\" font-family=\"Helvetica,sans-Serif\" font-size=\"14.00\">class = versicolor</text>\n</g>\n<!-- 3&#45;&gt;4 -->\n<g id=\"edge4\" class=\"edge\"><title>3&#45;&gt;4</title>\n<path fill=\"none\" stroke=\"black\" d=\"M395.335,-341.907C372.909,-331.698 348.714,-320.683 325.866,-310.282\"/>\n<polygon fill=\"black\" stroke=\"black\" points=\"327.059,-306.979 316.507,-306.021 324.158,-313.35 327.059,-306.979\"/>\n</g>\n<!-- 7 -->\n<g id=\"node8\" class=\"node\"><title>7</title>\n<path fill=\"#8139e5\" fill-opacity=\"0.498039\" stroke=\"black\" d=\"M565,-306C565,-306 404,-306 404,-306 398,-306 392,-300 392,-294 392,-294 392,-235 392,-235 392,-229 398,-223 404,-223 404,-223 565,-223 565,-223 571,-223 577,-229 577,-235 577,-235 577,-294 577,-294 577,-300 571,-306 565,-306\"/>\n<text text-anchor=\"start\" x=\"400\" y=\"-290.8\" font-family=\"Helvetica,sans-Serif\" font-size=\"14.00\">petal width (cm) ≤ 1.55</text>\n<text text-anchor=\"start\" x=\"440.5\" y=\"-275.8\" font-family=\"Helvetica,sans-Serif\" font-size=\"14.00\">gini = 0.444</text>\n<text text-anchor=\"start\" x=\"439\" y=\"-260.8\" font-family=\"Helvetica,sans-Serif\" font-size=\"14.00\">samples = 6</text>\n<text text-anchor=\"start\" x=\"426.5\" y=\"-245.8\" font-family=\"Helvetica,sans-Serif\" font-size=\"14.00\">value = [0, 2, 4]</text>\n<text text-anchor=\"start\" x=\"426\" y=\"-230.8\" font-family=\"Helvetica,sans-Serif\" font-size=\"14.00\">class = virginica</text>\n</g>\n<!-- 3&#45;&gt;7 -->\n<g id=\"edge7\" class=\"edge\"><title>3&#45;&gt;7</title>\n<path fill=\"none\" stroke=\"black\" d=\"M484.5,-341.907C484.5,-333.649 484.5,-324.864 484.5,-316.302\"/>\n<polygon fill=\"black\" stroke=\"black\" points=\"488,-316.021 484.5,-306.021 481,-316.021 488,-316.021\"/>\n</g>\n<!-- 5 -->\n<g id=\"node6\" class=\"node\"><title>5</title>\n<path fill=\"#39e581\" stroke=\"black\" d=\"M131,-179.5C131,-179.5 12,-179.5 12,-179.5 6,-179.5 0,-173.5 0,-167.5 0,-167.5 0,-123.5 0,-123.5 0,-117.5 6,-111.5 12,-111.5 12,-111.5 131,-111.5 131,-111.5 137,-111.5 143,-117.5 143,-123.5 143,-123.5 143,-167.5 143,-167.5 143,-173.5 137,-179.5 131,-179.5\"/>\n<text text-anchor=\"start\" x=\"36.5\" y=\"-164.3\" font-family=\"Helvetica,sans-Serif\" font-size=\"14.00\">gini = 0.0</text>\n<text text-anchor=\"start\" x=\"21.5\" y=\"-149.3\" font-family=\"Helvetica,sans-Serif\" font-size=\"14.00\">samples = 47</text>\n<text text-anchor=\"start\" x=\"9\" y=\"-134.3\" font-family=\"Helvetica,sans-Serif\" font-size=\"14.00\">value = [0, 47, 0]</text>\n<text text-anchor=\"start\" x=\"8\" y=\"-119.3\" font-family=\"Helvetica,sans-Serif\" font-size=\"14.00\">class = versicolor</text>\n</g>\n<!-- 4&#45;&gt;5 -->\n<g id=\"edge5\" class=\"edge\"><title>4&#45;&gt;5</title>\n<path fill=\"none\" stroke=\"black\" d=\"M173.377,-222.907C157.34,-210.88 139.813,-197.735 123.888,-185.791\"/>\n<polygon fill=\"black\" stroke=\"black\" points=\"125.823,-182.867 115.723,-179.667 121.623,-188.467 125.823,-182.867\"/>\n</g>\n<!-- 6 -->\n<g id=\"node7\" class=\"node\"><title>6</title>\n<path fill=\"#8139e5\" stroke=\"black\" d=\"M282,-179.5C282,-179.5 173,-179.5 173,-179.5 167,-179.5 161,-173.5 161,-167.5 161,-167.5 161,-123.5 161,-123.5 161,-117.5 167,-111.5 173,-111.5 173,-111.5 282,-111.5 282,-111.5 288,-111.5 294,-117.5 294,-123.5 294,-123.5 294,-167.5 294,-167.5 294,-173.5 288,-179.5 282,-179.5\"/>\n<text text-anchor=\"start\" x=\"192.5\" y=\"-164.3\" font-family=\"Helvetica,sans-Serif\" font-size=\"14.00\">gini = 0.0</text>\n<text text-anchor=\"start\" x=\"182\" y=\"-149.3\" font-family=\"Helvetica,sans-Serif\" font-size=\"14.00\">samples = 1</text>\n<text text-anchor=\"start\" x=\"169.5\" y=\"-134.3\" font-family=\"Helvetica,sans-Serif\" font-size=\"14.00\">value = [0, 0, 1]</text>\n<text text-anchor=\"start\" x=\"169\" y=\"-119.3\" font-family=\"Helvetica,sans-Serif\" font-size=\"14.00\">class = virginica</text>\n</g>\n<!-- 4&#45;&gt;6 -->\n<g id=\"edge6\" class=\"edge\"><title>4&#45;&gt;6</title>\n<path fill=\"none\" stroke=\"black\" d=\"M227.5,-222.907C227.5,-212.204 227.5,-200.615 227.5,-189.776\"/>\n<polygon fill=\"black\" stroke=\"black\" points=\"231,-189.667 227.5,-179.667 224,-189.667 231,-189.667\"/>\n</g>\n<!-- 8 -->\n<g id=\"node9\" class=\"node\"><title>8</title>\n<path fill=\"#8139e5\" stroke=\"black\" d=\"M433,-179.5C433,-179.5 324,-179.5 324,-179.5 318,-179.5 312,-173.5 312,-167.5 312,-167.5 312,-123.5 312,-123.5 312,-117.5 318,-111.5 324,-111.5 324,-111.5 433,-111.5 433,-111.5 439,-111.5 445,-117.5 445,-123.5 445,-123.5 445,-167.5 445,-167.5 445,-173.5 439,-179.5 433,-179.5\"/>\n<text text-anchor=\"start\" x=\"343.5\" y=\"-164.3\" font-family=\"Helvetica,sans-Serif\" font-size=\"14.00\">gini = 0.0</text>\n<text text-anchor=\"start\" x=\"333\" y=\"-149.3\" font-family=\"Helvetica,sans-Serif\" font-size=\"14.00\">samples = 3</text>\n<text text-anchor=\"start\" x=\"320.5\" y=\"-134.3\" font-family=\"Helvetica,sans-Serif\" font-size=\"14.00\">value = [0, 0, 3]</text>\n<text text-anchor=\"start\" x=\"320\" y=\"-119.3\" font-family=\"Helvetica,sans-Serif\" font-size=\"14.00\">class = virginica</text>\n</g>\n<!-- 7&#45;&gt;8 -->\n<g id=\"edge8\" class=\"edge\"><title>7&#45;&gt;8</title>\n<path fill=\"none\" stroke=\"black\" d=\"M447.724,-222.907C437.227,-211.321 425.79,-198.698 415.292,-187.111\"/>\n<polygon fill=\"black\" stroke=\"black\" points=\"417.857,-184.728 408.549,-179.667 412.669,-189.428 417.857,-184.728\"/>\n</g>\n<!-- 9 -->\n<g id=\"node10\" class=\"node\"><title>9</title>\n<path fill=\"#39e581\" fill-opacity=\"0.498039\" stroke=\"black\" d=\"M645.5,-187C645.5,-187 475.5,-187 475.5,-187 469.5,-187 463.5,-181 463.5,-175 463.5,-175 463.5,-116 463.5,-116 463.5,-110 469.5,-104 475.5,-104 475.5,-104 645.5,-104 645.5,-104 651.5,-104 657.5,-110 657.5,-116 657.5,-116 657.5,-175 657.5,-175 657.5,-181 651.5,-187 645.5,-187\"/>\n<text text-anchor=\"start\" x=\"471.5\" y=\"-171.8\" font-family=\"Helvetica,sans-Serif\" font-size=\"14.00\">sepal length (cm) ≤ 6.95</text>\n<text text-anchor=\"start\" x=\"516.5\" y=\"-156.8\" font-family=\"Helvetica,sans-Serif\" font-size=\"14.00\">gini = 0.444</text>\n<text text-anchor=\"start\" x=\"515\" y=\"-141.8\" font-family=\"Helvetica,sans-Serif\" font-size=\"14.00\">samples = 3</text>\n<text text-anchor=\"start\" x=\"502.5\" y=\"-126.8\" font-family=\"Helvetica,sans-Serif\" font-size=\"14.00\">value = [0, 2, 1]</text>\n<text text-anchor=\"start\" x=\"497\" y=\"-111.8\" font-family=\"Helvetica,sans-Serif\" font-size=\"14.00\">class = versicolor</text>\n</g>\n<!-- 7&#45;&gt;9 -->\n<g id=\"edge9\" class=\"edge\"><title>7&#45;&gt;9</title>\n<path fill=\"none\" stroke=\"black\" d=\"M510.868,-222.907C516.586,-214.105 522.693,-204.703 528.598,-195.612\"/>\n<polygon fill=\"black\" stroke=\"black\" points=\"531.667,-197.313 534.179,-187.021 525.796,-193.5 531.667,-197.313\"/>\n</g>\n<!-- 10 -->\n<g id=\"node11\" class=\"node\"><title>10</title>\n<path fill=\"#39e581\" stroke=\"black\" d=\"M542,-68C542,-68 423,-68 423,-68 417,-68 411,-62 411,-56 411,-56 411,-12 411,-12 411,-6 417,-0 423,-0 423,-0 542,-0 542,-0 548,-0 554,-6 554,-12 554,-12 554,-56 554,-56 554,-62 548,-68 542,-68\"/>\n<text text-anchor=\"start\" x=\"447.5\" y=\"-52.8\" font-family=\"Helvetica,sans-Serif\" font-size=\"14.00\">gini = 0.0</text>\n<text text-anchor=\"start\" x=\"437\" y=\"-37.8\" font-family=\"Helvetica,sans-Serif\" font-size=\"14.00\">samples = 2</text>\n<text text-anchor=\"start\" x=\"424.5\" y=\"-22.8\" font-family=\"Helvetica,sans-Serif\" font-size=\"14.00\">value = [0, 2, 0]</text>\n<text text-anchor=\"start\" x=\"419\" y=\"-7.8\" font-family=\"Helvetica,sans-Serif\" font-size=\"14.00\">class = versicolor</text>\n</g>\n<!-- 9&#45;&gt;10 -->\n<g id=\"edge10\" class=\"edge\"><title>9&#45;&gt;10</title>\n<path fill=\"none\" stroke=\"black\" d=\"M531.456,-103.726C525.154,-94.879 518.48,-85.51 512.154,-76.6303\"/>\n<polygon fill=\"black\" stroke=\"black\" points=\"514.873,-74.4138 506.22,-68.2996 509.171,-78.4751 514.873,-74.4138\"/>\n</g>\n<!-- 11 -->\n<g id=\"node12\" class=\"node\"><title>11</title>\n<path fill=\"#8139e5\" stroke=\"black\" d=\"M693,-68C693,-68 584,-68 584,-68 578,-68 572,-62 572,-56 572,-56 572,-12 572,-12 572,-6 578,-0 584,-0 584,-0 693,-0 693,-0 699,-0 705,-6 705,-12 705,-12 705,-56 705,-56 705,-62 699,-68 693,-68\"/>\n<text text-anchor=\"start\" x=\"603.5\" y=\"-52.8\" font-family=\"Helvetica,sans-Serif\" font-size=\"14.00\">gini = 0.0</text>\n<text text-anchor=\"start\" x=\"593\" y=\"-37.8\" font-family=\"Helvetica,sans-Serif\" font-size=\"14.00\">samples = 1</text>\n<text text-anchor=\"start\" x=\"580.5\" y=\"-22.8\" font-family=\"Helvetica,sans-Serif\" font-size=\"14.00\">value = [0, 0, 1]</text>\n<text text-anchor=\"start\" x=\"580\" y=\"-7.8\" font-family=\"Helvetica,sans-Serif\" font-size=\"14.00\">class = virginica</text>\n</g>\n<!-- 9&#45;&gt;11 -->\n<g id=\"edge11\" class=\"edge\"><title>9&#45;&gt;11</title>\n<path fill=\"none\" stroke=\"black\" d=\"M589.544,-103.726C595.846,-94.879 602.52,-85.51 608.846,-76.6303\"/>\n<polygon fill=\"black\" stroke=\"black\" points=\"611.829,-78.4751 614.78,-68.2996 606.127,-74.4138 611.829,-78.4751\"/>\n</g>\n<!-- 13 -->\n<g id=\"node14\" class=\"node\"><title>13</title>\n<path fill=\"#8139e5\" fill-opacity=\"0.498039\" stroke=\"black\" d=\"M832.5,-306C832.5,-306 662.5,-306 662.5,-306 656.5,-306 650.5,-300 650.5,-294 650.5,-294 650.5,-235 650.5,-235 650.5,-229 656.5,-223 662.5,-223 662.5,-223 832.5,-223 832.5,-223 838.5,-223 844.5,-229 844.5,-235 844.5,-235 844.5,-294 844.5,-294 844.5,-300 838.5,-306 832.5,-306\"/>\n<text text-anchor=\"start\" x=\"658.5\" y=\"-290.8\" font-family=\"Helvetica,sans-Serif\" font-size=\"14.00\">sepal length (cm) ≤ 5.95</text>\n<text text-anchor=\"start\" x=\"703.5\" y=\"-275.8\" font-family=\"Helvetica,sans-Serif\" font-size=\"14.00\">gini = 0.444</text>\n<text text-anchor=\"start\" x=\"702\" y=\"-260.8\" font-family=\"Helvetica,sans-Serif\" font-size=\"14.00\">samples = 3</text>\n<text text-anchor=\"start\" x=\"689.5\" y=\"-245.8\" font-family=\"Helvetica,sans-Serif\" font-size=\"14.00\">value = [0, 1, 2]</text>\n<text text-anchor=\"start\" x=\"689\" y=\"-230.8\" font-family=\"Helvetica,sans-Serif\" font-size=\"14.00\">class = virginica</text>\n</g>\n<!-- 12&#45;&gt;13 -->\n<g id=\"edge13\" class=\"edge\"><title>12&#45;&gt;13</title>\n<path fill=\"none\" stroke=\"black\" d=\"M747.5,-341.907C747.5,-333.649 747.5,-324.864 747.5,-316.302\"/>\n<polygon fill=\"black\" stroke=\"black\" points=\"751,-316.021 747.5,-306.021 744,-316.021 751,-316.021\"/>\n</g>\n<!-- 16 -->\n<g id=\"node17\" class=\"node\"><title>16</title>\n<path fill=\"#8139e5\" stroke=\"black\" d=\"M992,-298.5C992,-298.5 875,-298.5 875,-298.5 869,-298.5 863,-292.5 863,-286.5 863,-286.5 863,-242.5 863,-242.5 863,-236.5 869,-230.5 875,-230.5 875,-230.5 992,-230.5 992,-230.5 998,-230.5 1004,-236.5 1004,-242.5 1004,-242.5 1004,-286.5 1004,-286.5 1004,-292.5 998,-298.5 992,-298.5\"/>\n<text text-anchor=\"start\" x=\"898.5\" y=\"-283.3\" font-family=\"Helvetica,sans-Serif\" font-size=\"14.00\">gini = 0.0</text>\n<text text-anchor=\"start\" x=\"883.5\" y=\"-268.3\" font-family=\"Helvetica,sans-Serif\" font-size=\"14.00\">samples = 43</text>\n<text text-anchor=\"start\" x=\"871\" y=\"-253.3\" font-family=\"Helvetica,sans-Serif\" font-size=\"14.00\">value = [0, 0, 43]</text>\n<text text-anchor=\"start\" x=\"875\" y=\"-238.3\" font-family=\"Helvetica,sans-Serif\" font-size=\"14.00\">class = virginica</text>\n</g>\n<!-- 12&#45;&gt;16 -->\n<g id=\"edge16\" class=\"edge\"><title>12&#45;&gt;16</title>\n<path fill=\"none\" stroke=\"black\" d=\"M812.032,-341.907C831.503,-329.659 852.818,-316.252 872.081,-304.135\"/>\n<polygon fill=\"black\" stroke=\"black\" points=\"874.172,-306.954 880.773,-298.667 870.445,-301.029 874.172,-306.954\"/>\n</g>\n<!-- 14 -->\n<g id=\"node15\" class=\"node\"><title>14</title>\n<path fill=\"#39e581\" stroke=\"black\" d=\"M807,-179.5C807,-179.5 688,-179.5 688,-179.5 682,-179.5 676,-173.5 676,-167.5 676,-167.5 676,-123.5 676,-123.5 676,-117.5 682,-111.5 688,-111.5 688,-111.5 807,-111.5 807,-111.5 813,-111.5 819,-117.5 819,-123.5 819,-123.5 819,-167.5 819,-167.5 819,-173.5 813,-179.5 807,-179.5\"/>\n<text text-anchor=\"start\" x=\"712.5\" y=\"-164.3\" font-family=\"Helvetica,sans-Serif\" font-size=\"14.00\">gini = 0.0</text>\n<text text-anchor=\"start\" x=\"702\" y=\"-149.3\" font-family=\"Helvetica,sans-Serif\" font-size=\"14.00\">samples = 1</text>\n<text text-anchor=\"start\" x=\"689.5\" y=\"-134.3\" font-family=\"Helvetica,sans-Serif\" font-size=\"14.00\">value = [0, 1, 0]</text>\n<text text-anchor=\"start\" x=\"684\" y=\"-119.3\" font-family=\"Helvetica,sans-Serif\" font-size=\"14.00\">class = versicolor</text>\n</g>\n<!-- 13&#45;&gt;14 -->\n<g id=\"edge14\" class=\"edge\"><title>13&#45;&gt;14</title>\n<path fill=\"none\" stroke=\"black\" d=\"M747.5,-222.907C747.5,-212.204 747.5,-200.615 747.5,-189.776\"/>\n<polygon fill=\"black\" stroke=\"black\" points=\"751,-189.667 747.5,-179.667 744,-189.667 751,-189.667\"/>\n</g>\n<!-- 15 -->\n<g id=\"node16\" class=\"node\"><title>15</title>\n<path fill=\"#8139e5\" stroke=\"black\" d=\"M958,-179.5C958,-179.5 849,-179.5 849,-179.5 843,-179.5 837,-173.5 837,-167.5 837,-167.5 837,-123.5 837,-123.5 837,-117.5 843,-111.5 849,-111.5 849,-111.5 958,-111.5 958,-111.5 964,-111.5 970,-117.5 970,-123.5 970,-123.5 970,-167.5 970,-167.5 970,-173.5 964,-179.5 958,-179.5\"/>\n<text text-anchor=\"start\" x=\"868.5\" y=\"-164.3\" font-family=\"Helvetica,sans-Serif\" font-size=\"14.00\">gini = 0.0</text>\n<text text-anchor=\"start\" x=\"858\" y=\"-149.3\" font-family=\"Helvetica,sans-Serif\" font-size=\"14.00\">samples = 2</text>\n<text text-anchor=\"start\" x=\"845.5\" y=\"-134.3\" font-family=\"Helvetica,sans-Serif\" font-size=\"14.00\">value = [0, 0, 2]</text>\n<text text-anchor=\"start\" x=\"845\" y=\"-119.3\" font-family=\"Helvetica,sans-Serif\" font-size=\"14.00\">class = virginica</text>\n</g>\n<!-- 13&#45;&gt;15 -->\n<g id=\"edge15\" class=\"edge\"><title>13&#45;&gt;15</title>\n<path fill=\"none\" stroke=\"black\" d=\"M801.623,-222.907C817.66,-210.88 835.187,-197.735 851.112,-185.791\"/>\n<polygon fill=\"black\" stroke=\"black\" points=\"853.377,-188.467 859.277,-179.667 849.177,-182.867 853.377,-188.467\"/>\n</g>\n</g>\n</svg>\n"
          },
          "metadata": {
            "tags": []
          },
          "execution_count": 118
        }
      ]
    }
  ]
}